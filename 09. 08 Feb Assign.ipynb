{
 "cells": [
  {
   "cell_type": "markdown",
   "id": "26cf221b-9ba5-4e78-8d00-f2b3baf91b56",
   "metadata": {},
   "source": [
    "08 FEB ASSIGNMENT"
   ]
  },
  {
   "cell_type": "markdown",
   "id": "23c866da-c60f-465a-8755-5ad722ce4707",
   "metadata": {},
   "source": [
    "1."
   ]
  },
  {
   "cell_type": "code",
   "execution_count": 1,
   "id": "23b65648-4526-46f1-968d-172520bf3937",
   "metadata": {},
   "outputs": [
    {
     "data": {
      "text/plain": [
       "' In Python, abstraction can be achieved through the use of classes and objects. A class is a blueprint for creating\\nobjects, while an object is an instance of a class. Abstraction in Python involves defining abstract classes or \\ninterfaces that provide a set of methods or properties that other classes can implement.'"
      ]
     },
     "execution_count": 1,
     "metadata": {},
     "output_type": "execute_result"
    }
   ],
   "source": [
    "'''Abstraction is a fundamental concept in OOP that allows you to focus on the essential features of an object\n",
    "or a system while ignoring the non-essential details. In other words, it's the process of hiding the complexity \n",
    "of a system and providing a simpler interface for users to interact with.'''\n",
    "\n",
    "''' In Python, abstraction can be achieved through the use of classes and objects. A class is a blueprint for creating\n",
    "objects, while an object is an instance of a class. Abstraction in Python involves defining abstract classes or \n",
    "interfaces that provide a set of methods or properties that other classes can implement.'''"
   ]
  },
  {
   "cell_type": "code",
   "execution_count": 2,
   "id": "7991a9a7-0a05-450c-87c9-218f5781b34c",
   "metadata": {},
   "outputs": [
    {
     "name": "stdout",
     "output_type": "stream",
     "text": [
      "Woof!\n",
      "Meow!\n"
     ]
    }
   ],
   "source": [
    "# Example:\n",
    "\n",
    "from abc import ABC, abstractmethod\n",
    "\n",
    "class Animal(ABC):\n",
    "    @abstractmethod\n",
    "    def make_sound(self):\n",
    "        pass\n",
    "\n",
    "class Dog(Animal):\n",
    "    def make_sound(self):\n",
    "        return \"Woof!\"\n",
    "\n",
    "class Cat(Animal):\n",
    "    def make_sound(self):\n",
    "        return \"Meow!\"\n",
    "\n",
    "dog = Dog()\n",
    "cat = Cat()\n",
    "\n",
    "print(dog.make_sound())  \n",
    "print(cat.make_sound())  "
   ]
  },
  {
   "cell_type": "markdown",
   "id": "cf444a60-4681-4fc4-a9ca-f86e7c18def0",
   "metadata": {},
   "source": [
    "2."
   ]
  },
  {
   "cell_type": "code",
   "execution_count": 3,
   "id": "d9c965ca-a07c-4007-a69f-1c30f8427ead",
   "metadata": {},
   "outputs": [
    {
     "data": {
      "text/plain": [
       "'Abstraction is the process of hiding the complexity of a system and providing a simpler interface for users to interact with.\\nIt focuses on the essential features of an object or a system while ignoring the non-essential details. \\nAbstraction can be achieved through the use of abstract classes or interfaces that provide a set of methods or properties that \\nother classes can implement.\\n\\nOn the other hand, Encapsulation is the process of hiding the internal details of an object and providing a public interface for\\nusers to interact with. It involves bundling data and methods together within a class and controlling access to them through public\\nand private access modifiers. The purpose of encapsulation is to prevent the direct access of the internal data and methods of an \\nobject from the outside.'"
      ]
     },
     "execution_count": 3,
     "metadata": {},
     "output_type": "execute_result"
    }
   ],
   "source": [
    "'''Abstraction is the process of hiding the complexity of a system and providing a simpler interface for users to interact with.\n",
    "It focuses on the essential features of an object or a system while ignoring the non-essential details. \n",
    "Abstraction can be achieved through the use of abstract classes or interfaces that provide a set of methods or properties that \n",
    "other classes can implement.\n",
    "\n",
    "On the other hand, Encapsulation is the process of hiding the internal details of an object and providing a public interface for\n",
    "users to interact with. It involves bundling data and methods together within a class and controlling access to them through public\n",
    "and private access modifiers. The purpose of encapsulation is to prevent the direct access of the internal data and methods of an \n",
    "object from the outside.'''"
   ]
  },
  {
   "cell_type": "code",
   "execution_count": 4,
   "id": "58e2d0a1-0e16-4277-8785-c502a5966a1b",
   "metadata": {},
   "outputs": [],
   "source": [
    "# Example of Abstraction:\n",
    "\n",
    "from abc import ABC, abstractmethod\n",
    "\n",
    "class Vehicle(ABC):\n",
    "    @abstractmethod\n",
    "    def start(self):\n",
    "        pass\n",
    "\n",
    "class Car(Vehicle):\n",
    "    def start(self):\n",
    "        print(\"Car started\")\n",
    "\n",
    "class Bike(Vehicle):\n",
    "    def start(self):\n",
    "        print(\"Bike started\")"
   ]
  },
  {
   "cell_type": "code",
   "execution_count": 5,
   "id": "23d87622-1fbf-4e89-88aa-ace7b08a292b",
   "metadata": {},
   "outputs": [
    {
     "name": "stdout",
     "output_type": "stream",
     "text": [
      "50000\n",
      "55000\n"
     ]
    }
   ],
   "source": [
    "# Example of Encapsulation:\n",
    "\n",
    "class Employee:\n",
    "    def __init__(self, name, salary):\n",
    "        self._name = name\n",
    "        self._salary = salary\n",
    "\n",
    "    def get_salary(self):\n",
    "        return self._salary\n",
    "\n",
    "    def set_salary(self, salary):\n",
    "        self._salary = salary\n",
    "\n",
    "emp = Employee(\"John\", 50000)\n",
    "\n",
    "print(emp.get_salary())  \n",
    "\n",
    "emp.set_salary(55000)\n",
    "\n",
    "print(emp.get_salary()) "
   ]
  },
  {
   "cell_type": "code",
   "execution_count": 8,
   "id": "3f4c3d2c-3c01-4f0c-a80a-ec8fe5beae2f",
   "metadata": {},
   "outputs": [
    {
     "data": {
      "text/plain": [
       "'Abstraction and Encapsulation are both important concepts in object-oriented programming, but they serve different purposes.Abstraction is about simplifying the interface for users by hiding the complexity of a system, while Encapsulation is about controlling access to the internal data and methods of an object.'"
      ]
     },
     "execution_count": 8,
     "metadata": {},
     "output_type": "execute_result"
    }
   ],
   "source": [
    "'''Abstraction and Encapsulation are both important concepts in object-oriented programming, but they serve different purposes.Abstraction is about simplifying the interface for users by hiding the complexity of a system, while Encapsulation is about controlling access to the internal data and methods of an object.'''"
   ]
  },
  {
   "cell_type": "markdown",
   "id": "555b06e3-6397-4c77-bb49-d2505c9bfd3f",
   "metadata": {},
   "source": [
    "3."
   ]
  },
  {
   "cell_type": "code",
   "execution_count": 12,
   "id": "f37c4617-ebf6-4080-862c-2a652d751e65",
   "metadata": {},
   "outputs": [
    {
     "data": {
      "text/plain": [
       "'The abc module in Python provides infrastructure for defining abstract base classes (ABCs) in Python. An abstract base class is a class that cannot be instantiated directly but provides an interface that other classes can inherit from. The purpose of abstract base classes is to provide a common interface that can be shared by multiple subclasses, even if they have different implementations.\\n\\n The abc module provides two key decorators, @abstractmethod and @abstractclassmethod, that can be used to define abstract methods and abstract class methods, respectively.'"
      ]
     },
     "execution_count": 12,
     "metadata": {},
     "output_type": "execute_result"
    }
   ],
   "source": [
    "\"\"\"The abc module in Python provides infrastructure for defining abstract base classes (ABCs) in Python. An abstract base class is a class that cannot be instantiated directly but provides an interface that other classes can inherit from. The purpose of abstract base classes is to provide a common interface that can be shared by multiple subclasses, even if they have different implementations.\n",
    "\n",
    " The abc module provides two key decorators, @abstractmethod and @abstractclassmethod, that can be used to define abstract methods and abstract class methods, respectively.\"\"\""
   ]
  },
  {
   "cell_type": "markdown",
   "id": "86c46037-dc73-4625-b100-6c7af677e472",
   "metadata": {},
   "source": [
    "4."
   ]
  },
  {
   "cell_type": "code",
   "execution_count": 16,
   "id": "aaa9f22f-1e6a-4132-96a8-7288d8799fe9",
   "metadata": {},
   "outputs": [
    {
     "data": {
      "text/plain": [
       "'Data abstraction is the process of hiding the implementation details of a data structure and providing a simplified interface for users to interact with. The purpose of data abstraction is to make it easier for users to work with the data structure without having to understand its internal details.\\n\\n In object-oriented programming, data abstraction can be achieved using classes and objects. The internal data of a class can be made private, and public methods can be provided to access and modify the data. This allows the class to control how the data can be accessed and modified, while providing a simple interface for users to work with.'"
      ]
     },
     "execution_count": 16,
     "metadata": {},
     "output_type": "execute_result"
    }
   ],
   "source": [
    "'''Data abstraction is the process of hiding the implementation details of a data structure and providing a simplified interface for users to interact with. The purpose of data abstraction is to make it easier for users to work with the data structure without having to understand its internal details.\n",
    "\n",
    " In object-oriented programming, data abstraction can be achieved using classes and objects. The internal data of a class can be made private, and public methods can be provided to access and modify the data. This allows the class to control how the data can be accessed and modified, while providing a simple interface for users to work with.'''"
   ]
  },
  {
   "cell_type": "markdown",
   "id": "2e2c22d2-8da2-48d8-8598-6b557572800d",
   "metadata": {},
   "source": [
    "5."
   ]
  },
  {
   "cell_type": "code",
   "execution_count": 17,
   "id": "a99e6197-a4e1-4036-bc0d-846f37b36331",
   "metadata": {},
   "outputs": [
    {
     "data": {
      "text/plain": [
       "'No, we cannot create an instance of an abstract class in Python. An abstract class is a class that is not meant to be instantiated directly, but instead is designed to be subclassed by other classes that provide concrete implementations of its methods.\\n\\n In Python, abstract classes are defined using the abc module and the ABC metaclass. The ABC metaclass provides the infrastructure for defining abstract methods and enforcing their implementation by subclasses.\\n\\n When a class inherits from an abstract class and does not implement all of its abstract methods, it also becomes an abstract class and cannot be instantiated directly. This means that we can only create instances of concrete subclasses that implement all the required abstract methods of the abstract base class.'"
      ]
     },
     "execution_count": 17,
     "metadata": {},
     "output_type": "execute_result"
    }
   ],
   "source": [
    "\"\"\"No, we cannot create an instance of an abstract class in Python. An abstract class is a class that is not meant to be instantiated directly, but instead is designed to be subclassed by other classes that provide concrete implementations of its methods.\n",
    "\n",
    " In Python, abstract classes are defined using the abc module and the ABC metaclass. The ABC metaclass provides the infrastructure for defining abstract methods and enforcing their implementation by subclasses.\n",
    "\n",
    " When a class inherits from an abstract class and does not implement all of its abstract methods, it also becomes an abstract class and cannot be instantiated directly. This means that we can only create instances of concrete subclasses that implement all the required abstract methods of the abstract base class.\"\"\""
   ]
  }
 ],
 "metadata": {
  "kernelspec": {
   "display_name": "Python 3 (ipykernel)",
   "language": "python",
   "name": "python3"
  },
  "language_info": {
   "codemirror_mode": {
    "name": "ipython",
    "version": 3
   },
   "file_extension": ".py",
   "mimetype": "text/x-python",
   "name": "python",
   "nbconvert_exporter": "python",
   "pygments_lexer": "ipython3",
   "version": "3.10.8"
  }
 },
 "nbformat": 4,
 "nbformat_minor": 5
}

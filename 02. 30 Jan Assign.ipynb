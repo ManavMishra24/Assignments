{
 "cells": [
  {
   "cell_type": "markdown",
   "id": "a12c87b5-f9a0-4d9f-b290-4937260a2683",
   "metadata": {},
   "source": [
    "30 JAN ASSIGNMENT"
   ]
  },
  {
   "cell_type": "markdown",
   "id": "5ce1a4e3-6e0f-4086-a864-0fd64102fde7",
   "metadata": {},
   "source": [
    "1)"
   ]
  },
  {
   "cell_type": "code",
   "execution_count": 2,
   "id": "16ca881c-188a-4c4f-a873-e3bb6bc11573",
   "metadata": {},
   "outputs": [
    {
     "name": "stdin",
     "output_type": "stream",
     "text": [
      "Enter the Percentage:  89\n"
     ]
    },
    {
     "name": "stdout",
     "output_type": "stream",
     "text": [
      "Grade B\n"
     ]
    }
   ],
   "source": [
    "marks = int(input(\"Enter the Percentage: \"))\n",
    "if marks > 90:\n",
    "    print(\"Grade A\")\n",
    "elif marks <= 90 and marks > 80:\n",
    "    print(\"Grade B\")\n",
    "elif marks <= 80 and marks >= 60:\n",
    "    print(\"Grade C\")\n",
    "elif marks < 60:\n",
    "    print(\"Grade D\")"
   ]
  },
  {
   "cell_type": "markdown",
   "id": "a1700d9d-446c-4df6-8c29-b38e8c489992",
   "metadata": {},
   "source": [
    "2)"
   ]
  },
  {
   "cell_type": "code",
   "execution_count": 3,
   "id": "35799557-a347-47ef-a10f-a23aaa1a6984",
   "metadata": {},
   "outputs": [
    {
     "name": "stdin",
     "output_type": "stream",
     "text": [
      "Enter the Cost Price of Bike:  83000\n"
     ]
    },
    {
     "name": "stdout",
     "output_type": "stream",
     "text": [
      "Road Tax - 10%\n"
     ]
    }
   ],
   "source": [
    "cost_price_bike = int(input(\"Enter the Cost Price of Bike: \"))\n",
    "if cost_price_bike > 100000:\n",
    "    print(\"Road Tax - 15%\")\n",
    "elif cost_price_bike <= 100000 and cost_price_bike > 50000:\n",
    "    print(\"Road Tax - 10%\")\n",
    "elif cost_price_bike <= 50000:\n",
    "    print(\"Road Tax - 5%\")"
   ]
  },
  {
   "cell_type": "markdown",
   "id": "302e8737-148f-43de-a1ee-59ccbf894cdb",
   "metadata": {},
   "source": [
    "3)"
   ]
  },
  {
   "cell_type": "code",
   "execution_count": 4,
   "id": "d8d15106-6418-4867-aa31-23e8c2348f00",
   "metadata": {},
   "outputs": [
    {
     "name": "stdin",
     "output_type": "stream",
     "text": [
      "Enter the name of the city (Delhi / Agra / Jaipur):  Jaipur\n"
     ]
    },
    {
     "name": "stdout",
     "output_type": "stream",
     "text": [
      "Monument - Jal Mahal\n"
     ]
    }
   ],
   "source": [
    "city_name = input(\"Enter the name of the city (Delhi / Agra / Jaipur): \")\n",
    "if city_name == \"Delhi\":\n",
    "    print(\"Monument - Red Fort\")\n",
    "elif city_name == \"Agra\":\n",
    "    print(\"Monument - Taj Mahal\")\n",
    "elif city_name == \"Jaipur\":\n",
    "    print(\"Monument - Jal Mahal\")"
   ]
  },
  {
   "cell_type": "markdown",
   "id": "b2c88e0b-aa7c-4740-8375-f688df7c1806",
   "metadata": {},
   "source": [
    "4)"
   ]
  },
  {
   "cell_type": "code",
   "execution_count": 5,
   "id": "506b8e05-079d-4331-a208-8aa35535d535",
   "metadata": {},
   "outputs": [
    {
     "name": "stdin",
     "output_type": "stream",
     "text": [
      "Enter the number:  81\n"
     ]
    },
    {
     "name": "stdout",
     "output_type": "stream",
     "text": [
      "2\n"
     ]
    }
   ],
   "source": [
    "num = int(input(\"Enter the number: \"))\n",
    "count = 0\n",
    "while num > 10:\n",
    "          num = num/3\n",
    "          count = count + 1\n",
    "print(count)"
   ]
  },
  {
   "cell_type": "markdown",
   "id": "46a68488-6b76-4949-a86a-1b307166b00b",
   "metadata": {},
   "source": [
    "5)"
   ]
  },
  {
   "cell_type": "markdown",
   "id": "460e57db-de4d-4a78-8228-9459846671ac",
   "metadata": {},
   "source": [
    "Why to use while loop?\n",
    "\n",
    "-> The while loop is used when we do not want to run the loop body even one time before checking the loop condition.\n",
    "\n",
    "When to use while loop?\n",
    "\n",
    "-> A While Loop is used to repeat a specific block of code an unknown number of times, until a condition is met."
   ]
  },
  {
   "cell_type": "code",
   "execution_count": 6,
   "id": "a1a28d1d-a740-45c6-9b88-177ea9016ab3",
   "metadata": {},
   "outputs": [
    {
     "name": "stdout",
     "output_type": "stream",
     "text": [
      "1\n",
      "2\n",
      "3\n",
      "4\n",
      "5\n"
     ]
    }
   ],
   "source": [
    "#Example:\n",
    "\n",
    "i = 1\n",
    "n = 5\n",
    "while i <= n:\n",
    "    print(i)\n",
    "    i = i + 1"
   ]
  },
  {
   "cell_type": "markdown",
   "id": "de7de064-a871-4771-9910-d33816d209df",
   "metadata": {},
   "source": [
    "6)"
   ]
  },
  {
   "cell_type": "code",
   "execution_count": 11,
   "id": "471978f7-78b9-43c3-92ca-af02fc9aca3a",
   "metadata": {},
   "outputs": [
    {
     "name": "stdout",
     "output_type": "stream",
     "text": [
      "* \n",
      "* * \n",
      "* * * \n",
      "* * * * \n",
      "* * * * * \n"
     ]
    }
   ],
   "source": [
    "#Nested While Loop Pattern - 1\n",
    "rows = 5\n",
    "for i in range(0, rows):\n",
    "    for j in range(0, i + 1):\n",
    "        print(\"*\", end=' ')\n",
    "    print(\"\\r\")"
   ]
  },
  {
   "cell_type": "code",
   "execution_count": 12,
   "id": "36567d97-5032-4ea2-a264-1a0477be6696",
   "metadata": {},
   "outputs": [
    {
     "name": "stdout",
     "output_type": "stream",
     "text": [
      "        * \n",
      "      * * \n",
      "    * * * \n",
      "  * * * * \n",
      "* * * * * \n"
     ]
    }
   ],
   "source": [
    "#Nested While Loop Pattern - 2\n",
    "rows = 5\n",
    "i = 1\n",
    "while i <= rows:\n",
    "    j = i\n",
    "    while j < rows:\n",
    "        # display space\n",
    "        print(' ', end=' ')\n",
    "        j += 1\n",
    "    k = 1\n",
    "    while k <= i:\n",
    "        print('*', end=' ')\n",
    "        k += 1\n",
    "    print()\n",
    "    i += 1"
   ]
  },
  {
   "cell_type": "code",
   "execution_count": 13,
   "id": "902828f2-03a2-4820-8160-77e51d3ab9c9",
   "metadata": {},
   "outputs": [
    {
     "name": "stdout",
     "output_type": "stream",
     "text": [
      "  * * * * * \n",
      "    * * * * \n",
      "      * * * \n",
      "        * * \n",
      "          * \n",
      "            \n"
     ]
    }
   ],
   "source": [
    "#Nested While Loop Pattern - 3\n",
    "rows = 6\n",
    "i = rows\n",
    "while i >= 1:\n",
    "    j = i\n",
    "    while j <= rows:\n",
    "        print(' ', end=' ')\n",
    "        j += 1\n",
    "    k = 1\n",
    "    while k < i:\n",
    "        print('*', end=' ')\n",
    "        k += 1\n",
    "    print('')\n",
    "    i -= 1"
   ]
  },
  {
   "cell_type": "markdown",
   "id": "3baaa656-f1ab-4176-9dc2-0bed6de5d48f",
   "metadata": {},
   "source": [
    "7)"
   ]
  },
  {
   "cell_type": "code",
   "execution_count": 14,
   "id": "69342c6f-cf85-4a5b-979b-350cae7774c8",
   "metadata": {},
   "outputs": [
    {
     "name": "stdout",
     "output_type": "stream",
     "text": [
      "10\n",
      "9\n",
      "8\n",
      "7\n",
      "6\n",
      "5\n",
      "4\n",
      "3\n",
      "2\n",
      "1\n"
     ]
    }
   ],
   "source": [
    "i = 10\n",
    "while i > 0:\n",
    "    print(i)\n",
    "    i = i - 1"
   ]
  },
  {
   "cell_type": "markdown",
   "id": "86f90eed-136c-4386-968f-7b83b7be26f8",
   "metadata": {},
   "source": [
    "8)"
   ]
  },
  {
   "cell_type": "code",
   "execution_count": 15,
   "id": "64520702-e102-4146-b1b3-0df51a3d2ca2",
   "metadata": {},
   "outputs": [
    {
     "name": "stdout",
     "output_type": "stream",
     "text": [
      "10\n",
      "9\n",
      "8\n",
      "7\n",
      "6\n",
      "5\n",
      "4\n",
      "3\n",
      "2\n",
      "1\n"
     ]
    }
   ],
   "source": [
    "i = 10\n",
    "while i > 0:\n",
    "    print(i)\n",
    "    i = i - 1"
   ]
  }
 ],
 "metadata": {
  "kernelspec": {
   "display_name": "Python 3 (ipykernel)",
   "language": "python",
   "name": "python3"
  },
  "language_info": {
   "codemirror_mode": {
    "name": "ipython",
    "version": 3
   },
   "file_extension": ".py",
   "mimetype": "text/x-python",
   "name": "python",
   "nbconvert_exporter": "python",
   "pygments_lexer": "ipython3",
   "version": "3.10.8"
  }
 },
 "nbformat": 4,
 "nbformat_minor": 5
}

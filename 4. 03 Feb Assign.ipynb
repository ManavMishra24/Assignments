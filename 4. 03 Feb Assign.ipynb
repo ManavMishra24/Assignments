{
 "cells": [
  {
   "cell_type": "markdown",
   "id": "762cf218-2385-4a99-a762-f616eb582a75",
   "metadata": {},
   "source": [
    "03 FEB ASSIGNMENT"
   ]
  },
  {
   "cell_type": "markdown",
   "id": "7961e517-0b71-4b6d-a539-d41720609150",
   "metadata": {},
   "source": [
    "1)"
   ]
  },
  {
   "cell_type": "code",
   "execution_count": null,
   "id": "31f1ad12-bc13-467b-9e67-55e88fab38f8",
   "metadata": {},
   "outputs": [],
   "source": [
    "#def keyword is used to create a function in Python."
   ]
  },
  {
   "cell_type": "code",
   "execution_count": 7,
   "id": "667c1f8d-9612-4eff-a85e-2bbba7d33be4",
   "metadata": {},
   "outputs": [],
   "source": [
    "l = []\n",
    "def odd():\n",
    "    i=1\n",
    "    for i in range(1, 26):\n",
    "        if i%2 != 0:\n",
    "            l.append(i)\n",
    "    print(l)    "
   ]
  },
  {
   "cell_type": "code",
   "execution_count": 8,
   "id": "ba511744-17a4-4da2-8d85-ae4b615304be",
   "metadata": {},
   "outputs": [
    {
     "name": "stdout",
     "output_type": "stream",
     "text": [
      "[1, 3, 5, 7, 9, 11, 13, 15, 17, 19, 21, 23, 25]\n"
     ]
    }
   ],
   "source": [
    "odd()"
   ]
  },
  {
   "cell_type": "markdown",
   "id": "1dd936fc-17c0-49ab-b3ac-267c40c62f29",
   "metadata": {},
   "source": [
    "2)"
   ]
  },
  {
   "cell_type": "code",
   "execution_count": 9,
   "id": "1362723e-de29-4751-80db-c1659040797f",
   "metadata": {},
   "outputs": [],
   "source": [
    "# *args and **kwargs allow you to pass multiple arguments or keyword arguments to a function.\n",
    "\n",
    "# The syntax is to use the symbol * to take in a variable number of arguments.\n",
    "# by convention, it is often used with the word args."
   ]
  },
  {
   "cell_type": "code",
   "execution_count": 10,
   "id": "b69f03ff-46af-42f7-a81a-f5e4b275f39c",
   "metadata": {},
   "outputs": [
    {
     "data": {
      "text/plain": [
       "(1, 2, 3, 4)"
      ]
     },
     "execution_count": 10,
     "metadata": {},
     "output_type": "execute_result"
    }
   ],
   "source": [
    "# For Example :\n",
    "\n",
    "def myFunc(*args):\n",
    "    return args\n",
    "\n",
    "myFunc(1,2,3,4)"
   ]
  },
  {
   "cell_type": "code",
   "execution_count": 11,
   "id": "7ed4d0c3-4543-4f0f-b664-789ff633544c",
   "metadata": {},
   "outputs": [],
   "source": [
    "# The special syntax **kwargs in function definitions in python is used to pass a keyworded, \n",
    "# variable-length argument list.\n",
    "\n",
    "# We use the name kwargs with the double star. \n",
    "\n",
    "# One can think of the kwargs as being a dictionary that maps each keyword to the value \n",
    "# that we pass alongside it."
   ]
  },
  {
   "cell_type": "code",
   "execution_count": 12,
   "id": "cfe4d96b-9b4a-4b65-9406-404186f9994c",
   "metadata": {},
   "outputs": [
    {
     "data": {
      "text/plain": [
       "{'a': 'Hello!',\n",
       " 'b': 'C-3PO',\n",
       " 'c': 'from',\n",
       " 'd': 'Star Wars IV',\n",
       " 'e': 'built',\n",
       " 'f': 'by',\n",
       " 'g': 'Skywalker'}"
      ]
     },
     "execution_count": 12,
     "metadata": {},
     "output_type": "execute_result"
    }
   ],
   "source": [
    "# For Example :\n",
    "    \n",
    "def my_Func(**kwargs):\n",
    "    return kwargs\n",
    "\n",
    "my_Func(a =\"Hello!\", b =\"C-3PO\", c =\"from\", d =\"Star Wars IV\", e =\"built\", f =\"by\", g =\"Skywalker\")"
   ]
  },
  {
   "cell_type": "markdown",
   "id": "d6828bb1-9664-4278-bb41-7afc6e451701",
   "metadata": {},
   "source": [
    "3)"
   ]
  },
  {
   "cell_type": "code",
   "execution_count": 14,
   "id": "dfedbcde-59de-454a-9599-a6bc42994f3a",
   "metadata": {},
   "outputs": [],
   "source": [
    "# Iterator in Python is an object that is used to iterate over iterable objects \n",
    "# like lists, tuples, dicts, and sets.\n",
    "\n",
    "# The iterator object is initialized using the iter() method. \n",
    "# It uses the next() method for iteration.\n",
    "\n",
    "# __iter__(): The iter() method is called for the initialization of an iterator. \n",
    "# This returns an iterator object.\n",
    "\n",
    "# __next__(): The next method returns the next value for the iterable."
   ]
  },
  {
   "cell_type": "code",
   "execution_count": 15,
   "id": "d8f8bf8b-58ba-4c6f-a847-2ab74dcdb31d",
   "metadata": {},
   "outputs": [],
   "source": [
    "l = [2,4,6,8,10,12,14,16,18,20]"
   ]
  },
  {
   "cell_type": "code",
   "execution_count": 16,
   "id": "99631d9f-cce3-4a41-8153-9e966bbe4f6d",
   "metadata": {},
   "outputs": [
    {
     "name": "stdout",
     "output_type": "stream",
     "text": [
      "2\n",
      "4\n",
      "6\n",
      "8\n",
      "10\n"
     ]
    }
   ],
   "source": [
    "i = iter(l)\n",
    "count = 0\n",
    "while count < 5:\n",
    "    ele = next(i)\n",
    "    print(ele)\n",
    "    count += 1"
   ]
  },
  {
   "cell_type": "markdown",
   "id": "987119e6-0d91-42a0-a08d-4af728ac8a00",
   "metadata": {},
   "source": [
    "4)"
   ]
  },
  {
   "cell_type": "code",
   "execution_count": 17,
   "id": "945cf706-157a-4514-baf1-a67d0d0efc79",
   "metadata": {},
   "outputs": [],
   "source": [
    "#  A generator-function is defined like a normal function, but whenever it needs to generate a value,\n",
    "#  it does so with the yield keyword rather than return.\n",
    "# If the body of a def contains yield, the function automatically becomes a generator function.\n",
    "\n",
    "# The yield statement suspends a function’s execution and sends a value back to the caller, but\n",
    "# retains enough state to enable the function to resume where it left off. \n",
    "# When the function resumes, it continues execution immediately after the last yield run.\n",
    "# Yield can produce a sequence of values. We should use yield when we want to iterate over a \n",
    "# sequence, but don’t want to store the entire sequence in memory."
   ]
  },
  {
   "cell_type": "code",
   "execution_count": 18,
   "id": "dd3858d2-e186-4aa7-9dfc-08b9c52fd02b",
   "metadata": {},
   "outputs": [],
   "source": [
    "# For Example :\n",
    "\n",
    "def fib(n):\n",
    "    a,b = 0,1\n",
    "    for i in range(n):\n",
    "        yield a \n",
    "        a,b = b , a+b"
   ]
  },
  {
   "cell_type": "code",
   "execution_count": 19,
   "id": "948b1251-095e-4d19-8be8-515ff48db7ad",
   "metadata": {},
   "outputs": [
    {
     "name": "stdout",
     "output_type": "stream",
     "text": [
      "0\n",
      "1\n",
      "1\n",
      "2\n",
      "3\n",
      "5\n",
      "8\n",
      "13\n",
      "21\n",
      "34\n"
     ]
    }
   ],
   "source": [
    "for i in fib(10):\n",
    "    print(i)"
   ]
  },
  {
   "cell_type": "markdown",
   "id": "c35514f4-4976-4d4a-be5e-1a508af0e223",
   "metadata": {},
   "source": [
    "5)"
   ]
  },
  {
   "cell_type": "code",
   "execution_count": 20,
   "id": "a860d12a-2194-4066-8f8c-6dedf607f79b",
   "metadata": {},
   "outputs": [],
   "source": [
    "def genprime():\n",
    "    for i in range(2,1000):\n",
    "        flag=0\n",
    "        for j in range(2,i):\n",
    "            if i%j==0:\n",
    "                flag=1\n",
    "        if flag==0:\n",
    "            yield(i)"
   ]
  },
  {
   "cell_type": "code",
   "execution_count": 21,
   "id": "02a9098c-9f45-42c6-93f9-b0b73d527570",
   "metadata": {},
   "outputs": [],
   "source": [
    "prime_num = genprime()"
   ]
  },
  {
   "cell_type": "code",
   "execution_count": 22,
   "id": "5196155a-31f0-4e34-af70-f5c36a0011e6",
   "metadata": {},
   "outputs": [
    {
     "data": {
      "text/plain": [
       "generator"
      ]
     },
     "execution_count": 22,
     "metadata": {},
     "output_type": "execute_result"
    }
   ],
   "source": [
    "type(prime_num)"
   ]
  },
  {
   "cell_type": "code",
   "execution_count": 23,
   "id": "02e3729a-0126-4511-bba3-aaef1e8c4eda",
   "metadata": {},
   "outputs": [
    {
     "name": "stdout",
     "output_type": "stream",
     "text": [
      "2\n",
      "3\n",
      "5\n",
      "7\n",
      "11\n",
      "13\n",
      "17\n",
      "19\n",
      "23\n",
      "29\n",
      "31\n",
      "37\n",
      "41\n",
      "43\n",
      "47\n",
      "53\n",
      "59\n",
      "61\n",
      "67\n",
      "71\n",
      "73\n"
     ]
    }
   ],
   "source": [
    "for i in range(21):\n",
    "    print(next(prime_num))"
   ]
  },
  {
   "cell_type": "markdown",
   "id": "bb954b7f-efb2-4c6e-a802-473d3a770636",
   "metadata": {},
   "source": [
    "6)"
   ]
  },
  {
   "cell_type": "code",
   "execution_count": 24,
   "id": "51e2d54f-d6a6-430c-98f8-260ed19ff99a",
   "metadata": {},
   "outputs": [
    {
     "name": "stdout",
     "output_type": "stream",
     "text": [
      "0\n",
      "1\n",
      "1\n",
      "2\n",
      "3\n",
      "5\n",
      "8\n",
      "13\n",
      "21\n"
     ]
    }
   ],
   "source": [
    "a, b = 0, 1\n",
    "count = 1\n",
    "while (count < 10) :\n",
    "    sum = a + b\n",
    "    print(a)\n",
    "    a = b\n",
    "    b = sum\n",
    "    count += 1"
   ]
  },
  {
   "cell_type": "markdown",
   "id": "21cc2445-dd8c-45ab-a4f6-f4e483057fe6",
   "metadata": {},
   "source": [
    "7)"
   ]
  },
  {
   "cell_type": "code",
   "execution_count": 25,
   "id": "068d0037-d66f-4638-ad48-6fd4cc6a2027",
   "metadata": {},
   "outputs": [],
   "source": [
    "str = \"pwskills\""
   ]
  },
  {
   "cell_type": "code",
   "execution_count": 26,
   "id": "51c70673-8508-4970-91d4-87df4cf2b203",
   "metadata": {},
   "outputs": [
    {
     "data": {
      "text/plain": [
       "['p', 'w', 's', 'k', 'i', 'l', 'l', 's']"
      ]
     },
     "execution_count": 26,
     "metadata": {},
     "output_type": "execute_result"
    }
   ],
   "source": [
    "[i for i in str]"
   ]
  },
  {
   "cell_type": "markdown",
   "id": "7a3f1e85-51e5-4e15-9062-f9cd36d9542e",
   "metadata": {},
   "source": [
    "8)"
   ]
  },
  {
   "cell_type": "code",
   "execution_count": 27,
   "id": "d2f781b8-5f31-4ad8-b586-eaa43089e334",
   "metadata": {},
   "outputs": [
    {
     "name": "stdin",
     "output_type": "stream",
     "text": [
      "Enter number:  2002\n"
     ]
    },
    {
     "name": "stdout",
     "output_type": "stream",
     "text": [
      "This value is a palindrome number!\n"
     ]
    }
   ],
   "source": [
    "num=int(input(\"Enter number: \"))\n",
    "rev=0\n",
    "temp=num\n",
    "while(num>0):\n",
    "    rem=num%10\n",
    "    rev=rev*10+rem\n",
    "    num=num//10\n",
    "if(temp == rev):  \n",
    "    print(\"This value is a palindrome number!\")  \n",
    "else:  \n",
    "    print(\"This value is not a palindrome number!\")"
   ]
  },
  {
   "cell_type": "markdown",
   "id": "705d981b-990a-4136-a6c6-ec28d6d1ce7b",
   "metadata": {},
   "source": [
    "9)"
   ]
  },
  {
   "cell_type": "code",
   "execution_count": 28,
   "id": "9ac37469-33cd-49a1-a37c-1221edffe707",
   "metadata": {},
   "outputs": [],
   "source": [
    "l = []\n",
    "for i in range(101):\n",
    "    l.append(i)"
   ]
  },
  {
   "cell_type": "code",
   "execution_count": 29,
   "id": "86a0bb66-9be2-4b16-b46d-7470d1e3d840",
   "metadata": {},
   "outputs": [
    {
     "data": {
      "text/plain": [
       "[0,\n",
       " 1,\n",
       " 2,\n",
       " 3,\n",
       " 4,\n",
       " 5,\n",
       " 6,\n",
       " 7,\n",
       " 8,\n",
       " 9,\n",
       " 10,\n",
       " 11,\n",
       " 12,\n",
       " 13,\n",
       " 14,\n",
       " 15,\n",
       " 16,\n",
       " 17,\n",
       " 18,\n",
       " 19,\n",
       " 20,\n",
       " 21,\n",
       " 22,\n",
       " 23,\n",
       " 24,\n",
       " 25,\n",
       " 26,\n",
       " 27,\n",
       " 28,\n",
       " 29,\n",
       " 30,\n",
       " 31,\n",
       " 32,\n",
       " 33,\n",
       " 34,\n",
       " 35,\n",
       " 36,\n",
       " 37,\n",
       " 38,\n",
       " 39,\n",
       " 40,\n",
       " 41,\n",
       " 42,\n",
       " 43,\n",
       " 44,\n",
       " 45,\n",
       " 46,\n",
       " 47,\n",
       " 48,\n",
       " 49,\n",
       " 50,\n",
       " 51,\n",
       " 52,\n",
       " 53,\n",
       " 54,\n",
       " 55,\n",
       " 56,\n",
       " 57,\n",
       " 58,\n",
       " 59,\n",
       " 60,\n",
       " 61,\n",
       " 62,\n",
       " 63,\n",
       " 64,\n",
       " 65,\n",
       " 66,\n",
       " 67,\n",
       " 68,\n",
       " 69,\n",
       " 70,\n",
       " 71,\n",
       " 72,\n",
       " 73,\n",
       " 74,\n",
       " 75,\n",
       " 76,\n",
       " 77,\n",
       " 78,\n",
       " 79,\n",
       " 80,\n",
       " 81,\n",
       " 82,\n",
       " 83,\n",
       " 84,\n",
       " 85,\n",
       " 86,\n",
       " 87,\n",
       " 88,\n",
       " 89,\n",
       " 90,\n",
       " 91,\n",
       " 92,\n",
       " 93,\n",
       " 94,\n",
       " 95,\n",
       " 96,\n",
       " 97,\n",
       " 98,\n",
       " 99,\n",
       " 100]"
      ]
     },
     "execution_count": 29,
     "metadata": {},
     "output_type": "execute_result"
    }
   ],
   "source": [
    "l"
   ]
  },
  {
   "cell_type": "code",
   "execution_count": 30,
   "id": "bc61d46a-ac25-4fc7-a71b-73be0bea9f6b",
   "metadata": {},
   "outputs": [
    {
     "data": {
      "text/plain": [
       "[1,\n",
       " 3,\n",
       " 5,\n",
       " 7,\n",
       " 9,\n",
       " 11,\n",
       " 13,\n",
       " 15,\n",
       " 17,\n",
       " 19,\n",
       " 21,\n",
       " 23,\n",
       " 25,\n",
       " 27,\n",
       " 29,\n",
       " 31,\n",
       " 33,\n",
       " 35,\n",
       " 37,\n",
       " 39,\n",
       " 41,\n",
       " 43,\n",
       " 45,\n",
       " 47,\n",
       " 49,\n",
       " 51,\n",
       " 53,\n",
       " 55,\n",
       " 57,\n",
       " 59,\n",
       " 61,\n",
       " 63,\n",
       " 65,\n",
       " 67,\n",
       " 69,\n",
       " 71,\n",
       " 73,\n",
       " 75,\n",
       " 77,\n",
       " 79,\n",
       " 81,\n",
       " 83,\n",
       " 85,\n",
       " 87,\n",
       " 89,\n",
       " 91,\n",
       " 93,\n",
       " 95,\n",
       " 97,\n",
       " 99]"
      ]
     },
     "execution_count": 30,
     "metadata": {},
     "output_type": "execute_result"
    }
   ],
   "source": [
    "[i for i in l if i%2 != 0]"
   ]
  }
 ],
 "metadata": {
  "kernelspec": {
   "display_name": "Python 3 (ipykernel)",
   "language": "python",
   "name": "python3"
  },
  "language_info": {
   "codemirror_mode": {
    "name": "ipython",
    "version": 3
   },
   "file_extension": ".py",
   "mimetype": "text/x-python",
   "name": "python",
   "nbconvert_exporter": "python",
   "pygments_lexer": "ipython3",
   "version": "3.10.8"
  }
 },
 "nbformat": 4,
 "nbformat_minor": 5
}

{
 "cells": [
  {
   "cell_type": "markdown",
   "id": "6ab8940e-acc3-43dc-b1a1-2223cbf23d62",
   "metadata": {},
   "source": [
    "10 FEB ASSIGNMENT"
   ]
  },
  {
   "cell_type": "markdown",
   "id": "430b1c66-5817-43d5-a0e5-f169ed263806",
   "metadata": {},
   "source": [
    "1."
   ]
  },
  {
   "cell_type": "code",
   "execution_count": null,
   "id": "8977ff29-9d34-4ee3-a60b-1773b390014e",
   "metadata": {},
   "outputs": [],
   "source": [
    "The open() function is used to open a file in Python.\n",
    "\n",
    "The open() function takes two arguments: the first argument is the filename, and the second argument is the mode in which the file is opened.\n",
    "\n",
    "There are several modes of opening a file in Python:\n",
    "\n",
    "r - read mode: This mode is used for reading the contents of a file. If the file does not exist, an error will occur.\n",
    "w - write mode: This mode is used for writing data to a file. If the file already exists, it will be overwritten. If the file does not exist, a new file will be created.\n",
    "a - append mode: This mode is used for appending data to a file. If the file already exists, new data will be added to the end of the file. If the file does not exist, \n",
    "    a new file will be created.\n",
    "x - exclusive creation mode: This mode is used for creating a new file. If the file already exists, an error will occur.\n",
    "b - binary mode: This mode is used for opening a file in binary mode. This is used for non-text files like images, audio, video, etc.\n",
    "t - text mode: This mode is used for opening a file in text mode. This is used for text files.\n",
    "\n",
    "You can also combine these modes, for example:\n",
    "\n",
    "rb - read mode in binary format\n",
    "wt - write mode in text format\n",
    "a+ - append mode with the ability to read the file as well\n",
    "When you are done with a file, it is important to close it using the close() method. This releases the resources used by the file and ensures that any pending writes are completed."
   ]
  },
  {
   "cell_type": "markdown",
   "id": "a8f90371-9e2d-4610-aac3-1282fa1f01a0",
   "metadata": {},
   "source": [
    "2."
   ]
  },
  {
   "cell_type": "code",
   "execution_count": 2,
   "id": "8756bbd6-2a1e-40fa-9c6e-a61d04135bec",
   "metadata": {},
   "outputs": [
    {
     "data": {
      "text/plain": [
       "'The close() function is used to close a file that was opened using the open() function in Python. \\n\\nIt is important to close a file after you are done using it because:\\n\\n1. It frees up the resources: When a file is opened, system resources are allocated to that file. If you do nOt close the file, those resources remain tied up and cannot be used by other programs or processes. By closing the file, you release those resources and make them available to other parts of your program or other programs running on your system.\\n\\n2. It ensures data integrity: When you write data to a file, it is usually buffered in memory before it is written to disk. If you do not close the file, any pending writes may not be flushed to disk. This means that your data may not be fully written to the file, and you may lose some or all of the data. By closing the file, you ensure that any pending writes are completed, and your data is fully written to the file.\\n\\n3. It prevents file corruption: If a file is not closed properly, it may become corrupted. For example, if you are writing data to a file and the program terminates unexpectedly (e.g., due to a power outage or a bug in the program), the file may be left in an inconsistent state. By closing the file properly, you ensure that the file is left in a consistent state and is not corrupted.'"
      ]
     },
     "execution_count": 2,
     "metadata": {},
     "output_type": "execute_result"
    }
   ],
   "source": [
    "\"\"\"The close() function is used to close a file that was opened using the open() function in Python. \n",
    "\n",
    "It is important to close a file after you are done using it because:\n",
    "\n",
    "1. It frees up the resources: When a file is opened, system resources are allocated to that file. If you do nOt close the file, those resources remain tied up and cannot be used by other programs or processes. By closing the file, you release those resources and make them available to other parts of your program or other programs running on your system.\n",
    "\n",
    "2. It ensures data integrity: When you write data to a file, it is usually buffered in memory before it is written to disk. If you do not close the file, any pending writes may not be flushed to disk. This means that your data may not be fully written to the file, and you may lose some or all of the data. By closing the file, you ensure that any pending writes are completed, and your data is fully written to the file.\n",
    "\n",
    "3. It prevents file corruption: If a file is not closed properly, it may become corrupted. For example, if you are writing data to a file and the program terminates unexpectedly (e.g., due to a power outage or a bug in the program), the file may be left in an inconsistent state. By closing the file properly, you ensure that the file is left in a consistent state and is not corrupted.\"\"\""
   ]
  },
  {
   "cell_type": "markdown",
   "id": "e651c9e4-b0ce-4f62-a602-a6b6e002e22f",
   "metadata": {},
   "source": [
    "3."
   ]
  },
  {
   "cell_type": "code",
   "execution_count": 3,
   "id": "cba7553d-14d4-474c-8322-2d707d15c9f9",
   "metadata": {},
   "outputs": [],
   "source": [
    "f = open(\"test.txt\", 'w')"
   ]
  },
  {
   "cell_type": "code",
   "execution_count": 4,
   "id": "c6950629-f780-4b45-af36-5a2b3730f289",
   "metadata": {},
   "outputs": [
    {
     "data": {
      "text/plain": [
       "33"
      ]
     },
     "execution_count": 4,
     "metadata": {},
     "output_type": "execute_result"
    }
   ],
   "source": [
    "f.write(\"I want to become a Data Scientist\")"
   ]
  },
  {
   "cell_type": "code",
   "execution_count": 5,
   "id": "029396c8-8e31-4d96-ad82-568b383b267d",
   "metadata": {},
   "outputs": [],
   "source": [
    "f.close()"
   ]
  },
  {
   "cell_type": "code",
   "execution_count": 7,
   "id": "ddd836a5-3719-4c82-9982-427ace88ec6a",
   "metadata": {},
   "outputs": [],
   "source": [
    "f = open(\"test.txt\", 'r')"
   ]
  },
  {
   "cell_type": "code",
   "execution_count": 8,
   "id": "c79c9b5e-8ba7-46f0-82b8-a2e78a016125",
   "metadata": {},
   "outputs": [
    {
     "data": {
      "text/plain": [
       "'I want to become a Data Scientist'"
      ]
     },
     "execution_count": 8,
     "metadata": {},
     "output_type": "execute_result"
    }
   ],
   "source": [
    "f.read()"
   ]
  },
  {
   "cell_type": "code",
   "execution_count": 9,
   "id": "95a62ec8-a215-4006-b92f-2e1364b64102",
   "metadata": {},
   "outputs": [],
   "source": [
    "f.close()"
   ]
  },
  {
   "cell_type": "markdown",
   "id": "3309b6ab-784e-42c6-af91-834cecc0e209",
   "metadata": {},
   "source": [
    "4."
   ]
  },
  {
   "cell_type": "code",
   "execution_count": 10,
   "id": "610fb391-0304-4c78-9d93-755bb496adb1",
   "metadata": {},
   "outputs": [],
   "source": [
    "# read(), readline(), and readlines() are all methods used to read data from a file in Python."
   ]
  },
  {
   "cell_type": "code",
   "execution_count": 11,
   "id": "41d1d2db-3e0c-4d2f-9e40-d7a99cfb174e",
   "metadata": {},
   "outputs": [],
   "source": [
    "# read() reads the entire content of a file and returns it as a string. You can optionally specify the number of bytes to read as an argument. \n",
    "# If you don't specify the argument, it will read the entire file."
   ]
  },
  {
   "cell_type": "code",
   "execution_count": null,
   "id": "c39300f4-109d-478c-9214-f015dc6b00e7",
   "metadata": {},
   "outputs": [],
   "source": [
    "# Example usage of read() method\n",
    "with open('myfile.txt', 'r') as file:\n",
    "    content = file.read()\n",
    "    print(content)"
   ]
  },
  {
   "cell_type": "code",
   "execution_count": 13,
   "id": "99010fd2-d778-4d18-9780-c5bbdd4130bb",
   "metadata": {},
   "outputs": [],
   "source": [
    "# readline() reads a single line from a file and returns it as a string. It reads characters from the current position of the file pointer \n",
    "# until it reaches the end of the line or the end of the file. If the file pointer is already at the end of the line, it will return an empty string."
   ]
  },
  {
   "cell_type": "code",
   "execution_count": null,
   "id": "4b4dede0-2a25-4c5f-b856-b6bf5e85c461",
   "metadata": {},
   "outputs": [],
   "source": [
    "# Example usage of readline() method\n",
    "with open('myfile.txt', 'r') as file:\n",
    "    line = file.readline()\n",
    "    while line != '':\n",
    "        print(line)\n",
    "        line = file.readline()"
   ]
  },
  {
   "cell_type": "code",
   "execution_count": 14,
   "id": "9bd0581a-cf01-4846-9ca1-2fbb4c12cece",
   "metadata": {},
   "outputs": [],
   "source": [
    "# readlines() reads all the lines from a file and returns them as a list of strings. Each line is a separate element in the list. \n",
    "# You can optionally specify the number of bytes to read as an argument. If you don't specify the argument, it will read the entire file."
   ]
  },
  {
   "cell_type": "code",
   "execution_count": null,
   "id": "c268c59f-8831-4fd4-8c5d-e7783d8a8f93",
   "metadata": {},
   "outputs": [],
   "source": [
    "# Example usage of readlines() method\n",
    "with open('myfile.txt', 'r') as file:\n",
    "    lines = file.readlines()\n",
    "    for line in lines:\n",
    "        print(line)"
   ]
  },
  {
   "cell_type": "markdown",
   "id": "b1510281-39a3-42ed-b1bd-1b63dd10ab60",
   "metadata": {},
   "source": [
    "5."
   ]
  },
  {
   "cell_type": "code",
   "execution_count": 15,
   "id": "f039b9f1-69ee-4b85-ba68-92146e3c8b42",
   "metadata": {},
   "outputs": [
    {
     "data": {
      "text/plain": [
       "'The with statement is used with the open() function in Python to simplify the process of working with files. When you use the with statement, Python automatically takes care of closing the file for you when you are done with it, even if an exception occurs.\\n\\nThe advantage of using the with statement with open() is that it ensures that the file is closed properly after you are done with it. When you open a file without the with statement, you are responsible for closing the file yourself using the close() method. If you forget to close the file, it can lead to various issues like file corruption, resource leaks, and other errors.'"
      ]
     },
     "execution_count": 15,
     "metadata": {},
     "output_type": "execute_result"
    }
   ],
   "source": [
    "\"\"\"The with statement is used with the open() function in Python to simplify the process of working with files. When you use the with statement, Python automatically takes care of closing the file for you when you are done with it, even if an exception occurs.\n",
    "\n",
    "The advantage of using the with statement with open() is that it ensures that the file is closed properly after you are done with it. When you open a file without the with statement, you are responsible for closing the file yourself using the close() method. If you forget to close the file, it can lead to various issues like file corruption, resource leaks, and other errors.\"\"\""
   ]
  },
  {
   "cell_type": "code",
   "execution_count": null,
   "id": "0b3bd2e2-3193-4ec5-bf62-e9ba2df12a7c",
   "metadata": {},
   "outputs": [],
   "source": [
    "Using the with statement with open() provides several advantages:\n",
    "\n",
    "1. It simplifies the code: By using the with statement, you do not have to worry about closing the file manually, which makes your code simpler and easier to read.\n",
    "\n",
    "2. It ensures proper resource management: The with statement ensures that the file is closed properly even if an exception occurs, which helps prevent resource leaks and other issues.\n",
    "\n",
    "3. It is more Pythonic: Using the with statement is considered more Pythonic because it provides a clean and easy-to-use syntax for working with files."
   ]
  },
  {
   "cell_type": "markdown",
   "id": "469dc86b-7d16-4c3e-9d3d-181dadd24e1c",
   "metadata": {},
   "source": [
    "6."
   ]
  },
  {
   "cell_type": "code",
   "execution_count": 16,
   "id": "f9167e7b-722e-417e-8340-30c896cfe3c0",
   "metadata": {},
   "outputs": [
    {
     "data": {
      "text/plain": [
       "\"The write() function is a method used to write data to a file in Python. It takes a string argument, which is the data you want to write to the file. If the file already exists, the write() method will overwrite its contents. If the file doesn't exist, it will be created.\""
      ]
     },
     "execution_count": 16,
     "metadata": {},
     "output_type": "execute_result"
    }
   ],
   "source": [
    "\"\"\"The write() function is a method used to write data to a file in Python. It takes a string argument, which is the data you want to write to the file. If the file already exists, the write() method will overwrite its contents. If the file doesn't exist, it will be created.\"\"\""
   ]
  },
  {
   "cell_type": "code",
   "execution_count": null,
   "id": "ef5e8b58-e618-4255-bd4b-dfe7294ae782",
   "metadata": {},
   "outputs": [],
   "source": [
    "# Example usage of write() method\n",
    "with open('myfile.txt', 'w') as file:\n",
    "    file.write('This is a test\\n')\n",
    "    file.write('Another line\\n')"
   ]
  },
  {
   "cell_type": "code",
   "execution_count": 17,
   "id": "848c0d17-0fb5-47ed-9f35-f2f5963547ca",
   "metadata": {},
   "outputs": [
    {
     "data": {
      "text/plain": [
       "\"The writelines() function is a method used to write a list of strings to a file. It takes a list argument, which contains the strings you want to write to the file. Each string in the list is written to the file as a separate line. If the file already exists, the writelines() method will overwrite its contents. If the file doesn't exist, it will be created.\""
      ]
     },
     "execution_count": 17,
     "metadata": {},
     "output_type": "execute_result"
    }
   ],
   "source": [
    "\"\"\"The writelines() function is a method used to write a list of strings to a file. It takes a list argument, which contains the strings you want to write to the file. Each string in the list is written to the file as a separate line. If the file already exists, the writelines() method will overwrite its contents. If the file doesn't exist, it will be created.\"\"\""
   ]
  },
  {
   "cell_type": "code",
   "execution_count": null,
   "id": "5147a80d-818e-4d12-83e8-22d70eaf041d",
   "metadata": {},
   "outputs": [],
   "source": [
    "# Example usage of writelines() method\n",
    "with open('myfile.txt', 'w') as file:\n",
    "    lines = ['This is a test\\n', 'Another line\\n']\n",
    "    file.writelines(lines)"
   ]
  }
 ],
 "metadata": {
  "kernelspec": {
   "display_name": "Python 3 (ipykernel)",
   "language": "python",
   "name": "python3"
  },
  "language_info": {
   "codemirror_mode": {
    "name": "ipython",
    "version": 3
   },
   "file_extension": ".py",
   "mimetype": "text/x-python",
   "name": "python",
   "nbconvert_exporter": "python",
   "pygments_lexer": "ipython3",
   "version": "3.10.8"
  }
 },
 "nbformat": 4,
 "nbformat_minor": 5
}

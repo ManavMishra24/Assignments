{
 "cells": [
  {
   "cell_type": "markdown",
   "id": "6ebce256-26da-47a6-befb-e8f7e1ce7059",
   "metadata": {},
   "source": [
    "29 JAN ASSIGNMENT SOLUTIONS"
   ]
  },
  {
   "cell_type": "markdown",
   "id": "3fc10f99-c580-4e26-9421-bc033630b78f",
   "metadata": {},
   "source": [
    "1)"
   ]
  },
  {
   "cell_type": "raw",
   "id": "f9f23a33-039e-4608-8c3b-09c5942421ec",
   "metadata": {},
   "source": [
    "Guido Van Rossum"
   ]
  },
  {
   "cell_type": "markdown",
   "id": "c0b4a4a8-56ab-4df6-a821-47ac14c9302f",
   "metadata": {},
   "source": [
    "2)"
   ]
  },
  {
   "cell_type": "raw",
   "id": "c04d7b4e-38df-48c2-a30d-51b8f66eb83b",
   "metadata": {},
   "source": [
    "Multi-Paradigm Programming i.e. Object-Oriented Programming and Structured Programming are fully supported. Also, many of the features support functional programming and Aspect-Oriented Programming. "
   ]
  },
  {
   "cell_type": "markdown",
   "id": "4212cfcc-9361-4de8-946c-83944a5dd868",
   "metadata": {},
   "source": [
    "3)"
   ]
  },
  {
   "cell_type": "raw",
   "id": "38c66235-018a-492e-88de-f8d10255805d",
   "metadata": {},
   "source": [
    "Yes, Python is Case-Sensitive when dealing with Identifiers"
   ]
  },
  {
   "cell_type": "markdown",
   "id": "32c04b29-c475-4953-8f8e-83f381f114c7",
   "metadata": {},
   "source": [
    "4)"
   ]
  },
  {
   "cell_type": "raw",
   "id": "03ecece4-1654-4712-848a-bc533c299492",
   "metadata": {},
   "source": [
    ".py"
   ]
  },
  {
   "cell_type": "markdown",
   "id": "8186b4ca-e9b1-4115-bbc1-18074fc3ec1e",
   "metadata": {},
   "source": [
    "5)"
   ]
  },
  {
   "cell_type": "raw",
   "id": "014aa49c-ade9-41c0-bb45-ed3d6f68653f",
   "metadata": {},
   "source": [
    "Interpreted"
   ]
  },
  {
   "cell_type": "markdown",
   "id": "d89ab0ae-7626-490f-9f89-8414a0a16783",
   "metadata": {},
   "source": [
    "6)"
   ]
  },
  {
   "cell_type": "raw",
   "id": "bebd8ecb-cd01-4f92-85b8-77062a41600b",
   "metadata": {},
   "source": [
    "Indentation"
   ]
  },
  {
   "cell_type": "code",
   "execution_count": 3,
   "id": "b32d78eb-f633-41a4-b0e9-0461f99f2d74",
   "metadata": {},
   "outputs": [
    {
     "name": "stdout",
     "output_type": "stream",
     "text": [
      "1\n",
      "2\n",
      "3\n",
      "4\n"
     ]
    }
   ],
   "source": [
    "#Examples of Indentation:\n",
    "\n",
    "i = 1\n",
    "while(i<=4):\n",
    "    print(i)\n",
    "    i = i + 1"
   ]
  },
  {
   "cell_type": "markdown",
   "id": "0cce43bf-9c54-4c54-b164-1ab665c434e9",
   "metadata": {},
   "source": [
    "7)"
   ]
  },
  {
   "cell_type": "raw",
   "id": "da9bd9f3-23b2-4de4-a890-f1d79caa63c5",
   "metadata": {},
   "source": [
    "Hash Character(#)"
   ]
  },
  {
   "cell_type": "markdown",
   "id": "c8355c38-5d82-4362-931a-903c2c9a280a",
   "metadata": {},
   "source": [
    "8)"
   ]
  },
  {
   "cell_type": "raw",
   "id": "b5ecf7f2-d7a2-492f-b917-d4f4d983649d",
   "metadata": {},
   "source": [
    "i. sys.version\n",
    "ii. python_version()\n",
    "iii. Python -V (IN CMD Terminal)"
   ]
  },
  {
   "cell_type": "markdown",
   "id": "5e8dbca4-6884-4dc8-a7ab-569df52475da",
   "metadata": {},
   "source": [
    "9)"
   ]
  },
  {
   "cell_type": "raw",
   "id": "3d7f770f-f078-4d73-a1b9-b0d56cfbe3f7",
   "metadata": {},
   "source": [
    "lambda"
   ]
  },
  {
   "cell_type": "markdown",
   "id": "a9488364-d50d-4fdd-bc4e-a7567daf9d7e",
   "metadata": {},
   "source": [
    "10)"
   ]
  },
  {
   "cell_type": "raw",
   "id": "92db270b-f249-45f2-bd5e-2358466a903d",
   "metadata": {},
   "source": [
    "pip stands for preferred installer program in Python"
   ]
  },
  {
   "cell_type": "markdown",
   "id": "95948967-4675-46ae-8bdb-f8042060eafe",
   "metadata": {},
   "source": [
    "11)"
   ]
  },
  {
   "cell_type": "raw",
   "id": "cae50c5e-d2c1-4fba-94d2-672bfa75f6e1",
   "metadata": {},
   "source": [
    "bool(), int(), iter(), len(), dict(), float(), input(), list(), map(), min(), max(), print(), range(), set(), sum(), str(), tuple() and type()."
   ]
  },
  {
   "cell_type": "markdown",
   "id": "1f918808-03e7-426a-9b39-a2c8a466afe2",
   "metadata": {},
   "source": [
    "12)"
   ]
  },
  {
   "cell_type": "raw",
   "id": "c379f4c2-1c4c-4754-a7ed-38684bfa5c08",
   "metadata": {},
   "source": [
    "79 Characters"
   ]
  },
  {
   "cell_type": "markdown",
   "id": "fb062017-dccf-4273-8008-2f9a1a788858",
   "metadata": {},
   "source": [
    "13)"
   ]
  },
  {
   "cell_type": "raw",
   "id": "e4024b41-3dbc-4b72-bdc5-af1f9a81e9e5",
   "metadata": {},
   "source": [
    "Benefits are:\n",
    " 1. Free and Open-Source\n",
    " 2. Simple to use and understand\n",
    " 3. Portability\n",
    " 4. Interpreted Language\n",
    " 5. Dynamically Typed\n",
    " 6. Extensive Library\n",
    " 7. Many Applications such as Web Development, Data Analysis, Data Science, Artificial Intelligence, etc."
   ]
  },
  {
   "cell_type": "markdown",
   "id": "9b80ee18-3f44-41d2-896d-fdf782762833",
   "metadata": {},
   "source": [
    "14)"
   ]
  },
  {
   "cell_type": "raw",
   "id": "37c116f8-b99a-4544-a44a-a9ce3224355f",
   "metadata": {},
   "source": [
    "memory management in Python involves a private heap containing all python objects and data structures. And, this management is ensured internally by Python Memory Manager."
   ]
  },
  {
   "cell_type": "markdown",
   "id": "f203115a-b27a-4400-8dca-f3001399abe3",
   "metadata": {},
   "source": [
    "15)"
   ]
  },
  {
   "cell_type": "raw",
   "id": "62fa5a34-68d9-4599-82d0-eeb2c2fe473a",
   "metadata": {},
   "source": [
    "1. Open a browser\n",
    "2. Now, visit python.org\n",
    "3. Download the stable version of Python using Windows Installer to your Desktop\n",
    "4. Now, to set PATH variable, right click on \"This PC\"\n",
    "5. Next, Click on Advanced System Settings in the menu\n",
    "6. Next, Click on Environment Variables button\n",
    "7. Now, In the System Variables Section, select the PATH Variable and click Edit. The next will show all the directories that are currently a part        of PATH Variable\n",
    "8. Click on New and Enter the Python Install Directory."
   ]
  },
  {
   "cell_type": "markdown",
   "id": "598d1680-eddb-45a8-b8fd-7e2319b1ac51",
   "metadata": {},
   "source": [
    "16)"
   ]
  },
  {
   "cell_type": "raw",
   "id": "da709fd7-446b-4380-b0db-fcb6b827b1dd",
   "metadata": {},
   "source": [
    "Yes, Indentation is required in Python. "
   ]
  }
 ],
 "metadata": {
  "kernelspec": {
   "display_name": "Python 3 (ipykernel)",
   "language": "python",
   "name": "python3"
  },
  "language_info": {
   "codemirror_mode": {
    "name": "ipython",
    "version": 3
   },
   "file_extension": ".py",
   "mimetype": "text/x-python",
   "name": "python",
   "nbconvert_exporter": "python",
   "pygments_lexer": "ipython3",
   "version": "3.10.8"
  }
 },
 "nbformat": 4,
 "nbformat_minor": 5
}

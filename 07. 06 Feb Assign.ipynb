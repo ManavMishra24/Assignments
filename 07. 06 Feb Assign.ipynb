{
 "cells": [
  {
   "cell_type": "markdown",
   "id": "fbe31f7a-4ed7-4994-b050-91c1ac001f82",
   "metadata": {},
   "source": [
    "PYTHON TASK 1"
   ]
  },
  {
   "cell_type": "markdown",
   "id": "159e1f84-6c0a-4ff1-bcfe-1ab598233552",
   "metadata": {},
   "source": [
    "1)"
   ]
  },
  {
   "cell_type": "code",
   "execution_count": 1,
   "id": "5808c338-6f9a-4b25-984f-3840cc798894",
   "metadata": {},
   "outputs": [],
   "source": [
    "def flat_list_product(lst):\n",
    "    def extract_numbers(obj):\n",
    "        if type(obj) in [int, float]:\n",
    "            return [obj]\n",
    "        elif type(obj) == dict:\n",
    "            return [key for key in obj.keys()] + [val for val in obj.values()]\n",
    "        elif type(obj) in [list, tuple, set]:\n",
    "            numbers = []\n",
    "            for item in obj:\n",
    "                numbers += extract_numbers(item)\n",
    "            return numbers\n",
    "        return []\n",
    "  \n",
    "    numbers = extract_numbers(lst)\n",
    "    product = 1\n",
    "    for num in numbers:\n",
    "        if type(num) in [int, float]:\n",
    "            product *= num\n",
    "    return product"
   ]
  },
  {
   "cell_type": "code",
   "execution_count": 3,
   "id": "69cd5c29-e5cf-457d-b0e5-66fa8c045032",
   "metadata": {},
   "outputs": [
    {
     "name": "stdout",
     "output_type": "stream",
     "text": [
      "78718933113238978560\n"
     ]
    }
   ],
   "source": [
    "list1 = [1,2,3,4, [44,55,66, True], False, (34,56,78,89,34), {1,2,3,3,2,1}, \n",
    "         {1:34, \"key2\": [55, 67, 78, 89], 4: (45, 22, 61, 34)},\n",
    "         [56, 'data science'], 'Machine Learning']\n",
    "print(flat_list_product(list1))"
   ]
  },
  {
   "cell_type": "markdown",
   "id": "df62e1e5-d451-451b-b3c2-e016d6eb79fa",
   "metadata": {},
   "source": [
    "2)"
   ]
  },
  {
   "cell_type": "code",
   "execution_count": 4,
   "id": "27ff8684-080c-436f-a711-aa3f372036ae",
   "metadata": {},
   "outputs": [
    {
     "name": "stdout",
     "output_type": "stream",
     "text": [
      "r$dzmg$gl$yvxlnv$z$wzgz$hxrvmgrhg.\n"
     ]
    }
   ],
   "source": [
    "def encrypt(message):\n",
    "    alphabet = 'abcdefghijklmnopqrstuvwxyz'\n",
    "    encryption = \"\"\n",
    "    for char in message.lower():\n",
    "        if char == ' ':\n",
    "            encryption += '$'\n",
    "        elif char.isalpha():\n",
    "            encryption += alphabet[25 - alphabet.index(char)]\n",
    "        else:\n",
    "            encryption += char\n",
    "    return encryption\n",
    "\n",
    "input_sentence = \"I want to become a Data Scientist.\"\n",
    "print(encrypt(input_sentence))"
   ]
  }
 ],
 "metadata": {
  "kernelspec": {
   "display_name": "Python 3 (ipykernel)",
   "language": "python",
   "name": "python3"
  },
  "language_info": {
   "codemirror_mode": {
    "name": "ipython",
    "version": 3
   },
   "file_extension": ".py",
   "mimetype": "text/x-python",
   "name": "python",
   "nbconvert_exporter": "python",
   "pygments_lexer": "ipython3",
   "version": "3.10.8"
  }
 },
 "nbformat": 4,
 "nbformat_minor": 5
}

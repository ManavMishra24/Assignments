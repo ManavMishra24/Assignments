{
 "cells": [
  {
   "cell_type": "markdown",
   "id": "33ce3b68-52ee-4680-85f1-bb606cc81930",
   "metadata": {},
   "source": [
    "14 FEB ASSIGNMENT"
   ]
  },
  {
   "cell_type": "markdown",
   "id": "d051e7eb-2bc6-4499-86d1-42c2bc6ab871",
   "metadata": {},
   "source": [
    "1."
   ]
  },
  {
   "cell_type": "code",
   "execution_count": null,
   "id": "9bd627a7-9e39-41cf-9af6-cad7c1b05bbe",
   "metadata": {},
   "outputs": [],
   "source": [
    "Multithreading is a way of allowing a program to perform multiple tasks concurrently. \n",
    "\n",
    "It is the ability of a program or an operating system to manage multiple threads of execution concurrently, \n",
    "allowing multiple functions to be performed simultaneously.\n",
    "\n",
    "In Python, multithreading can be implemented using the threading module."
   ]
  },
  {
   "cell_type": "markdown",
   "id": "412ed598-971f-4667-92e0-d8bcd0fc5c9c",
   "metadata": {},
   "source": [
    "2."
   ]
  },
  {
   "cell_type": "code",
   "execution_count": null,
   "id": "56790f70-a7c8-4c3e-ab35-f59bcb261111",
   "metadata": {},
   "outputs": [],
   "source": [
    "The threading module is used in Python for creating and managing threads. It provides a higher-level interface for working with threads \n",
    "compared to the lower-level thread module.\n",
    "\n",
    "The threading module allows you to create threads that can run concurrently and perform multiple tasks simultaneously. \n",
    "It provides a simple way to create, start, pause, resume, and terminate threads."
   ]
  },
  {
   "cell_type": "markdown",
   "id": "16efc38e-591d-46f5-9b23-d81e5fff793e",
   "metadata": {},
   "source": [
    "activeCount()"
   ]
  },
  {
   "cell_type": "code",
   "execution_count": null,
   "id": "5ec425e4-49d2-44ad-8f3a-b8d4c9739cb5",
   "metadata": {},
   "outputs": [],
   "source": [
    "In Pythons threading module, the activeCount() method is used to get the number of active threads in the current thread object. \n",
    "This method returns the number of Thread objects that are currently running in the main program, including the main thread.\n",
    "\n",
    "The activeCount() method is useful for debugging and monitoring the progress of threads in a program."
   ]
  },
  {
   "cell_type": "markdown",
   "id": "3eea6af0-4b8b-48f7-b7cf-0a483a670be2",
   "metadata": {},
   "source": [
    "currentThread()"
   ]
  },
  {
   "cell_type": "code",
   "execution_count": null,
   "id": "f770091b-946f-4b3d-aad0-76f96e72b199",
   "metadata": {},
   "outputs": [],
   "source": [
    "In Pythons threading module, the currentThread() method is used to get a reference to the currently executing thread object. \n",
    "It returns a Thread object representing the thread that called the method.\n",
    "\n",
    "The currentThread() method is useful for Debugging and monitoring, Thread-specific data and Thread identification."
   ]
  },
  {
   "cell_type": "markdown",
   "id": "759e41fb-fb9c-4615-b1db-ef3c4fea49a2",
   "metadata": {},
   "source": [
    "enumerate()"
   ]
  },
  {
   "cell_type": "code",
   "execution_count": null,
   "id": "11dce488-b23e-4606-b9e1-8b0536772ccb",
   "metadata": {},
   "outputs": [],
   "source": [
    "When used with Pythons threading module, the enumerate() function can be used to iterate over all of the active threads in the \n",
    "current thread object and get information about each thread."
   ]
  },
  {
   "cell_type": "markdown",
   "id": "11c25453-0285-484d-b46c-7247df8d6a17",
   "metadata": {},
   "source": [
    "3."
   ]
  },
  {
   "cell_type": "markdown",
   "id": "fd8dbd6b-ca83-4471-9506-b150c63e2d0a",
   "metadata": {},
   "source": [
    "run()"
   ]
  },
  {
   "cell_type": "code",
   "execution_count": 1,
   "id": "5f11e26e-9c6c-4b7a-9c6f-4dd05dae9cca",
   "metadata": {},
   "outputs": [
    {
     "data": {
      "text/plain": [
       "'This method is used to define the code that should be executed when a thread is started. It is called automatically when a thread is started using the start() method. You should override this method in a subclass of the Thread class to define the behavior of the thread.'"
      ]
     },
     "execution_count": 1,
     "metadata": {},
     "output_type": "execute_result"
    }
   ],
   "source": [
    "\"\"\"This method is used to define the code that should be executed when a thread is started. It is called automatically when a thread is started using the start() method. You should override this method in a subclass of the Thread class to define the behavior of the thread.\"\"\""
   ]
  },
  {
   "cell_type": "markdown",
   "id": "355a3beb-4d21-4692-9a71-e73d6a9069db",
   "metadata": {},
   "source": [
    "start()"
   ]
  },
  {
   "cell_type": "code",
   "execution_count": 2,
   "id": "22ef48a8-ca92-441b-af2a-37a542e1de49",
   "metadata": {},
   "outputs": [
    {
     "data": {
      "text/plain": [
       "'This method is used to start a new thread. It calls the run() method of the thread object in a separate thread of execution. You should always call the start() method to start a new thread, rather than calling the run() method directly.'"
      ]
     },
     "execution_count": 2,
     "metadata": {},
     "output_type": "execute_result"
    }
   ],
   "source": [
    "\"\"\"This method is used to start a new thread. It calls the run() method of the thread object in a separate thread of execution. You should always call the start() method to start a new thread, rather than calling the run() method directly.\"\"\""
   ]
  },
  {
   "cell_type": "markdown",
   "id": "93e63f93-9e19-4a0c-9104-c7d7accabf84",
   "metadata": {},
   "source": [
    "join()"
   ]
  },
  {
   "cell_type": "code",
   "execution_count": 3,
   "id": "0ff0c2ec-f8e7-48ee-a04e-a3cbdf31aec6",
   "metadata": {},
   "outputs": [
    {
     "data": {
      "text/plain": [
       "'This method is used to wait for a thread to complete its execution. It blocks the calling thread until the thread being joined completes its execution. You can optionally specify a timeout value for the join() method, which will cause it to return if the thread has not completed within the specified time.'"
      ]
     },
     "execution_count": 3,
     "metadata": {},
     "output_type": "execute_result"
    }
   ],
   "source": [
    "\"\"\"This method is used to wait for a thread to complete its execution. It blocks the calling thread until the thread being joined completes its execution. You can optionally specify a timeout value for the join() method, which will cause it to return if the thread has not completed within the specified time.\"\"\""
   ]
  },
  {
   "cell_type": "markdown",
   "id": "e5af1525-92e5-4f1c-bc87-327234eff9d1",
   "metadata": {},
   "source": [
    "isAlive()"
   ]
  },
  {
   "cell_type": "code",
   "execution_count": 4,
   "id": "352db9cb-016b-46e8-902a-508b52c91152",
   "metadata": {},
   "outputs": [
    {
     "data": {
      "text/plain": [
       "'This method is used to check whether a thread is still running. It returns True if the thread is still running, or False otherwise. This method can be used to check the status of a thread while it is running, and can be useful for monitoring the progress of long-running tasks.'"
      ]
     },
     "execution_count": 4,
     "metadata": {},
     "output_type": "execute_result"
    }
   ],
   "source": [
    "\"\"\"This method is used to check whether a thread is still running. It returns True if the thread is still running, or False otherwise. This method can be used to check the status of a thread while it is running, and can be useful for monitoring the progress of long-running tasks.\"\"\""
   ]
  },
  {
   "cell_type": "markdown",
   "id": "7e0bc05c-b257-46fd-8f9c-e07b50df8967",
   "metadata": {},
   "source": [
    "4."
   ]
  },
  {
   "cell_type": "code",
   "execution_count": 5,
   "id": "ebf9711a-1b0c-4312-a21d-f9a4542f0bb7",
   "metadata": {},
   "outputs": [
    {
     "name": "stdout",
     "output_type": "stream",
     "text": [
      "1\n",
      "4\n",
      "9\n",
      "16\n",
      "25\n",
      "36\n",
      "49\n",
      "64\n",
      "81\n",
      "100\n",
      "1\n",
      "8\n",
      "27\n",
      "64\n",
      "125\n",
      "216\n",
      "343\n",
      "512\n",
      "729\n",
      "1000\n"
     ]
    }
   ],
   "source": [
    "import threading\n",
    "\n",
    "def print_squares():\n",
    "    for i in range(1, 11):\n",
    "        print(i*i)\n",
    "\n",
    "def print_cubes():\n",
    "    for i in range(1, 11):\n",
    "        print(i*i*i)\n",
    "\n",
    "# create the threads\n",
    "t1 = threading.Thread(target=print_squares)\n",
    "t2 = threading.Thread(target=print_cubes)\n",
    "\n",
    "# start the threads\n",
    "t1.start()\n",
    "t2.start()\n",
    "\n",
    "# wait for the threads to complete\n",
    "t1.join()\n",
    "t2.join()"
   ]
  },
  {
   "cell_type": "markdown",
   "id": "b4a63495-9e66-439e-9dc9-4f12cf9b065b",
   "metadata": {},
   "source": [
    "5."
   ]
  },
  {
   "cell_type": "code",
   "execution_count": null,
   "id": "f8213440-ebf1-4368-b7d0-9ea5786aa0b7",
   "metadata": {},
   "outputs": [],
   "source": [
    "Advantages of Multithreading:\n",
    "\n",
    "1. Increased performance\n",
    "\n",
    "2. Better resource utilization\n",
    "\n",
    "3. Improved responsiveness\n",
    "\n",
    "4. Simplified coding\n",
    "\n",
    "5. Easier to maintain"
   ]
  },
  {
   "cell_type": "code",
   "execution_count": null,
   "id": "377d5ea3-5e03-4d3e-9577-7a78679769c1",
   "metadata": {},
   "outputs": [],
   "source": [
    "Disadvantages of Multithreading:\n",
    "\n",
    "1. Synchronization issues\n",
    "\n",
    "2. Increased complexity\n",
    "\n",
    "3. Increased resource usage\n",
    "\n",
    "4. Deadlocks\n",
    "\n",
    "5. Debugging challenges"
   ]
  },
  {
   "cell_type": "markdown",
   "id": "59c28e91-c218-4a5c-a6c7-84909be1640c",
   "metadata": {},
   "source": [
    "6."
   ]
  },
  {
   "cell_type": "markdown",
   "id": "56ac1712-d65e-491a-8ae9-d4d8ae979219",
   "metadata": {},
   "source": [
    "Deadlock:"
   ]
  },
  {
   "cell_type": "code",
   "execution_count": 6,
   "id": "3db3ad3c-1dee-4294-9a9c-1f2e08b6e22b",
   "metadata": {},
   "outputs": [
    {
     "data": {
      "text/plain": [
       "'A deadlock is a situation where two or more threads are blocked and waiting for each other to release resources, such as a shared lock. When this happens, the threads are effectively stuck, and the program cannot make progress. A deadlock can occur when two or more threads are holding resources and waiting for each other to release them. For example, if thread A has acquired a lock on resource X and is waiting for a lock on resource Y, and thread B has acquired a lock on resource Y and is waiting for a lock on resource X, a deadlock occurs. Deadlocks can be difficult to detect and resolve, and can lead to program crashes or unexpected behavior.'"
      ]
     },
     "execution_count": 6,
     "metadata": {},
     "output_type": "execute_result"
    }
   ],
   "source": [
    "\"\"\"A deadlock is a situation where two or more threads are blocked and waiting for each other to release resources, such as a shared lock. When this happens, the threads are effectively stuck, and the program cannot make progress. A deadlock can occur when two or more threads are holding resources and waiting for each other to release them. For example, if thread A has acquired a lock on resource X and is waiting for a lock on resource Y, and thread B has acquired a lock on resource Y and is waiting for a lock on resource X, a deadlock occurs. Deadlocks can be difficult to detect and resolve, and can lead to program crashes or unexpected behavior.\"\"\""
   ]
  },
  {
   "cell_type": "markdown",
   "id": "f41e9676-3a69-4a95-aa51-4acbf788936a",
   "metadata": {},
   "source": [
    "Race condition:"
   ]
  },
  {
   "cell_type": "code",
   "execution_count": 7,
   "id": "e8b52ef7-19c4-499d-93ae-963571e57e8e",
   "metadata": {},
   "outputs": [
    {
     "data": {
      "text/plain": [
       "'A race condition is a situation where the behavior of a program depends on the order in which two or more threads execute. This can occur when multiple threads access shared resources concurrently, and the order in which they access them affects the outcome of the program. For example, if two threads are incrementing a shared variable, and the value of the variable depends on the order in which the increments occur, a race condition occurs. Race conditions can be difficult to detect and reproduce, and can lead to program errors or unexpected behavior.'"
      ]
     },
     "execution_count": 7,
     "metadata": {},
     "output_type": "execute_result"
    }
   ],
   "source": [
    "\"\"\"A race condition is a situation where the behavior of a program depends on the order in which two or more threads execute. This can occur when multiple threads access shared resources concurrently, and the order in which they access them affects the outcome of the program. For example, if two threads are incrementing a shared variable, and the value of the variable depends on the order in which the increments occur, a race condition occurs. Race conditions can be difficult to detect and reproduce, and can lead to program errors or unexpected behavior.\"\"\""
   ]
  }
 ],
 "metadata": {
  "kernelspec": {
   "display_name": "Python 3 (ipykernel)",
   "language": "python",
   "name": "python3"
  },
  "language_info": {
   "codemirror_mode": {
    "name": "ipython",
    "version": 3
   },
   "file_extension": ".py",
   "mimetype": "text/x-python",
   "name": "python",
   "nbconvert_exporter": "python",
   "pygments_lexer": "ipython3",
   "version": "3.10.8"
  }
 },
 "nbformat": 4,
 "nbformat_minor": 5
}

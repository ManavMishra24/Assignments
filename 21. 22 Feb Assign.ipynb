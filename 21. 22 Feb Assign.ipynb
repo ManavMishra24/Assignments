{
 "cells": [
  {
   "cell_type": "code",
   "execution_count": 18,
   "id": "8ab9c2f9",
   "metadata": {},
   "outputs": [],
   "source": [
    "from selenium import webdriver\n",
    "from selenium.webdriver.common.by import By\n",
    "from selenium.webdriver.chrome.service import Service\n",
    "\n",
    "# Importing Selenium webdriver in headless mode\n",
    "user_agent = \"Mozilla/5.0 (Windows NT 10.0; Win64; x64) AppleWebKit/537.36 (KHTML, like Gecko) Chrome/85.0.4183.83 Safari/537.36\"\n",
    "\n",
    "options = webdriver.ChromeOptions()\n",
    "options.add_argument('--headless')\n",
    "options.add_argument(f'user-agent={user_agent}')\n",
    "options.add_argument(\"--window-size=1920,1080\")\n",
    "options.add_argument('--ignore-certificate-errors')\n",
    "options.add_argument('--allow-running-insecure-content')\n",
    "options.add_argument(\"--disable-extensions\")\n",
    "options.add_argument(\"--proxy-server='direct://'\")\n",
    "options.add_argument(\"--proxy-bypass-list=*\")\n",
    "options.add_argument(\"--start-maximized\")\n",
    "options.add_argument('--disable-gpu')\n",
    "options.add_argument('--disable-dev-shm-usage')\n",
    "options.add_argument('--no-sandbox')\n",
    "s = Service(executable_path='./Assignment 21 - 22 February 2023/chromedriver.exe')\n",
    "driver = webdriver.Chrome(service=s, options=options)"
   ]
  },
  {
   "cell_type": "markdown",
   "id": "3c721eba",
   "metadata": {},
   "source": [
    "1."
   ]
  },
  {
   "cell_type": "code",
   "execution_count": 19,
   "id": "93ec0653",
   "metadata": {},
   "outputs": [],
   "source": [
    "def get_top5_urls(url):\n",
    "    driver.get(url)\n",
    "    driver.execute_script(\"window.scrollTo(0, 200)\")\n",
    "    url_elems = driver.find_elements(By.XPATH,\"//a[@id='video-title-link']\")    \n",
    "    url_elms5 = url_elems[0:5]\n",
    "    top5url = []\n",
    "    for i in url_elms5:\n",
    "        top5url.append(i.get_attribute('href'))   \n",
    "    return top5url"
   ]
  },
  {
   "cell_type": "code",
   "execution_count": 20,
   "id": "36703566",
   "metadata": {},
   "outputs": [
    {
     "data": {
      "text/plain": [
       "['https://www.youtube.com/watch?v=PI1obes98Zc',\n",
       " 'https://www.youtube.com/watch?v=16fUsD0M1-I',\n",
       " 'https://www.youtube.com/watch?v=S0RySN5arvk',\n",
       " 'https://www.youtube.com/watch?v=HzBhwxMrt8A',\n",
       " 'https://www.youtube.com/watch?v=60_B3haKADw']"
      ]
     },
     "execution_count": 20,
     "metadata": {},
     "output_type": "execute_result"
    }
   ],
   "source": [
    "url = \"https://www.youtube.com/@PW-Foundation/videos\"\n",
    "top5url = get_top5_urls(url)\n",
    "top5url"
   ]
  },
  {
   "cell_type": "markdown",
   "id": "cdff40b6",
   "metadata": {},
   "source": [
    "2."
   ]
  },
  {
   "cell_type": "code",
   "execution_count": 21,
   "id": "5620590c",
   "metadata": {},
   "outputs": [],
   "source": [
    "import time\n",
    "def thumbnail_urls(url):\n",
    "    driver.get(url)\n",
    "    time.sleep(2)    \n",
    "    images = driver.find_elements(By.TAG_NAME,'img')\n",
    "    img_links = []\n",
    "    for i in images:    \n",
    "        link = i.get_attribute('src')\n",
    "        if str(link).find('i.ytimg.com')>0:\n",
    "            img_links.append(link)    \n",
    "    return img_links[0:5]"
   ]
  },
  {
   "cell_type": "code",
   "execution_count": 22,
   "id": "b57b1414",
   "metadata": {},
   "outputs": [
    {
     "data": {
      "text/plain": [
       "['https://i.ytimg.com/vi/PI1obes98Zc/hqdefault.jpg?sqp=-oaymwEcCNACELwBSFXyq4qpAw4IARUAAIhCGAFwAcABBg==&rs=AOn4CLDyWGBtPVQCXcUM1DiCpOeszoKAsQ',\n",
       " 'https://i.ytimg.com/vi/16fUsD0M1-I/hqdefault.jpg?sqp=-oaymwEcCNACELwBSFXyq4qpAw4IARUAAIhCGAFwAcABBg==&rs=AOn4CLByRUwFQYHPXlsq0XinNUla0MZtNw',\n",
       " 'https://i.ytimg.com/vi/S0RySN5arvk/hqdefault.jpg?sqp=-oaymwEcCNACELwBSFXyq4qpAw4IARUAAIhCGAFwAcABBg==&rs=AOn4CLBOhnoOmjXFZyCKcKSm5Q-ZERlrZQ',\n",
       " 'https://i.ytimg.com/vi/HzBhwxMrt8A/hqdefault.jpg?sqp=-oaymwEcCNACELwBSFXyq4qpAw4IARUAAIhCGAFwAcABBg==&rs=AOn4CLDxv8xtxXYKf6Zn58zMFt2mqVTTZw',\n",
       " 'https://i.ytimg.com/vi/60_B3haKADw/hqdefault.jpg?sqp=-oaymwEcCNACELwBSFXyq4qpAw4IARUAAIhCGAFwAcABBg==&rs=AOn4CLA9baY1YtDSZafi5-Ej4K4ehDrL_A']"
      ]
     },
     "execution_count": 22,
     "metadata": {},
     "output_type": "execute_result"
    }
   ],
   "source": [
    "top5thumbnails = thumbnail_urls(url)\n",
    "top5thumbnails"
   ]
  },
  {
   "cell_type": "markdown",
   "id": "29f09a1d",
   "metadata": {},
   "source": [
    "3."
   ]
  },
  {
   "cell_type": "code",
   "execution_count": 23,
   "id": "fd3814a7",
   "metadata": {},
   "outputs": [],
   "source": [
    "def title_finder(url):\n",
    "    driver.get(url)\n",
    "    url_elems = driver.find_elements(By.XPATH,\"//a[@id='video-title-link']\")\n",
    "    url_elems5 = url_elems[0:5] \n",
    "    title_text = []\n",
    "    for i in url_elems5:\n",
    "        title_text.append(i.get_attribute('title'))\n",
    "    return(title_text)"
   ]
  },
  {
   "cell_type": "code",
   "execution_count": 24,
   "id": "5b1a40de",
   "metadata": {},
   "outputs": [
    {
     "data": {
      "text/plain": [
       "['How to score 95%+ in class 10th? Complete year Powerful Strategy!!',\n",
       " 'Last 4 Days Left For SST Exam || How To Manage to Score 80/80 in Boards || Class-10th',\n",
       " 'Benefits of Choosing Commerce After 10th | Commerce क्यों लेना चाहिए? | CBSE | ICSE | State Boards',\n",
       " '']"
      ]
     },
     "execution_count": 24,
     "metadata": {},
     "output_type": "execute_result"
    }
   ],
   "source": [
    "top5titles = title_finder(url)\n",
    "top5titles"
   ]
  },
  {
   "cell_type": "markdown",
   "id": "4719d46d",
   "metadata": {},
   "source": [
    "4."
   ]
  },
  {
   "cell_type": "code",
   "execution_count": 26,
   "id": "d2a4869b",
   "metadata": {},
   "outputs": [],
   "source": [
    "def views_finder(url):\n",
    "    driver.get(url)\n",
    "    views_elements = driver.find_elements(By.XPATH,\"//span[@class='inline-metadata-item style-scope ytd-video-meta-block']\")\n",
    "    view_count = []\n",
    "    for i in views_elements:  \n",
    "        meta_string = i.text      \n",
    "        if meta_string.find('views')>0:      \n",
    "            view_count.append(meta_string)\n",
    "    return view_count[0:5] "
   ]
  },
  {
   "cell_type": "code",
   "execution_count": 27,
   "id": "e8caa348",
   "metadata": {},
   "outputs": [
    {
     "data": {
      "text/plain": [
       "['88K views', '66K views', '25K views', '40K views', '22K views']"
      ]
     },
     "execution_count": 27,
     "metadata": {},
     "output_type": "execute_result"
    }
   ],
   "source": [
    "top5views = views_finder(url)\n",
    "top5views"
   ]
  },
  {
   "cell_type": "markdown",
   "id": "3d44815d",
   "metadata": {},
   "source": [
    "5."
   ]
  },
  {
   "cell_type": "code",
   "execution_count": 28,
   "id": "a3e408d5",
   "metadata": {},
   "outputs": [],
   "source": [
    "import time\n",
    "def get_video_upload_time(url):\n",
    "    driver.get(url)\n",
    "    time.sleep(2)\n",
    "    views_elements = driver.find_elements(By.XPATH,\"//span[@class='inline-metadata-item style-scope ytd-video-meta-block']\")\n",
    "    time_relative = []\n",
    "    for i in views_elements:  \n",
    "        meta_string = i.text             \n",
    "        if meta_string.find('ago')>0:      \n",
    "            time_relative.append(meta_string)\n",
    "        \n",
    "    return time_relative[0:5]"
   ]
  },
  {
   "cell_type": "code",
   "execution_count": 29,
   "id": "36fb974d",
   "metadata": {},
   "outputs": [
    {
     "data": {
      "text/plain": [
       "['3 days ago', '4 days ago', '8 days ago', '10 days ago', '10 days ago']"
      ]
     },
     "execution_count": 29,
     "metadata": {},
     "output_type": "execute_result"
    }
   ],
   "source": [
    "rel_time = get_video_upload_time(url)\n",
    "rel_time"
   ]
  },
  {
   "cell_type": "code",
   "execution_count": 36,
   "id": "e128121d",
   "metadata": {},
   "outputs": [],
   "source": [
    "from datetime import datetime\n",
    "import pandas as pd\n",
    "from dateutil.relativedelta import relativedelta\n",
    "def get_absolute_date(relative_time):\n",
    "    absolute_time = []\n",
    "    for i in relative_time:        \n",
    "        if i.find('hours')>0:\n",
    "            hours = int(i.split(\" \")[0])\n",
    "            tm_absolute = datetime.now() - pd.Timedelta(hours=hours)\n",
    "            dt_string = tm_absolute.strftime(\"%d %b %Y\")\n",
    "            absolute_time.append(dt_string)\n",
    "        elif i.find('day')>0:\n",
    "            days = int(i.split(\" \")[0])\n",
    "            tm_absolute = datetime.now() - pd.Timedelta(days=days)\n",
    "            dt_string = tm_absolute.strftime(\"%d %b %Y\")\n",
    "            absolute_time.append(dt_string)\n",
    "        elif i.find('week')>0:\n",
    "            weeks = int(i.split(\" \")[0])\n",
    "            tm_absolute = datetime.now() - pd.Timedelta(weeks=weeks)\n",
    "            dt_string = tm_absolute.strftime(\"%d %b %Y\")\n",
    "            absolute_time.append(dt_string)\n",
    "        elif i.find('month')>0:\n",
    "            months = int(i.split(\" \")[0])\n",
    "            tm_absolute = datetime.now() - relativedelta(months=months)\n",
    "            dt_string = tm_absolute.strftime(\"%d %b %Y\")\n",
    "            absolute_time.append(dt_string)\n",
    "        elif i.find('year')>0:\n",
    "            years = int(i.split(\" \")[0])\n",
    "            tm_absolute = datetime.now() - relativedelta(years=years)\n",
    "            dt_string = tm_absolute.strftime(\"%d %b %Y\")\n",
    "            absolute_time.append(dt_string)\n",
    "\n",
    "    return absolute_time"
   ]
  },
  {
   "cell_type": "code",
   "execution_count": 37,
   "id": "a5c6bccf",
   "metadata": {},
   "outputs": [
    {
     "data": {
      "text/plain": [
       "['11 Mar 2023', '10 Mar 2023', '06 Mar 2023', '04 Mar 2023', '04 Mar 2023']"
      ]
     },
     "execution_count": 37,
     "metadata": {},
     "output_type": "execute_result"
    }
   ],
   "source": [
    "abs_date = get_absolute_date(rel_time)\n",
    "abs_date"
   ]
  },
  {
   "cell_type": "code",
   "execution_count": 30,
   "id": "7e7587aa",
   "metadata": {},
   "outputs": [],
   "source": [
    "# Creating CSV File"
   ]
  },
  {
   "cell_type": "code",
   "execution_count": 32,
   "id": "1359bf19",
   "metadata": {},
   "outputs": [
    {
     "name": "stdout",
     "output_type": "stream",
     "text": [
      "Collecting pandasNote: you may need to restart the kernel to use updated packages.\n",
      "\n",
      "  Downloading pandas-1.5.3-cp311-cp311-win_amd64.whl (10.3 MB)\n",
      "     ---------------------------------------- 0.0/10.3 MB ? eta -:--:--\n",
      "      --------------------------------------- 0.3/10.3 MB 7.9 MB/s eta 0:00:02\n",
      "     --- ------------------------------------ 1.0/10.3 MB 12.6 MB/s eta 0:00:01\n",
      "     ------ --------------------------------- 1.7/10.3 MB 13.4 MB/s eta 0:00:01\n",
      "     -------- ------------------------------- 2.1/10.3 MB 12.0 MB/s eta 0:00:01\n",
      "     ---------- ----------------------------- 2.7/10.3 MB 12.2 MB/s eta 0:00:01\n",
      "     ------------- -------------------------- 3.6/10.3 MB 13.4 MB/s eta 0:00:01\n",
      "     --------------- ------------------------ 4.1/10.3 MB 13.1 MB/s eta 0:00:01\n",
      "     ------------------ --------------------- 4.8/10.3 MB 13.8 MB/s eta 0:00:01\n",
      "     --------------------- ------------------ 5.5/10.3 MB 13.5 MB/s eta 0:00:01\n",
      "     ---------------------- ----------------- 5.7/10.3 MB 13.6 MB/s eta 0:00:01\n",
      "     ------------------------ --------------- 6.3/10.3 MB 12.9 MB/s eta 0:00:01\n",
      "     ---------------------------- ----------- 7.3/10.3 MB 13.7 MB/s eta 0:00:01\n",
      "     ------------------------------- -------- 8.2/10.3 MB 14.2 MB/s eta 0:00:01\n",
      "     ----------------------------------- ---- 9.1/10.3 MB 14.6 MB/s eta 0:00:01\n",
      "     --------------------------------------  10.1/10.3 MB 15.0 MB/s eta 0:00:01\n",
      "     --------------------------------------- 10.3/10.3 MB 14.5 MB/s eta 0:00:00\n",
      "Requirement already satisfied: python-dateutil>=2.8.1 in c:\\users\\manav\\appdata\\local\\programs\\python\\python311\\lib\\site-packages (from pandas) (2.8.2)\n",
      "Collecting pytz>=2020.1\n",
      "  Downloading pytz-2022.7.1-py2.py3-none-any.whl (499 kB)\n",
      "     ---------------------------------------- 0.0/499.4 kB ? eta -:--:--\n",
      "     ------------------------------------- 499.4/499.4 kB 15.8 MB/s eta 0:00:00\n",
      "Collecting numpy>=1.21.0\n",
      "  Downloading numpy-1.24.2-cp311-cp311-win_amd64.whl (14.8 MB)\n",
      "     ---------------------------------------- 0.0/14.8 MB ? eta -:--:--\n",
      "     ---- ----------------------------------- 1.5/14.8 MB 31.6 MB/s eta 0:00:01\n",
      "     ------ --------------------------------- 2.6/14.8 MB 27.3 MB/s eta 0:00:01\n",
      "     ---------- ----------------------------- 3.7/14.8 MB 26.5 MB/s eta 0:00:01\n",
      "     ------------ --------------------------- 4.7/14.8 MB 24.8 MB/s eta 0:00:01\n",
      "     ---------------- ----------------------- 6.3/14.8 MB 26.7 MB/s eta 0:00:01\n",
      "     ------------------- -------------------- 7.4/14.8 MB 26.3 MB/s eta 0:00:01\n",
      "     ----------------------- ---------------- 8.9/14.8 MB 27.0 MB/s eta 0:00:01\n",
      "     -------------------------- ------------ 10.1/14.8 MB 26.9 MB/s eta 0:00:01\n",
      "     ----------------------------- --------- 11.4/14.8 MB 26.2 MB/s eta 0:00:01\n",
      "     --------------------------------- ----- 12.7/14.8 MB 26.2 MB/s eta 0:00:01\n",
      "     ------------------------------------ -- 13.9/14.8 MB 26.2 MB/s eta 0:00:01\n",
      "     --------------------------------------  14.8/14.8 MB 28.5 MB/s eta 0:00:01\n",
      "     --------------------------------------- 14.8/14.8 MB 26.2 MB/s eta 0:00:00\n",
      "Requirement already satisfied: six>=1.5 in c:\\users\\manav\\appdata\\local\\programs\\python\\python311\\lib\\site-packages (from python-dateutil>=2.8.1->pandas) (1.16.0)\n",
      "Installing collected packages: pytz, numpy, pandas\n",
      "Successfully installed numpy-1.24.2 pandas-1.5.3 pytz-2022.7.1\n"
     ]
    }
   ],
   "source": [
    "pip install pandas"
   ]
  },
  {
   "cell_type": "code",
   "execution_count": 64,
   "id": "8079c227",
   "metadata": {},
   "outputs": [],
   "source": [
    "import pandas as pd\n",
    "df = pd.DataFrame([{'title':top5titles,'uploadDate':abs_date,'views':top5views,'videoURL':top5url,'thumbnailURL':top5thumbnails}])"
   ]
  },
  {
   "cell_type": "code",
   "execution_count": 63,
   "id": "0a948071",
   "metadata": {},
   "outputs": [
    {
     "data": {
      "text/html": [
       "<div>\n",
       "<style scoped>\n",
       "    .dataframe tbody tr th:only-of-type {\n",
       "        vertical-align: middle;\n",
       "    }\n",
       "\n",
       "    .dataframe tbody tr th {\n",
       "        vertical-align: top;\n",
       "    }\n",
       "\n",
       "    .dataframe thead th {\n",
       "        text-align: right;\n",
       "    }\n",
       "</style>\n",
       "<table border=\"1\" class=\"dataframe\">\n",
       "  <thead>\n",
       "    <tr style=\"text-align: right;\">\n",
       "      <th></th>\n",
       "      <th>title</th>\n",
       "      <th>uploadDate</th>\n",
       "      <th>views</th>\n",
       "      <th>videoURL</th>\n",
       "      <th>thumbnailURL</th>\n",
       "    </tr>\n",
       "  </thead>\n",
       "  <tbody>\n",
       "    <tr>\n",
       "      <th>0</th>\n",
       "      <td>[How to score 95%+ in class 10th? Complete yea...</td>\n",
       "      <td>[11 Mar 2023, 10 Mar 2023, 06 Mar 2023, 04 Mar...</td>\n",
       "      <td>[88K views, 66K views, 25K views, 40K views, 2...</td>\n",
       "      <td>[https://www.youtube.com/watch?v=PI1obes98Zc, ...</td>\n",
       "      <td>[https://i.ytimg.com/vi/PI1obes98Zc/hqdefault....</td>\n",
       "    </tr>\n",
       "  </tbody>\n",
       "</table>\n",
       "</div>"
      ],
      "text/plain": [
       "                                               title  \\\n",
       "0  [How to score 95%+ in class 10th? Complete yea...   \n",
       "\n",
       "                                          uploadDate  \\\n",
       "0  [11 Mar 2023, 10 Mar 2023, 06 Mar 2023, 04 Mar...   \n",
       "\n",
       "                                               views  \\\n",
       "0  [88K views, 66K views, 25K views, 40K views, 2...   \n",
       "\n",
       "                                            videoURL  \\\n",
       "0  [https://www.youtube.com/watch?v=PI1obes98Zc, ...   \n",
       "\n",
       "                                        thumbnailURL  \n",
       "0  [https://i.ytimg.com/vi/PI1obes98Zc/hqdefault....  "
      ]
     },
     "execution_count": 63,
     "metadata": {},
     "output_type": "execute_result"
    }
   ],
   "source": [
    "df"
   ]
  },
  {
   "cell_type": "code",
   "execution_count": 51,
   "id": "48e42b76",
   "metadata": {},
   "outputs": [],
   "source": [
    "df.to_csv('YoutubeData.csv',index=False)"
   ]
  }
 ],
 "metadata": {
  "kernelspec": {
   "display_name": "Python 3 (ipykernel)",
   "language": "python",
   "name": "python3"
  },
  "language_info": {
   "codemirror_mode": {
    "name": "ipython",
    "version": 3
   },
   "file_extension": ".py",
   "mimetype": "text/x-python",
   "name": "python",
   "nbconvert_exporter": "python",
   "pygments_lexer": "ipython3",
   "version": "3.11.2"
  }
 },
 "nbformat": 4,
 "nbformat_minor": 5
}

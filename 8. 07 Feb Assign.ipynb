{
 "cells": [
  {
   "cell_type": "markdown",
   "id": "5b4f8dc4-6f5c-4dcf-84ce-bc76295bfa66",
   "metadata": {},
   "source": [
    "PYTHON TASK 2"
   ]
  },
  {
   "cell_type": "markdown",
   "id": "74ad114b-6178-4ce7-9a60-94b8150afd9a",
   "metadata": {},
   "source": [
    "1)"
   ]
  },
  {
   "cell_type": "code",
   "execution_count": 10,
   "id": "a7ac3939-03da-4982-8528-23889bbe1900",
   "metadata": {},
   "outputs": [],
   "source": [
    "def password_Checker():\n",
    "    password = input(\"Enter the Password: \")\n",
    "    s, u, l, d = 0, 0, 0, 0\n",
    "    if len(password) == 10:\n",
    "        for i in password:\n",
    "            \n",
    "            if (i.islower()):\n",
    "                l += 1\n",
    "                \n",
    "            if (i.isupper()):\n",
    "                u += 1\n",
    "                \n",
    "            if (i.isdigit()):\n",
    "                d += 1\n",
    "                \n",
    "            if (i == '@' or i == '_' or i == '$' or i == '#' or i == '!' or i == '%' or i == '^'):\n",
    "                s += 1      \n",
    "    if (l >= 2 and u >= 2 and d >= 1 and s >= 3 and s+u+l+d == len(password)):\n",
    "        print(\"Valid Password\")\n",
    "    else:\n",
    "        print(\"Invalid Password\")  "
   ]
  },
  {
   "cell_type": "code",
   "execution_count": 11,
   "id": "e9dde624-521b-448b-8ae5-323369fd7ce4",
   "metadata": {},
   "outputs": [
    {
     "name": "stdin",
     "output_type": "stream",
     "text": [
      "Enter the Password:  M@n#vMi$24\n"
     ]
    },
    {
     "name": "stdout",
     "output_type": "stream",
     "text": [
      "Valid Password\n"
     ]
    }
   ],
   "source": [
    "password_Checker()"
   ]
  },
  {
   "cell_type": "markdown",
   "id": "76cb85ac-4962-4975-984d-da9440ece110",
   "metadata": {},
   "source": [
    "2)"
   ]
  },
  {
   "cell_type": "code",
   "execution_count": 29,
   "id": "3dc2a540-9549-4d1d-9e33-fcc4720f1c87",
   "metadata": {},
   "outputs": [
    {
     "name": "stdin",
     "output_type": "stream",
     "text": [
      "Enter the string : pwskills\n"
     ]
    },
    {
     "data": {
      "text/plain": [
       "True"
      ]
     },
     "execution_count": 29,
     "metadata": {},
     "output_type": "execute_result"
    }
   ],
   "source": [
    "# Check if string starts with a particular letter.\n",
    "\n",
    "s = input(\"Enter the string :\")\n",
    "str = lambda s: s[0] == \"p\"\n",
    "str(s)"
   ]
  },
  {
   "cell_type": "code",
   "execution_count": 1,
   "id": "8c84c42b-a2c2-4404-b446-3291f5861f23",
   "metadata": {},
   "outputs": [
    {
     "name": "stdout",
     "output_type": "stream",
     "text": [
      "True\n"
     ]
    }
   ],
   "source": [
    "# Check if string is numeric.\n",
    "\n",
    "def is_numeric(input):\n",
    "    return input.isnumeric()\n",
    "\n",
    "input = '123'\n",
    "result = is_numeric(input)\n",
    "print(result)"
   ]
  },
  {
   "cell_type": "code",
   "execution_count": 2,
   "id": "a5e91784-b1c1-4fb4-be39-779c2681cfde",
   "metadata": {},
   "outputs": [
    {
     "name": "stdout",
     "output_type": "stream",
     "text": [
      "[('orange', 80), ('mango', 99), ('grapes', 1000)]\n"
     ]
    }
   ],
   "source": [
    "# Sort a list of tuples having fruit names and their quantity. [(\"mango\",99),(\"orange\",80), (\"grapes\", 1000)]\n",
    "\n",
    "fruits = [(\"mango\", 99), (\"orange\", 80), (\"grapes\", 1000)]\n",
    "\n",
    "sorted_fruits = sorted(fruits, key=lambda x: x[1])\n",
    "print(sorted_fruits)"
   ]
  },
  {
   "cell_type": "code",
   "execution_count": 3,
   "id": "bda22ac0-2ce3-46f5-a805-558dbcb2abee",
   "metadata": {},
   "outputs": [
    {
     "name": "stdout",
     "output_type": "stream",
     "text": [
      "[1, 4, 9, 16, 25, 36, 49, 64, 81, 100]\n"
     ]
    }
   ],
   "source": [
    "# Find the squares of numbers from 1 to 10\n",
    "\n",
    "numbers = [1, 2, 3, 4, 5, 6, 7, 8, 9, 10]\n",
    "\n",
    "squares = [n**2 for n in numbers]\n",
    "print(squares)"
   ]
  },
  {
   "cell_type": "code",
   "execution_count": 8,
   "id": "863400eb-f492-4148-b4c7-312eeaf072b1",
   "metadata": {},
   "outputs": [
    {
     "name": "stdout",
     "output_type": "stream",
     "text": [
      "[1.0, 1.2599210498948734, 1.4422495703074083, 1.5874010519681996, 1.7099759466766968, 1.8171205928321394, 1.9129311827723894, 2.0, 2.080083823051904, 2.1544346900318834]\n"
     ]
    }
   ],
   "source": [
    "# Find the cube root of numbers from 1 to 10\n",
    "\n",
    "import numpy as np\n",
    "numbers = [1, 2, 3, 4, 5, 6, 7, 8, 9, 10]\n",
    "\n",
    "cube_roots = [np.cbrt(n) for n in numbers]\n",
    "print(cube_roots)"
   ]
  },
  {
   "cell_type": "code",
   "execution_count": 9,
   "id": "152073ef-a5cf-41d4-9388-2aa40bde01fa",
   "metadata": {},
   "outputs": [
    {
     "name": "stdout",
     "output_type": "stream",
     "text": [
      "[2, 4, 6, 8, 10]\n"
     ]
    }
   ],
   "source": [
    "# Check if a given number is even\n",
    "\n",
    "numbers = [1, 2, 3, 4, 5, 6, 7, 8, 9, 10]\n",
    "\n",
    "even_numbers = [n for n in numbers if n % 2 == 0]\n",
    "print(even_numbers)"
   ]
  },
  {
   "cell_type": "code",
   "execution_count": 10,
   "id": "5c334b0a-0bbe-4fd3-b3ee-fca089d7e866",
   "metadata": {},
   "outputs": [
    {
     "name": "stdout",
     "output_type": "stream",
     "text": [
      "[1, 3, 5, 7, 9]\n"
     ]
    }
   ],
   "source": [
    "# Filter odd numbers from the given list [1,2,3,4,5,6,7,8,9,10]\n",
    "\n",
    "numbers = [1, 2, 3, 4, 5, 6, 7, 8, 9, 10]\n",
    "\n",
    "odd_numbers = [n for n in numbers if n % 2 != 0]\n",
    "print(odd_numbers)"
   ]
  },
  {
   "cell_type": "code",
   "execution_count": 11,
   "id": "a1915d1c-1291-4d28-903e-ea031a222a29",
   "metadata": {},
   "outputs": [
    {
     "name": "stdout",
     "output_type": "stream",
     "text": [
      "[1, 2, 3, 4, 5, 6]\n",
      "[-1, -2, -3, -4, -5]\n"
     ]
    }
   ],
   "source": [
    "# Sort a list of integers into positive and negative integers lists [1,2,3,4,5,6,-1,-2,-3,-4,-5,0]\n",
    "\n",
    "numbers = [1, 2, 3, 4, 5, 6, -1, -2, -3, -4, -5, 0]\n",
    "\n",
    "positive_numbers = [n for n in numbers if n > 0]\n",
    "negative_numbers = [n for n in numbers if n < 0]\n",
    "print(positive_numbers)\n",
    "print(negative_numbers)"
   ]
  }
 ],
 "metadata": {
  "kernelspec": {
   "display_name": "Python 3 (ipykernel)",
   "language": "python",
   "name": "python3"
  },
  "language_info": {
   "codemirror_mode": {
    "name": "ipython",
    "version": 3
   },
   "file_extension": ".py",
   "mimetype": "text/x-python",
   "name": "python",
   "nbconvert_exporter": "python",
   "pygments_lexer": "ipython3",
   "version": "3.10.8"
  }
 },
 "nbformat": 4,
 "nbformat_minor": 5
}

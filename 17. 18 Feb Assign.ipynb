{
 "cells": [
  {
   "cell_type": "markdown",
   "id": "6487e8e9-5510-44df-a3ed-6a1e1516921f",
   "metadata": {},
   "source": [
    "18 FEB ASSIGNMENT"
   ]
  },
  {
   "cell_type": "markdown",
   "id": "63de3b7f-2e8a-49d1-ab5a-11b437fb3708",
   "metadata": {},
   "source": [
    "1."
   ]
  },
  {
   "cell_type": "code",
   "execution_count": 1,
   "id": "9f18ddea-9be5-412b-8b4b-83000c5040fc",
   "metadata": {},
   "outputs": [
    {
     "data": {
      "text/plain": [
       "'API stands for Application Programming Interface. It is a set of protocols, routines, and tools for building software applications. An API defines the interactions between different software components and makes it easier for developers to build applications that can interact with other systems and services.'"
      ]
     },
     "execution_count": 1,
     "metadata": {},
     "output_type": "execute_result"
    }
   ],
   "source": [
    "\"\"\"API stands for Application Programming Interface. It is a set of protocols, routines, and tools for building software applications. An API defines the interactions between different software components and makes it easier for developers to build applications that can interact with other systems and services.\"\"\""
   ]
  },
  {
   "cell_type": "code",
   "execution_count": 2,
   "id": "d915b2c4-e759-46ad-85bb-80383ed86f8d",
   "metadata": {},
   "outputs": [
    {
     "data": {
      "text/plain": [
       "\"One example of an API being used in real life is the Google Maps API. This API allows developers to embed Google Maps into their own websites or applications and customize them to suit their specific needs. For example, a travel website might use the Google Maps API to display a map showing the location of hotels, restaurants, and tourist attractions. The website can customize the map by adding markers, labels, and other features to make it easier for users to find what they're looking for.\""
      ]
     },
     "execution_count": 2,
     "metadata": {},
     "output_type": "execute_result"
    }
   ],
   "source": [
    "\"\"\"One example of an API being used in real life is the Google Maps API. This API allows developers to embed Google Maps into their own websites or applications and customize them to suit their specific needs. For example, a travel website might use the Google Maps API to display a map showing the location of hotels, restaurants, and tourist attractions. The website can customize the map by adding markers, labels, and other features to make it easier for users to find what they're looking for.\"\"\""
   ]
  },
  {
   "cell_type": "markdown",
   "id": "6c91e3d6-1357-4615-90e5-0b6107fd4708",
   "metadata": {},
   "source": [
    "2."
   ]
  },
  {
   "cell_type": "code",
   "execution_count": 3,
   "id": "e3c7b007-986f-448b-9aed-f65342b79258",
   "metadata": {},
   "outputs": [],
   "source": [
    "# Advantages of using API:\n",
    "\n",
    "1. Improved Integration\n",
    "2. Faster Development\n",
    "3. Increased Flexibility\n",
    "4. Better User Experience"
   ]
  },
  {
   "cell_type": "code",
   "execution_count": null,
   "id": "f1a27928-c887-4a8c-a438-93b66d6ad6a9",
   "metadata": {},
   "outputs": [],
   "source": [
    "# Disadvantages of using API:\n",
    "\n",
    "1. Security Risks\n",
    "2. Compatibility Issues\n",
    "3. Maintenance cost Is very high.\n",
    "4. Dependencies on third-party"
   ]
  },
  {
   "cell_type": "markdown",
   "id": "5c56e0ec-8c2f-4595-a95a-9a35c26b51ce",
   "metadata": {},
   "source": [
    "3."
   ]
  },
  {
   "cell_type": "code",
   "execution_count": 4,
   "id": "33452f82-929c-4474-bdd4-6dd73bbe140a",
   "metadata": {},
   "outputs": [
    {
     "data": {
      "text/plain": [
       "'An API (Application Programming Interface) is a set of protocols, tools, and standards that enable different software applications to communicate with each other. APIs facilitate the exchange of data and functionality between various applications or systems, providing developers with a standardized way of accessing certain features or services.'"
      ]
     },
     "execution_count": 4,
     "metadata": {},
     "output_type": "execute_result"
    }
   ],
   "source": [
    "\"\"\"An API (Application Programming Interface) is a set of protocols, tools, and standards that enable different software applications to communicate with each other. APIs facilitate the exchange of data and functionality between various applications or systems, providing developers with a standardized way of accessing certain features or services.\"\"\""
   ]
  },
  {
   "cell_type": "code",
   "execution_count": 5,
   "id": "21a2c4ed-afdd-4a13-bd40-a606d1da5040",
   "metadata": {},
   "outputs": [
    {
     "data": {
      "text/plain": [
       "'A Web API is a type of API that specifically uses HTTP protocols to enable communication over the web. Web APIs are designed to be accessed through a web browser or other web-based application, and typically use standardized data formats like JSON or XML to exchange data with clients. Web APIs can be used to expose certain functionality or data from a web application, making it accessible to other applications or developers.'"
      ]
     },
     "execution_count": 5,
     "metadata": {},
     "output_type": "execute_result"
    }
   ],
   "source": [
    "\"\"\"A Web API is a type of API that specifically uses HTTP protocols to enable communication over the web. Web APIs are designed to be accessed through a web browser or other web-based application, and typically use standardized data formats like JSON or XML to exchange data with clients. Web APIs can be used to expose certain functionality or data from a web application, making it accessible to other applications or developers.\"\"\""
   ]
  },
  {
   "cell_type": "code",
   "execution_count": 6,
   "id": "04926aaa-ff68-4108-b5b6-8692853df1d4",
   "metadata": {},
   "outputs": [
    {
     "data": {
      "text/plain": [
       "'The main difference between API and Web API is that the former is a more general term that encompasses all types of APIs, while the latter specifically refers to APIs that are accessed through web protocols like HTTP. While APIs can be used for a variety of purposes and may use different communication protocols (e.g. socket connections, message queues, etc.), Web APIs are focused on enabling web-based communication and data exchange between different systems.'"
      ]
     },
     "execution_count": 6,
     "metadata": {},
     "output_type": "execute_result"
    }
   ],
   "source": [
    "\"\"\"The main difference between API and Web API is that the former is a more general term that encompasses all types of APIs, while the latter specifically refers to APIs that are accessed through web protocols like HTTP. While APIs can be used for a variety of purposes and may use different communication protocols (e.g. socket connections, message queues, etc.), Web APIs are focused on enabling web-based communication and data exchange between different systems.\"\"\""
   ]
  },
  {
   "cell_type": "markdown",
   "id": "631774e0-0973-4b51-8ede-88a54e54864f",
   "metadata": {},
   "source": [
    "4."
   ]
  },
  {
   "cell_type": "code",
   "execution_count": 7,
   "id": "13176ace-4a98-4e71-8cac-5d07bf059dc7",
   "metadata": {},
   "outputs": [
    {
     "data": {
      "text/plain": [
       "'REST (Representational State Transfer) and SOAP (Simple Object Access Protocol) are two popular architectural styles used for designing web services.'"
      ]
     },
     "execution_count": 7,
     "metadata": {},
     "output_type": "execute_result"
    }
   ],
   "source": [
    "\"\"\"REST (Representational State Transfer) and SOAP (Simple Object Access Protocol) are two popular architectural styles used for designing web services.\"\"\""
   ]
  },
  {
   "cell_type": "code",
   "execution_count": 8,
   "id": "a5ab62cb-288c-465f-be3f-d002b1c7c598",
   "metadata": {},
   "outputs": [
    {
     "data": {
      "text/plain": [
       "'REST Architecture:\\nREST is an architectural style that emphasizes the use of HTTP protocols and the principles of the web to enable communication between different systems. RESTful web services expose a set of resources (e.g. data, functionality, etc.) that can be accessed and manipulated by clients through standard HTTP methods like GET, POST, PUT, and DELETE. REST APIs use a uniform interface and rely on stateless communication between the client and the server, meaning that each request is self-contained and does not rely on information from previous requests.'"
      ]
     },
     "execution_count": 8,
     "metadata": {},
     "output_type": "execute_result"
    }
   ],
   "source": [
    "\"\"\"REST Architecture:\n",
    "REST is an architectural style that emphasizes the use of HTTP protocols and the principles of the web to enable communication between different systems. RESTful web services expose a set of resources (e.g. data, functionality, etc.) that can be accessed and manipulated by clients through standard HTTP methods like GET, POST, PUT, and DELETE. REST APIs use a uniform interface and rely on stateless communication between the client and the server, meaning that each request is self-contained and does not rely on information from previous requests.\"\"\""
   ]
  },
  {
   "cell_type": "code",
   "execution_count": 9,
   "id": "441fe4bd-1b3e-4771-b239-3bc7fc72d614",
   "metadata": {},
   "outputs": [
    {
     "data": {
      "text/plain": [
       "'SOAP Architecture:\\nSOAP is an XML-based protocol for exchanging structured data between different systems. SOAP uses a messaging model and relies on XML to encode data and WSDL (Web Services Description Language) to describe the services offered by a web service. SOAP is more complex than REST and is designed to support more advanced features like security, transactions, and reliability.'"
      ]
     },
     "execution_count": 9,
     "metadata": {},
     "output_type": "execute_result"
    }
   ],
   "source": [
    "\"\"\"SOAP Architecture:\n",
    "SOAP is an XML-based protocol for exchanging structured data between different systems. SOAP uses a messaging model and relies on XML to encode data and WSDL (Web Services Description Language) to describe the services offered by a web service. SOAP is more complex than REST and is designed to support more advanced features like security, transactions, and reliability.\"\"\""
   ]
  },
  {
   "cell_type": "code",
   "execution_count": null,
   "id": "b9c36e59-71af-4c18-8ba9-8b5b9ff10ef0",
   "metadata": {},
   "outputs": [],
   "source": [
    "Shortcomings of SOAP:\n",
    "\n",
    "While SOAP has some advantages in terms of supporting more advanced features, it also has some significant drawbacks compared to REST:\n",
    "\n",
    "1. Complexity: SOAP is a more complex protocol than REST, which can make it more difficult to implement and maintain.\n",
    "\n",
    "2. Performance: SOAP messages tend to be larger than REST messages because of the XML encoding used, which can impact performance and \n",
    "increase bandwidth usage.\n",
    "\n",
    "3. Interoperability: Because SOAP relies on complex XML schemas, it can be more difficult to achieve interoperability between \n",
    "different systems than with REST.\n",
    "\n",
    "4. Scalability: SOAP is often considered less scalable than REST due to its complex messaging model and lack of support for caching.\n",
    "\n",
    "Overall, while SOAP can be useful in certain situations that require more advanced features, REST is generally considered a more \n",
    "lightweight, flexible, and scalable approach to designing web services."
   ]
  },
  {
   "cell_type": "markdown",
   "id": "50721e69-95ca-45d8-bf15-dc1796986c4f",
   "metadata": {},
   "source": [
    "5."
   ]
  },
  {
   "cell_type": "code",
   "execution_count": null,
   "id": "6beee835-017a-4f8b-af3a-3e9d2aec97ff",
   "metadata": {},
   "outputs": [],
   "source": [
    "REST (Representational State Transfer) and SOAP (Simple Object Access Protocol) are two popular architectural styles used for designing web services.\n",
    "While both approaches are used to build distributed systems, there are several differences between REST and SOAP:\n",
    "\n",
    "1. Communication Style: REST uses HTTP protocols like GET, POST, PUT, and DELETE to enable communication between different systems, \n",
    "while SOAP uses a messaging model and can be transported over a variety of protocols, including HTTP, SMTP, and TCP.\n",
    "\n",
    "2. Data Format: REST typically uses lightweight data formats like JSON or XML to exchange data with clients, while SOAP uses XML to encode data.\n",
    "\n",
    "3. Architecture: REST is a client-server architecture that emphasizes stateless communication and a uniform interface for accessing resources, \n",
    "while SOAP is a message-based architecture that focuses on exchanging structured data between different systems.\n",
    "\n",
    "4. Complexity: REST is generally considered simpler and easier to implement than SOAP, which can be more complex due to its reliance on XML schemas.\n",
    "\n",
    "5. Performance: REST is often considered faster and more efficient than SOAP, which can be slower due to the additional overhead of encoding\n",
    "and decoding XML messages.\n",
    "\n",
    "6. Interoperability: REST is generally considered more interoperable than SOAP because it relies on standard HTTP protocols and lightweight \n",
    "data formats, making it easier to communicate between different systems and platforms."
   ]
  }
 ],
 "metadata": {
  "kernelspec": {
   "display_name": "Python 3 (ipykernel)",
   "language": "python",
   "name": "python3"
  },
  "language_info": {
   "codemirror_mode": {
    "name": "ipython",
    "version": 3
   },
   "file_extension": ".py",
   "mimetype": "text/x-python",
   "name": "python",
   "nbconvert_exporter": "python",
   "pygments_lexer": "ipython3",
   "version": "3.10.8"
  }
 },
 "nbformat": 4,
 "nbformat_minor": 5
}

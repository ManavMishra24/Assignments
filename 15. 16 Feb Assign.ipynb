{
 "cells": [
  {
   "cell_type": "markdown",
   "id": "bbff3bfb-b52a-442d-80e6-812cd8093999",
   "metadata": {},
   "source": [
    "16 FEB ASSIGNMENT"
   ]
  },
  {
   "cell_type": "markdown",
   "id": "d18e3aef-8670-409b-89d3-85d0f3d8169f",
   "metadata": {},
   "source": [
    "1."
   ]
  },
  {
   "cell_type": "code",
   "execution_count": 1,
   "id": "598091ef-b339-4a8b-ab4b-17e887b85930",
   "metadata": {},
   "outputs": [
    {
     "data": {
      "text/plain": [
       "'A database is a software application designed to store, organize, and manage large amounts of data. It provides a way to access, retrieve, and manipulate data stored in the database. Databases are used in a wide range of applications, from managing customer information in a business to storing data in scientific research.'"
      ]
     },
     "execution_count": 1,
     "metadata": {},
     "output_type": "execute_result"
    }
   ],
   "source": [
    "\"\"\"A database is a software application designed to store, organize, and manage large amounts of data. It provides a way to access, retrieve, and manipulate data stored in the database. Databases are used in a wide range of applications, from managing customer information in a business to storing data in scientific research.\"\"\""
   ]
  },
  {
   "cell_type": "code",
   "execution_count": 2,
   "id": "f6bf0788-166c-4b8f-9d49-88199ed2871e",
   "metadata": {},
   "outputs": [
    {
     "data": {
      "text/plain": [
       "'SQL databases use Structured Query Language (SQL) to interact with the data. They are relational databases, which means that they organize data into tables with predefined columns and rows. SQL databases are designed to handle structured data with a fixed schema, which makes them suitable for applications that require complex queries and data transactions. Examples of SQL databases include Oracle, MySQL, and PostgreSQL.'"
      ]
     },
     "execution_count": 2,
     "metadata": {},
     "output_type": "execute_result"
    }
   ],
   "source": [
    "\"\"\"SQL databases use Structured Query Language (SQL) to interact with the data. They are relational databases, which means that they organize data into tables with predefined columns and rows. SQL databases are designed to handle structured data with a fixed schema, which makes them suitable for applications that require complex queries and data transactions. Examples of SQL databases include Oracle, MySQL, and PostgreSQL.\"\"\""
   ]
  },
  {
   "cell_type": "code",
   "execution_count": 3,
   "id": "031d8c23-ea96-4340-83f1-4fe0429c6d98",
   "metadata": {},
   "outputs": [
    {
     "data": {
      "text/plain": [
       "'NoSQL databases, on the other hand, are non-relational databases that do not use SQL. They are designed to handle unstructured or semi-structured data, which makes them ideal for applications that require high scalability and flexibility. NoSQL databases can handle a variety of data types, including text, images, and videos. Examples of NoSQL databases include MongoDB, Cassandra, and Redis.'"
      ]
     },
     "execution_count": 3,
     "metadata": {},
     "output_type": "execute_result"
    }
   ],
   "source": [
    "\"\"\"NoSQL databases, on the other hand, are non-relational databases that do not use SQL. They are designed to handle unstructured or semi-structured data, which makes them ideal for applications that require high scalability and flexibility. NoSQL databases can handle a variety of data types, including text, images, and videos. Examples of NoSQL databases include MongoDB, Cassandra, and Redis.\"\"\""
   ]
  },
  {
   "cell_type": "code",
   "execution_count": 4,
   "id": "7c985f48-ffa5-4452-bdaa-2de343327bab",
   "metadata": {},
   "outputs": [
    {
     "data": {
      "text/plain": [
       "'In Conclusion, SQL databases are best suited for applications that require structured data with a fixed schema and complex queries, while NoSQL databases are ideal for applications that require high scalability and flexibility with unstructured or semi-structured data.'"
      ]
     },
     "execution_count": 4,
     "metadata": {},
     "output_type": "execute_result"
    }
   ],
   "source": [
    "\"\"\"In Conclusion, SQL databases are best suited for applications that require structured data with a fixed schema and complex queries, while NoSQL databases are ideal for applications that require high scalability and flexibility with unstructured or semi-structured data.\"\"\""
   ]
  },
  {
   "cell_type": "markdown",
   "id": "c5f7c521-160c-47c0-a7c1-63dbd49958c7",
   "metadata": {},
   "source": [
    "2."
   ]
  },
  {
   "cell_type": "code",
   "execution_count": 5,
   "id": "6190c179-ebd0-4939-b9d1-b8d917ca3e8e",
   "metadata": {},
   "outputs": [
    {
     "data": {
      "text/plain": [
       "'DDL stands for Data Definition Language, which is a subset of SQL used to define and manage the structure of a database, including tables, indexes, and constraints.'"
      ]
     },
     "execution_count": 5,
     "metadata": {},
     "output_type": "execute_result"
    }
   ],
   "source": [
    "\"\"\"DDL stands for Data Definition Language, which is a subset of SQL used to define and manage the structure of a database, including tables, indexes, and constraints.\"\"\""
   ]
  },
  {
   "cell_type": "code",
   "execution_count": 6,
   "id": "f57767dd-1fd6-45e7-a920-5a8212a0c0ac",
   "metadata": {},
   "outputs": [],
   "source": [
    "# The four main DDL commands are:"
   ]
  },
  {
   "cell_type": "code",
   "execution_count": 10,
   "id": "ef9ebc6c-0f86-45ce-8c7f-dcbf15f72202",
   "metadata": {},
   "outputs": [
    {
     "data": {
      "text/plain": [
       "'1. CREATE: This command is used to create a new database object, such as a table or index, in a database.'"
      ]
     },
     "execution_count": 10,
     "metadata": {},
     "output_type": "execute_result"
    }
   ],
   "source": [
    "\"\"\"1. CREATE: This command is used to create a new database object, such as a table or index, in a database.\"\"\""
   ]
  },
  {
   "cell_type": "code",
   "execution_count": null,
   "id": "a616214f-3b8d-432e-9e23-6df47e1a0940",
   "metadata": {},
   "outputs": [],
   "source": [
    "CREATE TABLE users (\n",
    "    id INT PRIMARY KEY,\n",
    "    name VARCHAR(50),\n",
    "    email VARCHAR(100)\n",
    ");"
   ]
  },
  {
   "cell_type": "code",
   "execution_count": 9,
   "id": "96ffe5d6-5db2-40b7-9301-1e7612e452d1",
   "metadata": {},
   "outputs": [
    {
     "data": {
      "text/plain": [
       "'2. DROP: This command is used to delete a database object, such as a table or index, from a database.'"
      ]
     },
     "execution_count": 9,
     "metadata": {},
     "output_type": "execute_result"
    }
   ],
   "source": [
    "\"\"\"2. DROP: This command is used to delete a database object, such as a table or index, from a database.\"\"\""
   ]
  },
  {
   "cell_type": "code",
   "execution_count": null,
   "id": "0b3c1969-f26d-4591-854b-92d3c7fdc08c",
   "metadata": {},
   "outputs": [],
   "source": [
    "DROP TABLE users;"
   ]
  },
  {
   "cell_type": "code",
   "execution_count": 11,
   "id": "1ac54629-2365-46b8-907c-aba201a882bc",
   "metadata": {},
   "outputs": [
    {
     "data": {
      "text/plain": [
       "'3. ALTER: This command is used to modify the structure of an existing database object, such as a table or index.'"
      ]
     },
     "execution_count": 11,
     "metadata": {},
     "output_type": "execute_result"
    }
   ],
   "source": [
    "\"\"\"3. ALTER: This command is used to modify the structure of an existing database object, such as a table or index.\"\"\""
   ]
  },
  {
   "cell_type": "code",
   "execution_count": null,
   "id": "8ad6a0ed-dfa2-44a4-a9ec-81082bd47efb",
   "metadata": {},
   "outputs": [],
   "source": [
    "ALTER TABLE users ADD COLUMN phone VARCHAR(20);"
   ]
  },
  {
   "cell_type": "code",
   "execution_count": 12,
   "id": "4893516e-4ef6-4fd5-975c-759554ed09a0",
   "metadata": {},
   "outputs": [
    {
     "data": {
      "text/plain": [
       "'4. TRUNCATE: This command is used to remove all data from a table without deleting the table itself.'"
      ]
     },
     "execution_count": 12,
     "metadata": {},
     "output_type": "execute_result"
    }
   ],
   "source": [
    "\"\"\"4. TRUNCATE: This command is used to remove all data from a table without deleting the table itself.\"\"\""
   ]
  },
  {
   "cell_type": "code",
   "execution_count": null,
   "id": "a5d2624e-85a5-47b5-8216-7724b2f74a78",
   "metadata": {},
   "outputs": [],
   "source": [
    "TRUNCATE TABLE users;"
   ]
  },
  {
   "cell_type": "code",
   "execution_count": 13,
   "id": "a5cee47e-b097-496f-9ce0-15b7ec9ed4b1",
   "metadata": {},
   "outputs": [
    {
     "data": {
      "text/plain": [
       "'These DDL commands are essential for managing the structure and contents of a database. CREATE is used to define new database objects, DROP is used to remove them, ALTER is used to modify them, and TRUNCATE is used to remove all data from a table. By using these commands, database administrators can create and maintain a database schema that meets the needs of their applications.'"
      ]
     },
     "execution_count": 13,
     "metadata": {},
     "output_type": "execute_result"
    }
   ],
   "source": [
    "\"\"\"These DDL commands are essential for managing the structure and contents of a database. CREATE is used to define new database objects, DROP is used to remove them, ALTER is used to modify them, and TRUNCATE is used to remove all data from a table. By using these commands, database administrators can create and maintain a database schema that meets the needs of their applications.\"\"\""
   ]
  },
  {
   "cell_type": "markdown",
   "id": "9a98d085-ec1e-4d9f-a32d-4f108b765e5b",
   "metadata": {},
   "source": [
    "3."
   ]
  },
  {
   "cell_type": "code",
   "execution_count": 14,
   "id": "ef2bb197-8c12-4927-8c10-adb83d448b89",
   "metadata": {},
   "outputs": [
    {
     "data": {
      "text/plain": [
       "'DML stands for Data Manipulation Language, which is a subset of SQL used to modify and manipulate data within a database.'"
      ]
     },
     "execution_count": 14,
     "metadata": {},
     "output_type": "execute_result"
    }
   ],
   "source": [
    "\"\"\"DML stands for Data Manipulation Language, which is a subset of SQL used to modify and manipulate data within a database.\"\"\""
   ]
  },
  {
   "cell_type": "code",
   "execution_count": 16,
   "id": "a115b6f5-dd7f-4b55-a8cd-cac8954f8a1e",
   "metadata": {},
   "outputs": [],
   "source": [
    "# The three main DML commands are:"
   ]
  },
  {
   "cell_type": "code",
   "execution_count": 17,
   "id": "f00ccddb-8a63-4ae7-a863-0fd5a3766c05",
   "metadata": {},
   "outputs": [
    {
     "data": {
      "text/plain": [
       "'1. INSERT: This command is used to add new rows of data to a table in a database.'"
      ]
     },
     "execution_count": 17,
     "metadata": {},
     "output_type": "execute_result"
    }
   ],
   "source": [
    "\"\"\"1. INSERT: This command is used to add new rows of data to a table in a database.\"\"\""
   ]
  },
  {
   "cell_type": "code",
   "execution_count": null,
   "id": "e4877e36-2f29-4b9a-84fe-8aa4fc5f9ca9",
   "metadata": {},
   "outputs": [],
   "source": [
    "INSERT INTO users (id, name, email) VALUES (1, 'John', 'john@example.com');"
   ]
  },
  {
   "cell_type": "code",
   "execution_count": 18,
   "id": "2359f284-da27-45d9-a79c-9408437231a3",
   "metadata": {},
   "outputs": [
    {
     "data": {
      "text/plain": [
       "'2. UPDATE: This command is used to modify existing rows of data in a table.'"
      ]
     },
     "execution_count": 18,
     "metadata": {},
     "output_type": "execute_result"
    }
   ],
   "source": [
    "\"\"\"2. UPDATE: This command is used to modify existing rows of data in a table.\"\"\""
   ]
  },
  {
   "cell_type": "code",
   "execution_count": null,
   "id": "d19980e1-c20f-4f33-be7f-9ab9b2b7fddb",
   "metadata": {},
   "outputs": [],
   "source": [
    "UPDATE users SET email = 'john.doe@example.com' WHERE id = 1;"
   ]
  },
  {
   "cell_type": "code",
   "execution_count": 19,
   "id": "4d822586-5c2c-426a-aef4-d00346028495",
   "metadata": {},
   "outputs": [
    {
     "data": {
      "text/plain": [
       "'3. DELETE: This command is used to remove rows of data from a table.'"
      ]
     },
     "execution_count": 19,
     "metadata": {},
     "output_type": "execute_result"
    }
   ],
   "source": [
    "\"\"\"3. DELETE: This command is used to remove rows of data from a table.\"\"\""
   ]
  },
  {
   "cell_type": "code",
   "execution_count": null,
   "id": "f3a72208-123e-4df5-a3ef-0e26d63656dc",
   "metadata": {},
   "outputs": [],
   "source": [
    "DELETE FROM users WHERE id = 1;"
   ]
  },
  {
   "cell_type": "code",
   "execution_count": 20,
   "id": "62e79c51-c660-4761-a1fb-7962eac7deb9",
   "metadata": {},
   "outputs": [
    {
     "data": {
      "text/plain": [
       "'In Conclusion, These DML commands are essential for managing the contents of a database. INSERT is used to add new data, UPDATE is used to modify existing data, and DELETE is used to remove data. By using these commands, database administrators can manipulate data within a database to meet the needs of their applications.'"
      ]
     },
     "execution_count": 20,
     "metadata": {},
     "output_type": "execute_result"
    }
   ],
   "source": [
    "\"\"\"In Conclusion, These DML commands are essential for managing the contents of a database. INSERT is used to add new data, UPDATE is used to modify existing data, and DELETE is used to remove data. By using these commands, database administrators can manipulate data within a database to meet the needs of their applications.\"\"\"  "
   ]
  },
  {
   "cell_type": "markdown",
   "id": "348f9c69-899e-48c2-b4b4-20ea05f38478",
   "metadata": {},
   "source": [
    "4."
   ]
  },
  {
   "cell_type": "code",
   "execution_count": 21,
   "id": "259e149a-bfce-404b-807b-5957770f6fde",
   "metadata": {},
   "outputs": [
    {
     "data": {
      "text/plain": [
       "'DQL stands for Data Query Language, which is a subset of SQL used to retrieve data from a database.'"
      ]
     },
     "execution_count": 21,
     "metadata": {},
     "output_type": "execute_result"
    }
   ],
   "source": [
    "\"\"\"DQL stands for Data Query Language, which is a subset of SQL used to retrieve data from a database.\"\"\""
   ]
  },
  {
   "cell_type": "code",
   "execution_count": 22,
   "id": "c0e404e9-463e-4c0d-a23b-aa0b79b0454a",
   "metadata": {},
   "outputs": [],
   "source": [
    "# The main DQL command is:"
   ]
  },
  {
   "cell_type": "code",
   "execution_count": 23,
   "id": "0f5ea2ca-2c77-4bf8-a6a5-eac0dcaa618e",
   "metadata": {},
   "outputs": [
    {
     "data": {
      "text/plain": [
       "'SELECT: This command is used to retrieve data from one or more tables in a database.'"
      ]
     },
     "execution_count": 23,
     "metadata": {},
     "output_type": "execute_result"
    }
   ],
   "source": [
    "\"\"\"SELECT: This command is used to retrieve data from one or more tables in a database.\"\"\""
   ]
  },
  {
   "cell_type": "code",
   "execution_count": null,
   "id": "27f29ecf-451e-4f96-9810-5bc3db09b84f",
   "metadata": {},
   "outputs": [],
   "source": [
    "SELECT * FROM users;"
   ]
  },
  {
   "cell_type": "code",
   "execution_count": 24,
   "id": "89ca9be5-343b-413a-9e2a-2f1aae026b7d",
   "metadata": {},
   "outputs": [
    {
     "data": {
      "text/plain": [
       "'By using the SELECT command and its various options, you can retrieve data from one or more tables, filter and sort the results, and retrieve only the data you need to meet the needs of your applications.'"
      ]
     },
     "execution_count": 24,
     "metadata": {},
     "output_type": "execute_result"
    }
   ],
   "source": [
    "\"\"\"By using the SELECT command and its various options, you can retrieve data from one or more tables, filter and sort the results, and retrieve only the data you need to meet the needs of your applications.\"\"\""
   ]
  },
  {
   "cell_type": "markdown",
   "id": "1fdb568a-c342-4eab-af54-30674f08e94d",
   "metadata": {},
   "source": [
    "5."
   ]
  },
  {
   "cell_type": "code",
   "execution_count": 25,
   "id": "54a08c66-5ab4-4697-87c4-7cefedb9dba6",
   "metadata": {},
   "outputs": [
    {
     "data": {
      "text/plain": [
       "'In database design, a primary key is a column or a set of columns that uniquely identifies each row in a table. It is used to enforce entity integrity, which means that each row in a table represents a unique entity or object. A primary key is typically a numeric or alphanumeric value that is assigned to each row when it is created.'"
      ]
     },
     "execution_count": 25,
     "metadata": {},
     "output_type": "execute_result"
    }
   ],
   "source": [
    "\"\"\"In database design, a primary key is a column or a set of columns that uniquely identifies each row in a table. It is used to enforce entity integrity, which means that each row in a table represents a unique entity or object. A primary key is typically a numeric or alphanumeric value that is assigned to each row when it is created.\"\"\""
   ]
  },
  {
   "cell_type": "code",
   "execution_count": 26,
   "id": "2c5a8b7b-b36f-44ed-af77-7fbb8be2693f",
   "metadata": {},
   "outputs": [
    {
     "data": {
      "text/plain": [
       "'For example, in a table of employees, the primary key could be an employee ID number. This ID number uniquely identifies each employee in the table, ensuring that each row represents a unique employee.'"
      ]
     },
     "execution_count": 26,
     "metadata": {},
     "output_type": "execute_result"
    }
   ],
   "source": [
    "\"\"\"For example, in a table of employees, the primary key could be an employee ID number. This ID number uniquely identifies each employee in the table, ensuring that each row represents a unique employee.\"\"\""
   ]
  },
  {
   "cell_type": "code",
   "execution_count": 27,
   "id": "1a834786-a82b-42f7-9896-1f216c2e0141",
   "metadata": {},
   "outputs": [
    {
     "data": {
      "text/plain": [
       "'A foreign key, on the other hand, is a column or a set of columns in one table that refers to the primary key of another table. It is used to enforce referential integrity, which means that the data in one table is linked to the data in another table.'"
      ]
     },
     "execution_count": 27,
     "metadata": {},
     "output_type": "execute_result"
    }
   ],
   "source": [
    "\"\"\"A foreign key, on the other hand, is a column or a set of columns in one table that refers to the primary key of another table. It is used to enforce referential integrity, which means that the data in one table is linked to the data in another table.\"\"\""
   ]
  },
  {
   "cell_type": "code",
   "execution_count": 28,
   "id": "e9d4739b-36f8-4c49-850d-4052d978f949",
   "metadata": {},
   "outputs": [
    {
     "data": {
      "text/plain": [
       "'For example, in a table of orders, the foreign key could be a customer ID number that refers to the primary key of a table of customers. This links each order to a specific customer in the customers table, ensuring that the data in both tables is consistent and accurate.'"
      ]
     },
     "execution_count": 28,
     "metadata": {},
     "output_type": "execute_result"
    }
   ],
   "source": [
    "\"\"\"For example, in a table of orders, the foreign key could be a customer ID number that refers to the primary key of a table of customers. This links each order to a specific customer in the customers table, ensuring that the data in both tables is consistent and accurate.\"\"\""
   ]
  },
  {
   "cell_type": "markdown",
   "id": "e8537e28-4a61-43ad-8160-d8fe10bcb77d",
   "metadata": {},
   "source": [
    "6."
   ]
  },
  {
   "cell_type": "code",
   "execution_count": null,
   "id": "3e10e6cc-bcfa-4ed7-9102-62090e26becc",
   "metadata": {},
   "outputs": [],
   "source": [
    "import mysql.connector\n",
    "\n",
    "# establish connection\n",
    "mydb = mysql.connector.connect(\n",
    "  host=\"localhost\",\n",
    "  user=\"yourusername\",\n",
    "  password=\"yourpassword\",\n",
    "  database=\"yourdatabase\"\n",
    ")\n",
    "\n",
    "mycursor = mydb.cursor()\n",
    "\n",
    "mycursor.execute(\"SELECT * FROM customers\")\n",
    "\n",
    "result = mycursor.fetchall()\n",
    "\n",
    "for row in result:\n",
    "  print(row)"
   ]
  },
  {
   "cell_type": "code",
   "execution_count": 29,
   "id": "bc441aac-7200-42b0-8abd-9b4a953cdb6e",
   "metadata": {},
   "outputs": [
    {
     "data": {
      "text/plain": [
       "'The cursor() method creates a cursor object that can be used to execute queries and fetch results from the database.'"
      ]
     },
     "execution_count": 29,
     "metadata": {},
     "output_type": "execute_result"
    }
   ],
   "source": [
    "\"\"\"The cursor() method creates a cursor object that can be used to execute queries and fetch results from the database.\"\"\""
   ]
  },
  {
   "cell_type": "code",
   "execution_count": 30,
   "id": "af2d26b1-4fbb-4d34-91f4-6ac586d38c69",
   "metadata": {},
   "outputs": [
    {
     "data": {
      "text/plain": [
       "'The execute() method is used to execute a SQL query on the database. It takes a single argument, which is a string containing the SQL query to be executed.'"
      ]
     },
     "execution_count": 30,
     "metadata": {},
     "output_type": "execute_result"
    }
   ],
   "source": [
    "\"\"\"The execute() method is used to execute a SQL query on the database. It takes a single argument, which is a string containing the SQL query to be executed.\"\"\""
   ]
  },
  {
   "cell_type": "markdown",
   "id": "ccd7e49a-cbe7-43fd-928f-3e3d703a3651",
   "metadata": {},
   "source": [
    "7."
   ]
  },
  {
   "cell_type": "code",
   "execution_count": 31,
   "id": "bb68121e-80c9-456c-92fe-fa7b84cc2e5d",
   "metadata": {},
   "outputs": [
    {
     "data": {
      "text/plain": [
       "'The order of execution of SQL clauses in an SQL query is as follows:'"
      ]
     },
     "execution_count": 31,
     "metadata": {},
     "output_type": "execute_result"
    }
   ],
   "source": [
    "\"\"\"The order of execution of SQL clauses in an SQL query is as follows:\"\"\""
   ]
  },
  {
   "cell_type": "code",
   "execution_count": null,
   "id": "6df3d403-fdbc-47c6-8de4-dda7a0c8a87b",
   "metadata": {},
   "outputs": [],
   "source": [
    "1. FROM: This clause specifies the table or tables from which the data should be retrieved.\n",
    "\n",
    "2. WHERE: This clause is used to filter the data based on a specified condition.\n",
    "\n",
    "3. GROUP BY: This clause is used to group the data by one or more columns.\n",
    "\n",
    "4. HAVING: This clause is used to filter the grouped data based on a specified condition.\n",
    "\n",
    "5. SELECT: This clause is used to select the columns to be retrieved.\n",
    "\n",
    "6. ORDER BY: This clause is used to sort the data based on a specified column or columns.\n",
    "\n",
    "7. LIMIT: This clause is used to limit the number of rows returned by the query."
   ]
  }
 ],
 "metadata": {
  "kernelspec": {
   "display_name": "Python 3 (ipykernel)",
   "language": "python",
   "name": "python3"
  },
  "language_info": {
   "codemirror_mode": {
    "name": "ipython",
    "version": 3
   },
   "file_extension": ".py",
   "mimetype": "text/x-python",
   "name": "python",
   "nbconvert_exporter": "python",
   "pygments_lexer": "ipython3",
   "version": "3.10.8"
  }
 },
 "nbformat": 4,
 "nbformat_minor": 5
}

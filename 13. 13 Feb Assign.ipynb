{
 "cells": [
  {
   "cell_type": "markdown",
   "id": "6449650a-fc6a-4d4e-9610-4d2bd78ccd8e",
   "metadata": {},
   "source": [
    "1."
   ]
  },
  {
   "cell_type": "code",
   "execution_count": null,
   "id": "78efcd18-297f-47c1-a975-c35c26060357",
   "metadata": {},
   "outputs": [],
   "source": [
    "When we create a custom exception in Python, we typically create a new class that inherits from the built-in Exception class. \n",
    "\n",
    "Here are a few reasons why we use the Exception class as the base class for custom exceptions:\n",
    "\n",
    "1. Provides a standard interface: By inheriting from the Exception class, our custom exception class gets access to a standard set of attributes\n",
    "and methods that are expected for all exceptions in Python. This includes the args attribute which holds the error message and the __str__() method\n",
    "which is used to convert the exception object to a string.\n",
    "\n",
    "2. Can be caught with a broad except statement: Since all built-in exceptions in Python inherit from the Exception class, any custom exception that\n",
    "inherits from the Exception class can be caught with a broad except statement that catches all exceptions. This can make it easier to handle errors\n",
    "in our code.\n",
    "\n",
    "3. Follows convention: In Python, it is a convention to inherit custom exceptions from the Exception class. This makes our code more readable and \n",
    "understandable to other developers who might be familiar with this convention."
   ]
  },
  {
   "cell_type": "markdown",
   "id": "6b49a3ad-9e18-45ec-afc6-651755e6a1c6",
   "metadata": {},
   "source": [
    "2."
   ]
  },
  {
   "cell_type": "code",
   "execution_count": 14,
   "id": "9e49a4fe-07b4-45b9-96c4-04baba3ffa55",
   "metadata": {},
   "outputs": [
    {
     "name": "stdout",
     "output_type": "stream",
     "text": [
      "Python Exception Hierarchy : \n",
      " BaseException\n",
      "--- Exception\n",
      "------ TypeError\n",
      "--------- FloatOperation\n",
      "--------- MultipartConversionError\n",
      "------ StopAsyncIteration\n",
      "------ StopIteration\n",
      "------ ImportError\n",
      "--------- ModuleNotFoundError\n",
      "--------- ZipImportError\n",
      "------ OSError\n",
      "--------- ConnectionError\n",
      "------------ BrokenPipeError\n",
      "------------ ConnectionAbortedError\n",
      "------------ ConnectionRefusedError\n",
      "------------ ConnectionResetError\n",
      "--------------- RemoteDisconnected\n",
      "--------- BlockingIOError\n",
      "--------- ChildProcessError\n",
      "--------- FileExistsError\n",
      "--------- FileNotFoundError\n",
      "--------- IsADirectoryError\n",
      "--------- NotADirectoryError\n",
      "--------- InterruptedError\n",
      "------------ InterruptedSystemCall\n",
      "--------- PermissionError\n",
      "--------- ProcessLookupError\n",
      "--------- TimeoutError\n",
      "--------- UnsupportedOperation\n",
      "--------- itimer_error\n",
      "--------- herror\n",
      "--------- gaierror\n",
      "--------- SSLError\n",
      "------------ SSLCertVerificationError\n",
      "------------ SSLZeroReturnError\n",
      "------------ SSLWantWriteError\n",
      "------------ SSLWantReadError\n",
      "------------ SSLSyscallError\n",
      "------------ SSLEOFError\n",
      "--------- Error\n",
      "------------ SameFileError\n",
      "--------- SpecialFileError\n",
      "--------- ExecError\n",
      "--------- ReadError\n",
      "--------- URLError\n",
      "------------ HTTPError\n",
      "------------ ContentTooShortError\n",
      "--------- BadGzipFile\n",
      "------ EOFError\n",
      "--------- IncompleteReadError\n",
      "------ RuntimeError\n",
      "--------- RecursionError\n",
      "--------- NotImplementedError\n",
      "------------ ZMQVersionError\n",
      "------------ StdinNotImplementedError\n",
      "--------- _DeadlockError\n",
      "--------- BrokenBarrierError\n",
      "--------- BrokenExecutor\n",
      "------------ BrokenThreadPool\n",
      "--------- SendfileNotAvailableError\n",
      "--------- ExtractionError\n",
      "--------- VariableError\n",
      "------ NameError\n",
      "--------- UnboundLocalError\n",
      "------ AttributeError\n",
      "--------- FrozenInstanceError\n",
      "------ SyntaxError\n",
      "--------- IndentationError\n",
      "------------ TabError\n",
      "------ LookupError\n",
      "--------- IndexError\n",
      "--------- KeyError\n",
      "------------ NoSuchKernel\n",
      "------------ UnknownBackend\n",
      "--------- CodecRegistryError\n",
      "------ ValueError\n",
      "--------- UnicodeError\n",
      "------------ UnicodeEncodeError\n",
      "------------ UnicodeDecodeError\n",
      "------------ UnicodeTranslateError\n",
      "--------- UnsupportedOperation\n",
      "--------- JSONDecodeError\n",
      "--------- SSLCertVerificationError\n",
      "--------- Error\n",
      "--------- UnsupportedDigestmodError\n",
      "--------- IllegalMonthError\n",
      "--------- IllegalWeekdayError\n",
      "--------- ParserError\n",
      "--------- ClassNotFound\n",
      "--------- ClipboardEmpty\n",
      "--------- MessageDefect\n",
      "------------ NoBoundaryInMultipartDefect\n",
      "------------ StartBoundaryNotFoundDefect\n",
      "------------ CloseBoundaryNotFoundDefect\n",
      "------------ FirstHeaderLineIsContinuationDefect\n",
      "------------ MisplacedEnvelopeHeaderDefect\n",
      "------------ MissingHeaderBodySeparatorDefect\n",
      "------------ MultipartInvariantViolationDefect\n",
      "------------ InvalidMultipartContentTransferEncodingDefect\n",
      "------------ UndecodableBytesDefect\n",
      "------------ InvalidBase64PaddingDefect\n",
      "------------ InvalidBase64CharactersDefect\n",
      "------------ InvalidBase64LengthDefect\n",
      "------------ HeaderDefect\n",
      "--------------- InvalidHeaderDefect\n",
      "--------------- HeaderMissingRequiredValue\n",
      "--------------- NonPrintableDefect\n",
      "--------------- ObsoleteHeaderDefect\n",
      "--------------- NonASCIILocalPartDefect\n",
      "--------------- InvalidDateDefect\n",
      "--------- MacroToEdit\n",
      "--------- InvalidFileException\n",
      "--------- UnequalIterablesError\n",
      "--------- InvalidVersion\n",
      "--------- _InvalidELFFileHeader\n",
      "--------- InvalidWheelFilename\n",
      "--------- InvalidSdistFilename\n",
      "--------- InvalidSpecifier\n",
      "--------- InvalidMarker\n",
      "--------- UndefinedComparison\n",
      "--------- UndefinedEnvironmentName\n",
      "--------- InvalidRequirement\n",
      "------------ RequirementParseError\n",
      "--------- InvalidVersion\n",
      "------ AssertionError\n",
      "------ ArithmeticError\n",
      "--------- FloatingPointError\n",
      "--------- OverflowError\n",
      "--------- ZeroDivisionError\n",
      "------------ DivisionByZero\n",
      "------------ DivisionUndefined\n",
      "--------- DecimalException\n",
      "------------ Clamped\n",
      "------------ Rounded\n",
      "--------------- Underflow\n",
      "--------------- Overflow\n",
      "------------ Inexact\n",
      "--------------- Underflow\n",
      "--------------- Overflow\n",
      "------------ Subnormal\n",
      "--------------- Underflow\n",
      "------------ DivisionByZero\n",
      "------------ FloatOperation\n",
      "------------ InvalidOperation\n",
      "--------------- ConversionSyntax\n",
      "--------------- DivisionImpossible\n",
      "--------------- DivisionUndefined\n",
      "--------------- InvalidContext\n",
      "------ SystemError\n",
      "--------- CodecRegistryError\n",
      "------ ReferenceError\n",
      "------ MemoryError\n",
      "------ BufferError\n",
      "------ Warning\n",
      "--------- UserWarning\n",
      "------------ GetPassWarning\n",
      "------------ FormatterWarning\n",
      "--------- EncodingWarning\n",
      "--------- DeprecationWarning\n",
      "------------ ProvisionalWarning\n",
      "--------- PendingDeprecationWarning\n",
      "--------- SyntaxWarning\n",
      "--------- RuntimeWarning\n",
      "------------ ProactorSelectorThreadWarning\n",
      "------------ UnknownTimezoneWarning\n",
      "------------ PEP440Warning\n",
      "--------- FutureWarning\n",
      "------------ ProvisionalCompleterWarning\n",
      "--------- ImportWarning\n",
      "--------- UnicodeWarning\n",
      "--------- BytesWarning\n",
      "--------- ResourceWarning\n",
      "--------- DeprecatedTzFormatWarning\n",
      "--------- PkgResourcesDeprecationWarning\n",
      "------ _OptionError\n",
      "------ _Error\n",
      "------ error\n",
      "------ Verbose\n",
      "------ Error\n",
      "------ SubprocessError\n",
      "--------- CalledProcessError\n",
      "--------- TimeoutExpired\n",
      "------ TokenError\n",
      "------ StopTokenizing\n",
      "------ ClassFoundException\n",
      "------ EndOfBlock\n",
      "------ TraitError\n",
      "------ Error\n",
      "------ Error\n",
      "--------- CancelledError\n",
      "--------- TimeoutError\n",
      "--------- InvalidStateError\n",
      "------ _GiveupOnSendfile\n",
      "------ error\n",
      "------ Incomplete\n",
      "------ TimeoutError\n",
      "------ InvalidStateError\n",
      "------ LimitOverrunError\n",
      "------ QueueEmpty\n",
      "------ QueueFull\n",
      "------ Empty\n",
      "------ Full\n",
      "------ ArgumentError\n",
      "------ ZMQBaseError\n",
      "--------- ZMQError\n",
      "------------ ContextTerminated\n",
      "------------ Again\n",
      "------------ InterruptedSystemCall\n",
      "--------- ZMQBindError\n",
      "--------- NotDone\n",
      "------ PickleError\n",
      "--------- PicklingError\n",
      "--------- UnpicklingError\n",
      "------ _Stop\n",
      "------ ArgumentError\n",
      "------ ArgumentTypeError\n",
      "------ ConfigError\n",
      "--------- ConfigLoaderError\n",
      "------------ ArgumentError\n",
      "--------- ConfigFileNotFound\n",
      "------ ConfigurableError\n",
      "--------- MultipleInstanceError\n",
      "------ ApplicationError\n",
      "------ error\n",
      "------ TimeoutError\n",
      "------ error\n",
      "------ ReturnValueIgnoredError\n",
      "------ KeyReuseError\n",
      "------ UnknownKeyError\n",
      "------ LeakedCallbackError\n",
      "------ BadYieldError\n",
      "------ ReturnValueIgnoredError\n",
      "------ Return\n",
      "------ InvalidPortNumber\n",
      "------ error\n",
      "------ LZMAError\n",
      "------ RegistryError\n",
      "------ _GiveupOnFastCopy\n",
      "------ Error\n",
      "--------- NoSectionError\n",
      "--------- DuplicateSectionError\n",
      "--------- DuplicateOptionError\n",
      "--------- NoOptionError\n",
      "--------- InterpolationError\n",
      "------------ InterpolationMissingOptionError\n",
      "------------ InterpolationSyntaxError\n",
      "------------ InterpolationDepthError\n",
      "--------- ParsingError\n",
      "------------ MissingSectionHeaderError\n",
      "------ NoIPAddresses\n",
      "------ BadZipFile\n",
      "------ LargeZipFile\n",
      "------ BadEntryPoint\n",
      "------ NoSuchEntryPoint\n",
      "------ DuplicateKernelError\n",
      "------ ErrorDuringImport\n",
      "------ NotOneValueFound\n",
      "------ CannotEval\n",
      "------ OptionError\n",
      "------ BdbQuit\n",
      "------ Restart\n",
      "------ ExceptionPexpect\n",
      "--------- EOF\n",
      "--------- TIMEOUT\n",
      "------ PtyProcessError\n",
      "------ FindCmdError\n",
      "------ HomeDirError\n",
      "------ ProfileDirError\n",
      "------ IPythonCoreError\n",
      "--------- TryNext\n",
      "--------- UsageError\n",
      "--------- StdinNotImplementedError\n",
      "------ InputRejected\n",
      "------ GetoptError\n",
      "------ ErrorToken\n",
      "------ PrefilterError\n",
      "------ AliasError\n",
      "--------- InvalidAliasError\n",
      "------ Error\n",
      "--------- InterfaceError\n",
      "--------- DatabaseError\n",
      "------------ InternalError\n",
      "------------ OperationalError\n",
      "------------ ProgrammingError\n",
      "------------ IntegrityError\n",
      "------------ DataError\n",
      "------------ NotSupportedError\n",
      "------ Warning\n",
      "------ SpaceInInput\n",
      "------ DOMException\n",
      "--------- IndexSizeErr\n",
      "--------- DomstringSizeErr\n",
      "--------- HierarchyRequestErr\n",
      "--------- WrongDocumentErr\n",
      "--------- InvalidCharacterErr\n",
      "--------- NoDataAllowedErr\n",
      "--------- NoModificationAllowedErr\n",
      "--------- NotFoundErr\n",
      "--------- NotSupportedErr\n",
      "--------- InuseAttributeErr\n",
      "--------- InvalidStateErr\n",
      "--------- SyntaxErr\n",
      "--------- InvalidModificationErr\n",
      "--------- NamespaceErr\n",
      "--------- InvalidAccessErr\n",
      "--------- ValidationErr\n",
      "------ ValidationError\n",
      "------ EditReadOnlyBuffer\n",
      "------ _Retry\n",
      "------ InvalidLayoutError\n",
      "------ HeightIsUnknownError\n",
      "------ ParserSyntaxError\n",
      "------ InternalParseError\n",
      "------ _PositionUpdatingFinished\n",
      "------ SimpleGetItemNotFound\n",
      "------ UncaughtAttributeError\n",
      "------ HasNoContext\n",
      "------ ParamIssue\n",
      "------ _JediError\n",
      "--------- InternalError\n",
      "--------- WrongVersion\n",
      "--------- RefactoringError\n",
      "------ OnErrorLeaf\n",
      "------ InvalidPythonEnvironment\n",
      "------ MessageError\n",
      "--------- MessageParseError\n",
      "------------ HeaderParseError\n",
      "------------ BoundaryError\n",
      "--------- MultipartConversionError\n",
      "--------- CharsetError\n",
      "------ Error\n",
      "------ HTTPException\n",
      "--------- NotConnected\n",
      "--------- InvalidURL\n",
      "--------- UnknownProtocol\n",
      "--------- UnknownTransferEncoding\n",
      "--------- UnimplementedFileMode\n",
      "--------- IncompleteRead\n",
      "--------- ImproperConnectionState\n",
      "------------ CannotSendRequest\n",
      "------------ CannotSendHeader\n",
      "------------ ResponseNotReady\n",
      "--------- BadStatusLine\n",
      "------------ RemoteDisconnected\n",
      "--------- LineTooLong\n",
      "------ InteractivelyDefined\n",
      "------ KillEmbedded\n",
      "------ Error\n",
      "--------- NoSuchProcess\n",
      "------------ ZombieProcess\n",
      "--------- AccessDenied\n",
      "--------- TimeoutExpired\n",
      "------ _Ipv6UnsupportedError\n",
      "------ QueueEmpty\n",
      "------ QueueFull\n",
      "------ DebuggerInitializationError\n",
      "------ ExpatError\n",
      "------ Error\n",
      "--------- ProtocolError\n",
      "--------- ResponseError\n",
      "--------- Fault\n",
      "------ ParseBaseException\n",
      "--------- ParseException\n",
      "--------- ParseFatalException\n",
      "------------ ParseSyntaxException\n",
      "------ RecursiveGrammarException\n",
      "------ ResolutionError\n",
      "--------- VersionConflict\n",
      "------------ ContextualVersionConflict\n",
      "--------- DistributionNotFound\n",
      "--------- UnknownExtra\n",
      "------ _Error\n",
      "------ UnableToResolveVariableException\n",
      "------ InvalidTypeInArgsException\n",
      "--- GeneratorExit\n",
      "--- SystemExit\n",
      "--- KeyboardInterrupt\n",
      "--- CancelledError\n",
      "--- AbortThread\n"
     ]
    }
   ],
   "source": [
    "# Here's a Python program that prints the Python Exception Hierarchy:\n",
    "\n",
    "\n",
    "import inspect\n",
    "\n",
    "# our treeClass function\n",
    "def treeClass(cls, ind = 0):\n",
    "    # print name of the class\n",
    "    print ('-' * ind, cls.__name__)\n",
    "    # iterating through subclasses\n",
    "    for i in cls.__subclasses__():\n",
    "        treeClass(i, ind + 3)\n",
    "\n",
    "print(\"Python Exception Hierarchy : \")\n",
    "\n",
    "\n",
    "inspect.getclasstree(inspect.getmro(BaseException))\n",
    "\n",
    "# function call\n",
    "treeClass(BaseException)"
   ]
  },
  {
   "cell_type": "markdown",
   "id": "a48641ac-7b9f-4daf-8018-eda91ea5e2cb",
   "metadata": {},
   "source": [
    "3."
   ]
  },
  {
   "cell_type": "code",
   "execution_count": 15,
   "id": "3fbfbc99-5afe-465e-9858-fbecdfc69d0d",
   "metadata": {},
   "outputs": [
    {
     "data": {
      "text/plain": [
       "'The ArithmeticError class is the base class for errors that occur during arithmetic operations, such as division by zero or integer overflow. Some of the errors that are defined in the ArithmeticError class include:'"
      ]
     },
     "execution_count": 15,
     "metadata": {},
     "output_type": "execute_result"
    }
   ],
   "source": [
    "\"\"\"The ArithmeticError class is the base class for errors that occur during arithmetic operations, such as division by zero or integer overflow. Some of the errors that are defined in the ArithmeticError class include:\"\"\""
   ]
  },
  {
   "cell_type": "code",
   "execution_count": null,
   "id": "01970886-ca19-43a2-b754-d03c78f48825",
   "metadata": {},
   "outputs": [],
   "source": [
    "1. FloatingPointError: Raised when a floating-point operation fails.\n",
    "2. OverflowError: Raised when an arithmetic operation exceeds the maximum representable value for a numeric type."
   ]
  },
  {
   "cell_type": "code",
   "execution_count": null,
   "id": "d195af67-da29-477c-9ee6-7d9920c80e7d",
   "metadata": {},
   "outputs": [],
   "source": [
    "# FloatingPointError\n",
    "\n",
    "A FloatingPointError is raised when a floating-point operation fails. This can happen, for example, when we try to divide a number by zero or \n",
    "take the square root of a negative number."
   ]
  },
  {
   "cell_type": "code",
   "execution_count": null,
   "id": "8cdbf146-d975-48ac-981a-d6ba55aaccbc",
   "metadata": {},
   "outputs": [],
   "source": [
    "# Here's an example:\n",
    "\n",
    "import math\n",
    "\n",
    "x = -4.0\n",
    "\n",
    "try:\n",
    "    y = math.sqrt(x)\n",
    "except FloatingPointError as e:\n",
    "    print(\"Caught a floating-point error:\", e)"
   ]
  },
  {
   "cell_type": "code",
   "execution_count": null,
   "id": "dca0dd39-9997-4ca7-be06-c4a5f9164b11",
   "metadata": {},
   "outputs": [],
   "source": [
    "# OverflowError\n",
    "\n",
    "An OverflowError is raised when an arithmetic operation exceeds the maximum representable value for a numeric type. \n",
    "For example, if we try to compute 2**1000, we will get an OverflowError because the result is too large to be represented by an integer. "
   ]
  },
  {
   "cell_type": "code",
   "execution_count": 17,
   "id": "73b85f6e-9d0a-490c-a3c0-9884cac32207",
   "metadata": {},
   "outputs": [],
   "source": [
    "# Here's an example:\n",
    "\n",
    "try:\n",
    "    x = 2 ** 1000\n",
    "except OverflowError as e:\n",
    "    print(\"Caught an overflow error:\", e)"
   ]
  },
  {
   "cell_type": "markdown",
   "id": "7d226b1c-648f-4149-be15-3a67c9680437",
   "metadata": {},
   "source": [
    "4."
   ]
  },
  {
   "cell_type": "code",
   "execution_count": 19,
   "id": "792708e1-c638-49b0-9d4b-d00699f3455f",
   "metadata": {},
   "outputs": [
    {
     "data": {
      "text/plain": [
       "'The LookupError class is the base class for errors that occur when a key or index is not found in a collection, such as a dictionary or list. LookupError is a superclass of several more specific error classes, including KeyError and IndexError.'"
      ]
     },
     "execution_count": 19,
     "metadata": {},
     "output_type": "execute_result"
    }
   ],
   "source": [
    "\"\"\"The LookupError class is the base class for errors that occur when a key or index is not found in a collection, such as a dictionary or list. LookupError is a superclass of several more specific error classes, including KeyError and IndexError.\"\"\""
   ]
  },
  {
   "cell_type": "code",
   "execution_count": null,
   "id": "fc4fef10-976d-41c3-9fce-eb4c5db903b9",
   "metadata": {},
   "outputs": [],
   "source": [
    "1. KeyError: Raised when a key is not found in a dictionary.\n",
    "2. IndexError: Raised when an index is not found in a list."
   ]
  },
  {
   "cell_type": "code",
   "execution_count": null,
   "id": "f1370895-2e29-425d-be9d-841630f26783",
   "metadata": {},
   "outputs": [],
   "source": [
    "1. KeyError\n",
    "\n",
    "A KeyError is raised when we try to access a key that does not exist in a dictionary. "
   ]
  },
  {
   "cell_type": "code",
   "execution_count": 20,
   "id": "54b5e30e-9298-4f94-aff7-92cff0f27bce",
   "metadata": {},
   "outputs": [
    {
     "name": "stdout",
     "output_type": "stream",
     "text": [
      "Caught a key error: 'pear'\n"
     ]
    }
   ],
   "source": [
    "# Example:\n",
    "\n",
    "d = {\"apple\": 1, \"banana\": 2, \"orange\": 3}\n",
    "\n",
    "try:\n",
    "    value = d[\"pear\"]\n",
    "except KeyError as e:\n",
    "    print(\"Caught a key error:\", e)"
   ]
  },
  {
   "cell_type": "code",
   "execution_count": null,
   "id": "e8aa6f38-732b-4d45-8087-8983ca259234",
   "metadata": {},
   "outputs": [],
   "source": [
    "2. IndexError\n",
    "\n",
    "An IndexError is raised when we try to access an index that does not exist in a list. "
   ]
  },
  {
   "cell_type": "code",
   "execution_count": 21,
   "id": "8fbeb4ca-19fb-4d7c-a117-1f58d0c4117b",
   "metadata": {},
   "outputs": [
    {
     "name": "stdout",
     "output_type": "stream",
     "text": [
      "Caught an index error: list index out of range\n"
     ]
    }
   ],
   "source": [
    "a = [1, 2, 3]\n",
    "\n",
    "try:\n",
    "    value = a[3]\n",
    "except IndexError as e:\n",
    "    print(\"Caught an index error:\", e)"
   ]
  },
  {
   "cell_type": "markdown",
   "id": "18bda15f-92b3-41a1-b67c-1627ea6caafb",
   "metadata": {},
   "source": [
    "5."
   ]
  },
  {
   "cell_type": "code",
   "execution_count": 22,
   "id": "d9a3705b-6da7-4c9b-9e1d-0e4067609c7c",
   "metadata": {},
   "outputs": [
    {
     "data": {
      "text/plain": [
       "'ImportError is a Python built-in exception that is raised when a module, which is being imported, cannot be found or loaded. It can occur for a variety of reasons, such as when the module is misspelled, when the module is not installed, or when the module is in a different directory than the one being searched.'"
      ]
     },
     "execution_count": 22,
     "metadata": {},
     "output_type": "execute_result"
    }
   ],
   "source": [
    "\"\"\"ImportError is a Python built-in exception that is raised when a module, which is being imported, cannot be found or loaded. It can occur for a variety of reasons, such as when the module is misspelled, when the module is not installed, or when the module is in a different directory than the one being searched.\"\"\""
   ]
  },
  {
   "cell_type": "code",
   "execution_count": 23,
   "id": "47c62941-0c94-4b82-b924-aeeb2b98bf4f",
   "metadata": {},
   "outputs": [
    {
     "name": "stdout",
     "output_type": "stream",
     "text": [
      "Failed to import module: No module named 'some_module'\n"
     ]
    }
   ],
   "source": [
    "try:\n",
    "    import some_module\n",
    "except ImportError as e:\n",
    "    print(f\"Failed to import module: {e}\")"
   ]
  },
  {
   "cell_type": "code",
   "execution_count": 24,
   "id": "253813f7-da06-4fb9-aa5b-c3da1de6a912",
   "metadata": {},
   "outputs": [
    {
     "data": {
      "text/plain": [
       "'A new subclass of ImportError called ModuleNotFoundError was introduced. It is raised when a module is not found during import, and is a more specific version of the ImportError.'"
      ]
     },
     "execution_count": 24,
     "metadata": {},
     "output_type": "execute_result"
    }
   ],
   "source": [
    "\"\"\"A new subclass of ImportError called ModuleNotFoundError was introduced. It is raised when a module is not found during import, and is a more specific version of the ImportError.\"\"\""
   ]
  },
  {
   "cell_type": "code",
   "execution_count": 26,
   "id": "476bdbb8-7204-47f1-ae45-2a1da02ef49b",
   "metadata": {},
   "outputs": [
    {
     "name": "stdout",
     "output_type": "stream",
     "text": [
      "Module not found: No module named 'some_nonexistent_module'\n"
     ]
    }
   ],
   "source": [
    "try:\n",
    "    import some_nonexistent_module\n",
    "except ModuleNotFoundError as e:\n",
    "    print(f\"Module not found: {e}\")"
   ]
  },
  {
   "cell_type": "markdown",
   "id": "70aec406-85c5-4cea-82d7-0f0275e931e6",
   "metadata": {},
   "source": [
    "6."
   ]
  },
  {
   "cell_type": "code",
   "execution_count": null,
   "id": "2db7cec2-5bf5-45fc-bab6-e302b1b70159",
   "metadata": {},
   "outputs": [],
   "source": [
    "1. Use always a specific exception\n",
    "2. Always Print a Proper Message\n",
    "3. Always Try to Log your Error\n",
    "4. Always avoid to write multiple Exception Handling\n",
    "5. Always Document All The Error\n",
    "6. CleanUp all the Resources"
   ]
  }
 ],
 "metadata": {
  "kernelspec": {
   "display_name": "Python 3 (ipykernel)",
   "language": "python",
   "name": "python3"
  },
  "language_info": {
   "codemirror_mode": {
    "name": "ipython",
    "version": 3
   },
   "file_extension": ".py",
   "mimetype": "text/x-python",
   "name": "python",
   "nbconvert_exporter": "python",
   "pygments_lexer": "ipython3",
   "version": "3.10.8"
  }
 },
 "nbformat": 4,
 "nbformat_minor": 5
}

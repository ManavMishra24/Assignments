{
 "cells": [
  {
   "cell_type": "markdown",
   "id": "54e7a4df-ffd9-4cdf-8887-1b63b97b41bd",
   "metadata": {},
   "source": [
    "05 FEB ASSIGNMENT"
   ]
  },
  {
   "cell_type": "markdown",
   "id": "b38d1c4b-9738-4370-be16-8a169b171669",
   "metadata": {},
   "source": [
    "1)"
   ]
  },
  {
   "cell_type": "markdown",
   "id": "254227ca-2b7f-4cdc-adc3-e0f296d0370d",
   "metadata": {},
   "source": [
    "CLASS & OBJECT"
   ]
  },
  {
   "cell_type": "code",
   "execution_count": 1,
   "id": "847bfcfd-c0d1-43dd-96ae-6c8147e7b1a9",
   "metadata": {},
   "outputs": [
    {
     "name": "stdout",
     "output_type": "stream",
     "text": [
      "Hi, I am John\n",
      "John is walking.\n"
     ]
    }
   ],
   "source": [
    "# CLASS\n",
    "# In object-oriented programming, a class is a blueprint or template for creating objects (i.e., instances of a class).\n",
    "# It defines a set of attributes (variables or data members) and methods (functions) that characterize the behavior of objects of the class.\n",
    "\n",
    "# OBJECT\n",
    "# An object is an instance of a class. It represents a specific instance of a real-world entity and has its own unique attribute values and behavior.\n",
    "# Objects interact with each other through methods, and objects can also send messages to other objects to call methods.\n",
    "\n",
    "# For Example:\n",
    "\n",
    "class Person:\n",
    "    def __init__(self, name, age, address):\n",
    "        self.name = name\n",
    "        self.age = age\n",
    "        self.address = address\n",
    "\n",
    "    def introduce(self):\n",
    "        print(\"Hi, I am\", self.name)\n",
    "        \n",
    "    def walk(self):\n",
    "        print(self.name, \"is walking.\")\n",
    "\n",
    "John = Person(\"John\", 30, \"USA\")\n",
    "John.introduce()\n",
    "John.walk()"
   ]
  },
  {
   "cell_type": "code",
   "execution_count": 2,
   "id": "511abbc8-dfb6-4146-888d-819000975982",
   "metadata": {},
   "outputs": [],
   "source": [
    "# In above example, Person is a class and John is an object of the class Person."
   ]
  },
  {
   "cell_type": "markdown",
   "id": "98a25501-eb12-4562-85d0-a0768d32926e",
   "metadata": {},
   "source": [
    "2)"
   ]
  },
  {
   "cell_type": "code",
   "execution_count": 3,
   "id": "ebe36b35-ed79-4d30-8644-636c281c23d1",
   "metadata": {},
   "outputs": [],
   "source": [
    "# Encapsulation\n",
    "\n",
    "# Inheritance\n",
    "\n",
    "# Polymorphism\n",
    "\n",
    "# Abstraction"
   ]
  },
  {
   "cell_type": "markdown",
   "id": "c7a53a24-0c94-462b-9b08-5c043d941cc0",
   "metadata": {},
   "source": [
    "3)"
   ]
  },
  {
   "cell_type": "code",
   "execution_count": 4,
   "id": "1b90bd90-697b-4709-9479-0c141bbfa049",
   "metadata": {},
   "outputs": [
    {
     "name": "stdout",
     "output_type": "stream",
     "text": [
      "Toyota\n",
      "Camry\n",
      "2022\n"
     ]
    }
   ],
   "source": [
    "# The __init__ method is the constructor of a class in Python. It is called when an object of a class is created and initializes the object's \n",
    "# attributes. The __init__ function allows the programmer to set the initial state of an object.\n",
    "\n",
    "# For Example: \n",
    "\n",
    "class Car:\n",
    "    def __init__(self, make, model, year):\n",
    "        self.make = make\n",
    "        self.model = model\n",
    "        self.year = year\n",
    "        \n",
    "my_car = Car(\"Toyota\", \"Camry\", 2022)\n",
    "print(my_car.make)\n",
    "print(my_car.model)\n",
    "print(my_car.year)"
   ]
  },
  {
   "cell_type": "markdown",
   "id": "d760bc75-393a-4570-990f-016ff093402b",
   "metadata": {},
   "source": [
    "4)"
   ]
  },
  {
   "cell_type": "code",
   "execution_count": 5,
   "id": "0ae60c1f-edaf-4b84-b97b-7e0024caa295",
   "metadata": {},
   "outputs": [],
   "source": [
    "# In object-oriented programming (OOP), \"self\" is a keyword in Python (and some other OOP languages) that refers to the instance of an object.\n",
    "# It's used to access the instance variables and methods within the object, and to allow instances to call methods on themselves.\n",
    "# The use of self makes it possible to differentiate between instance-level variables and class-level variables, and helps to enforce encapsulation\n",
    "# by keeping the internal state of an object hidden from the outside world."
   ]
  },
  {
   "cell_type": "markdown",
   "id": "28f98d61-c43a-4853-aef8-cb94dc9c89aa",
   "metadata": {},
   "source": [
    "5)"
   ]
  },
  {
   "cell_type": "code",
   "execution_count": 6,
   "id": "48ecbf50-b5a6-4005-b1f9-ffdcb83e9594",
   "metadata": {},
   "outputs": [],
   "source": [
    "# Inheritance is a mechanism in object-oriented programming where a class can inherit properties and behaviors from a parent class.\n",
    "# It allows to create a new class that is a modified version of an existing class, without having to build the class from scratch.\n",
    "# There are several types of inheritance: \n",
    "\n",
    "# Single inheritance: One class inherits from a single parent class. \n",
    "\n",
    "# Multiple inheritance: One class inherits from multiple parent classes.\n",
    "\n",
    "# Hierarchical inheritance: Multiple classes inherit from a single parent class.\n",
    "\n",
    "# Hybrid inheritance: A combination of more than one type of inheritance.\n",
    "\n",
    "# Multi-level inheritance: A type of inheritance in object-oriented programming where a subclass inherits from a parent class, \n",
    "# and the parent class is also a subclass of another class. The inheritance chain continues to multiple levels."
   ]
  },
  {
   "cell_type": "code",
   "execution_count": 7,
   "id": "ce594461-1465-42ee-9682-fbc776518978",
   "metadata": {},
   "outputs": [
    {
     "name": "stdout",
     "output_type": "stream",
     "text": [
      "dog barking\n",
      "Animal Speaking\n"
     ]
    }
   ],
   "source": [
    "# Single Inheritance:\n",
    "\n",
    "class Animal:  \n",
    "    def speak(self):  \n",
    "        print(\"Animal Speaking\")  \n",
    "#child class Dog inherits the base class Animal  \n",
    "class Dog(Animal):  \n",
    "    def bark(self):  \n",
    "        print(\"dog barking\")  \n",
    "d = Dog()  \n",
    "d.bark()  \n",
    "d.speak()"
   ]
  },
  {
   "cell_type": "code",
   "execution_count": 9,
   "id": "4afe6878-0ce1-4262-b4ed-67e83add1804",
   "metadata": {},
   "outputs": [
    {
     "name": "stdout",
     "output_type": "stream",
     "text": [
      "30\n",
      "200\n",
      "0.5\n"
     ]
    }
   ],
   "source": [
    "# Multiple Inheritance:\n",
    "\n",
    "class Calculation1:  \n",
    "    def Summation(self,a,b):  \n",
    "        return a+b;  \n",
    "class Calculation2:  \n",
    "    def Multiplication(self,a,b):  \n",
    "        return a*b;  \n",
    "class Derived(Calculation1,Calculation2):  \n",
    "    def Divide(self,a,b):  \n",
    "        return a/b;  \n",
    "d = Derived()  \n",
    "print(d.Summation(10,20))  \n",
    "print(d.Multiplication(10,20))  \n",
    "print(d.Divide(10,20))  "
   ]
  },
  {
   "cell_type": "code",
   "execution_count": 10,
   "id": "3d4ffc37-f726-42f2-a732-00642f327ea0",
   "metadata": {},
   "outputs": [
    {
     "name": "stdout",
     "output_type": "stream",
     "text": [
      "This function is in parent class.\n",
      "This function is in child 1.\n",
      "This function is in parent class.\n",
      "This function is in child 2.\n"
     ]
    }
   ],
   "source": [
    "# Hierarchical Inheritance\n",
    "\n",
    "class Parent:\n",
    "\tdef func1(self):\n",
    "\t\tprint(\"This function is in parent class.\")\n",
    "\n",
    "class Child1(Parent):\n",
    "\tdef func2(self):\n",
    "\t\tprint(\"This function is in child 1.\")\n",
    "\n",
    "class Child2(Parent):\n",
    "\tdef func3(self):\n",
    "\t\tprint(\"This function is in child 2.\")\n",
    "\n",
    "object1 = Child1()\n",
    "object2 = Child2()\n",
    "object1.func1()\n",
    "object1.func2()\n",
    "object2.func1()\n",
    "object2.func3()"
   ]
  },
  {
   "cell_type": "code",
   "execution_count": 11,
   "id": "8184579e-5396-4828-998e-3aaaff387ea1",
   "metadata": {},
   "outputs": [
    {
     "name": "stdout",
     "output_type": "stream",
     "text": [
      "This function is in school.\n",
      "This function is in student 1. \n"
     ]
    }
   ],
   "source": [
    "# Hybrid Inheritance\n",
    "\n",
    "\n",
    "class School:\n",
    "\tdef func1(self):\n",
    "\t\tprint(\"This function is in school.\")\n",
    "\n",
    "\n",
    "class Student1(School):\n",
    "\tdef func2(self):\n",
    "\t\tprint(\"This function is in student 1. \")\n",
    "\n",
    "\n",
    "class Student2(School):\n",
    "\tdef func3(self):\n",
    "\t\tprint(\"This function is in student 2.\")\n",
    "\n",
    "\n",
    "class Student3(Student1, School):\n",
    "\tdef func4(self):\n",
    "\t\tprint(\"This function is in student 3.\")\n",
    "\n",
    "object = Student3()\n",
    "object.func1()\n",
    "object.func2()"
   ]
  },
  {
   "cell_type": "code",
   "execution_count": 8,
   "id": "e08df1e5-416e-44ba-8c19-58236b44d5e5",
   "metadata": {},
   "outputs": [
    {
     "name": "stdout",
     "output_type": "stream",
     "text": [
      "dog barking\n",
      "Animal Speaking\n",
      "Eating bread...\n"
     ]
    }
   ],
   "source": [
    "# Multi-level Inheritance:\n",
    "\n",
    "class Animal:  \n",
    "    def speak(self):  \n",
    "        print(\"Animal Speaking\")  \n",
    "#The child class Dog inherits the base class Animal  \n",
    "class Dog(Animal):  \n",
    "    def bark(self):  \n",
    "        print(\"dog barking\")  \n",
    "#The child class Dogchild inherits another child class Dog  \n",
    "class DogChild(Dog):  \n",
    "    def eat(self):  \n",
    "        print(\"Eating bread...\")  \n",
    "d = DogChild()  \n",
    "d.bark()  \n",
    "d.speak()  \n",
    "d.eat()  "
   ]
  }
 ],
 "metadata": {
  "kernelspec": {
   "display_name": "Python 3 (ipykernel)",
   "language": "python",
   "name": "python3"
  },
  "language_info": {
   "codemirror_mode": {
    "name": "ipython",
    "version": 3
   },
   "file_extension": ".py",
   "mimetype": "text/x-python",
   "name": "python",
   "nbconvert_exporter": "python",
   "pygments_lexer": "ipython3",
   "version": "3.10.8"
  }
 },
 "nbformat": 4,
 "nbformat_minor": 5
}

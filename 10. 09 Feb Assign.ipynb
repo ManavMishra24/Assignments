{
 "cells": [
  {
   "cell_type": "markdown",
   "id": "2fba3f9d-363f-43ab-8431-26c5ffdd7ee0",
   "metadata": {},
   "source": [
    "09 FEB ASSIGNMENT"
   ]
  },
  {
   "cell_type": "markdown",
   "id": "89b09c17-444d-44a4-828b-680be630c5e3",
   "metadata": {},
   "source": [
    "1."
   ]
  },
  {
   "cell_type": "code",
   "execution_count": 1,
   "id": "5b09d740-3d9f-45f5-aa3f-42d54066ac31",
   "metadata": {},
   "outputs": [],
   "source": [
    "class vehicle:\n",
    "    \n",
    "    def __init__(self, name_of_vehicle, max_speed, average_of_vehicle):\n",
    "        \n",
    "        self.name_of_vehicle = name_of_vehicle\n",
    "        self.max_speed = max_speed\n",
    "        self.average_of_vehicle = average_of_vehicle"
   ]
  },
  {
   "cell_type": "markdown",
   "id": "4d0303cb-e389-43e8-aca4-89209066816b",
   "metadata": {},
   "source": [
    "2."
   ]
  },
  {
   "cell_type": "code",
   "execution_count": 7,
   "id": "3a2898cc-42a6-4073-a367-e4e18d8f1ccb",
   "metadata": {},
   "outputs": [],
   "source": [
    "class car(vehicle):\n",
    "    \n",
    "    def seating_capacity(self, capacity):\n",
    "        \n",
    "        return print(f\"Name of the vehicle is {self.name_of_vehicle} \\n And its Seating Capacity is {capacity}\")"
   ]
  },
  {
   "cell_type": "code",
   "execution_count": 8,
   "id": "9d14a2a6-c7e9-4cd3-8b18-ab9c83da6f79",
   "metadata": {},
   "outputs": [],
   "source": [
    "obj = car(\"Harrier\", 210, 100)"
   ]
  },
  {
   "cell_type": "code",
   "execution_count": 9,
   "id": "26917e67-b9ba-43a7-ad60-73c8712e9051",
   "metadata": {},
   "outputs": [
    {
     "name": "stdout",
     "output_type": "stream",
     "text": [
      "Name of the vehicle is Harrier \n",
      " And its Seating Capacity is 7\n"
     ]
    }
   ],
   "source": [
    "obj.seating_capacity('7')"
   ]
  },
  {
   "cell_type": "code",
   "execution_count": 10,
   "id": "0be5b2ae-7d16-4907-b5f2-660e195fb622",
   "metadata": {},
   "outputs": [
    {
     "data": {
      "text/plain": [
       "'Harrier'"
      ]
     },
     "execution_count": 10,
     "metadata": {},
     "output_type": "execute_result"
    }
   ],
   "source": [
    "obj.name_of_vehicle"
   ]
  },
  {
   "cell_type": "markdown",
   "id": "999f16d4-a986-4c55-a582-cf76bf4c04d2",
   "metadata": {},
   "source": [
    "3."
   ]
  },
  {
   "cell_type": "code",
   "execution_count": 11,
   "id": "23a26c4c-e49d-49db-85e9-018c66fbb77c",
   "metadata": {},
   "outputs": [
    {
     "data": {
      "text/plain": [
       "'Multiple Inheritance is a feature in object-oriented programming where a subclass can inherit attributes and methods from multiple base classes. Python supports multiple inheritance, which means that a class can inherit from more than one parent class.'"
      ]
     },
     "execution_count": 11,
     "metadata": {},
     "output_type": "execute_result"
    }
   ],
   "source": [
    "'''Multiple Inheritance is a feature in object-oriented programming where a subclass can inherit attributes and methods from multiple base classes. Python supports multiple inheritance, which means that a class can inherit from more than one parent class.'''"
   ]
  },
  {
   "cell_type": "code",
   "execution_count": 13,
   "id": "ab6cb7c8-adef-4307-b051-de0dbe38133b",
   "metadata": {},
   "outputs": [
    {
     "name": "stdout",
     "output_type": "stream",
     "text": [
      "The animal speaks\n",
      "The mammal walks\n",
      "The dog barks\n"
     ]
    }
   ],
   "source": [
    "# Example:\n",
    "\n",
    "class Animal:\n",
    "    def speak(self):\n",
    "        print(\"The animal speaks\")\n",
    "\n",
    "class Mammal:\n",
    "    def walk(self):\n",
    "        print(\"The mammal walks\")\n",
    "\n",
    "class Dog(Animal, Mammal):\n",
    "    def bark(self):\n",
    "        print(\"The dog barks\")\n",
    "\n",
    "d = Dog()\n",
    "\n",
    "d.speak()\n",
    "\n",
    "d.walk()\n",
    "\n",
    "d.bark()"
   ]
  },
  {
   "cell_type": "markdown",
   "id": "1069b79a-deee-4d71-9263-027d7b1c5c88",
   "metadata": {},
   "source": [
    "4."
   ]
  },
  {
   "cell_type": "code",
   "execution_count": 15,
   "id": "de14b551-8136-4ec3-a03d-c7c3f0134260",
   "metadata": {},
   "outputs": [
    {
     "data": {
      "text/plain": [
       "'In Python, getters and setters are not used explicitly as in some other programming languages, such as Java. Instead, Python uses a simpler approach to encapsulation, allowing direct access to instance variables from outside the class. However, there are some scenarios where getters and setters can be useful in Python, especially when it comes to controlling access to the instance variables of a class. Here is an example of how you can implement getter and setter methods in Python:'"
      ]
     },
     "execution_count": 15,
     "metadata": {},
     "output_type": "execute_result"
    }
   ],
   "source": [
    "'''In Python, getters and setters are not used explicitly as in some other programming languages, such as Java. Instead, Python uses a simpler approach to encapsulation, allowing direct access to instance variables from outside the class. However, there are some scenarios where getters and setters can be useful in Python, especially when it comes to controlling access to the instance variables of a class. Here is an example of how you can implement getter and setter methods in Python:'''"
   ]
  },
  {
   "cell_type": "code",
   "execution_count": 16,
   "id": "87bec3e8-8939-4606-a59d-fd88c9c15bc6",
   "metadata": {},
   "outputs": [],
   "source": [
    "# Example:\n",
    "\n",
    "class MyClass:\n",
    "    def __init__(self):\n",
    "        self._my_variable = None\n",
    "\n",
    "    def get_my_variable(self):\n",
    "        return self._my_variable\n",
    "\n",
    "    def set_my_variable(self, value):\n",
    "        self._my_variable = value"
   ]
  },
  {
   "cell_type": "code",
   "execution_count": 18,
   "id": "8437b254-2149-412a-be8b-d80fb48404a6",
   "metadata": {},
   "outputs": [
    {
     "name": "stdout",
     "output_type": "stream",
     "text": [
      "42\n"
     ]
    }
   ],
   "source": [
    "obj = MyClass()\n",
    "obj.set_my_variable(42)\n",
    "print(obj.get_my_variable())"
   ]
  },
  {
   "cell_type": "markdown",
   "id": "865584da-92eb-4f5b-95ca-d6b41e3a2c09",
   "metadata": {},
   "source": [
    "5."
   ]
  },
  {
   "cell_type": "code",
   "execution_count": 19,
   "id": "eae7f115-b719-42c6-a874-097b061e7d81",
   "metadata": {},
   "outputs": [
    {
     "data": {
      "text/plain": [
       "'Method overriding is a feature of object-oriented programming that allows a subclass to provide a different implementation of a method that is already defined in its parent class. In Python, method overriding is achieved by redefining a method in a subclass that has the same name as a method in its parent class.'"
      ]
     },
     "execution_count": 19,
     "metadata": {},
     "output_type": "execute_result"
    }
   ],
   "source": [
    "'''Method overriding is a feature of object-oriented programming that allows a subclass to provide a different implementation of a method that is already defined in its parent class. In Python, method overriding is achieved by redefining a method in a subclass that has the same name as a method in its parent class.'''"
   ]
  },
  {
   "cell_type": "code",
   "execution_count": 20,
   "id": "701ee87e-724c-498c-bd19-9171363a023f",
   "metadata": {},
   "outputs": [
    {
     "name": "stdout",
     "output_type": "stream",
     "text": [
      "Animal is speaking\n",
      "Dog is barking\n"
     ]
    }
   ],
   "source": [
    "# Example:\n",
    "\n",
    "class Animal:\n",
    "    def speak(self):\n",
    "        print(\"Animal is speaking\")\n",
    "\n",
    "class Dog(Animal):\n",
    "    def speak(self):\n",
    "        print(\"Dog is barking\")\n",
    "\n",
    "a = Animal()\n",
    "a.speak()\n",
    "\n",
    "d = Dog()\n",
    "d.speak()"
   ]
  }
 ],
 "metadata": {
  "kernelspec": {
   "display_name": "Python 3 (ipykernel)",
   "language": "python",
   "name": "python3"
  },
  "language_info": {
   "codemirror_mode": {
    "name": "ipython",
    "version": 3
   },
   "file_extension": ".py",
   "mimetype": "text/x-python",
   "name": "python",
   "nbconvert_exporter": "python",
   "pygments_lexer": "ipython3",
   "version": "3.10.8"
  }
 },
 "nbformat": 4,
 "nbformat_minor": 5
}

{
 "cells": [
  {
   "cell_type": "markdown",
   "id": "c9c47e0e-b151-4b39-83e1-1aa0e665a8f6",
   "metadata": {},
   "source": [
    "12 FEB ASSIGNMENT"
   ]
  },
  {
   "cell_type": "markdown",
   "id": "646a8d59-4694-4af7-991d-312dd42a2f70",
   "metadata": {},
   "source": [
    "1."
   ]
  },
  {
   "cell_type": "code",
   "execution_count": null,
   "id": "43f50dd1-8740-4292-8e46-7f5011d29113",
   "metadata": {},
   "outputs": [],
   "source": [
    "In Python, an exception is an event that occurs during the execution of a program that disrupts the normal flow of instructions. \n",
    "Exceptions are raised whenever an error occurs, and they are used to handle various types of errors, such as runtime errors, logical errors, \n",
    "and input errors.\n",
    "\n",
    "In contrast, syntax errors are errors that occur when the parser detects an incorrect statement or an invalid statement structure in the code. \n",
    "Syntax errors occur when the code violates the rules of the Python language and are usually detected by the Python interpreter before the code \n",
    "is executed.\n",
    "\n",
    "The main difference between an exception and syntax errors is that syntax errors are detected by the Python interpreter during the parsing phase \n",
    "and can be fixed by correcting the code, while exceptions occur during the execution of the program and require specific handling code to be \n",
    "written to handle them."
   ]
  },
  {
   "cell_type": "markdown",
   "id": "d149805b-a070-443d-980a-73ce25b99a4f",
   "metadata": {},
   "source": [
    "2."
   ]
  },
  {
   "cell_type": "code",
   "execution_count": 4,
   "id": "959a3163-aa5d-4edd-a1d3-ac2563a14002",
   "metadata": {},
   "outputs": [
    {
     "data": {
      "text/plain": [
       "'When an exception is not handled in a Python program, it results in an error message being displayed, and the program terminates abruptly. This can leave the program in an inconsistent state or cause unexpected behavior.'"
      ]
     },
     "execution_count": 4,
     "metadata": {},
     "output_type": "execute_result"
    }
   ],
   "source": [
    "\"\"\"When an exception is not handled in a Python program, it results in an error message being displayed, and the program terminates abruptly. This can leave the program in an inconsistent state or cause unexpected behavior.\"\"\""
   ]
  },
  {
   "cell_type": "code",
   "execution_count": 7,
   "id": "3ef0b3d8-39e8-41ab-b958-f2ede950b004",
   "metadata": {},
   "outputs": [
    {
     "name": "stdin",
     "output_type": "stream",
     "text": [
      "Enter the first number:  2\n",
      "Enter the second number:  0\n"
     ]
    },
    {
     "ename": "ZeroDivisionError",
     "evalue": "division by zero",
     "output_type": "error",
     "traceback": [
      "\u001b[0;31m---------------------------------------------------------------------------\u001b[0m",
      "\u001b[0;31mZeroDivisionError\u001b[0m                         Traceback (most recent call last)",
      "Cell \u001b[0;32mIn[7], line 3\u001b[0m\n\u001b[1;32m      1\u001b[0m num1 \u001b[38;5;241m=\u001b[39m \u001b[38;5;28mint\u001b[39m(\u001b[38;5;28minput\u001b[39m(\u001b[38;5;124m\"\u001b[39m\u001b[38;5;124mEnter the first number: \u001b[39m\u001b[38;5;124m\"\u001b[39m))\n\u001b[1;32m      2\u001b[0m num2 \u001b[38;5;241m=\u001b[39m \u001b[38;5;28mint\u001b[39m(\u001b[38;5;28minput\u001b[39m(\u001b[38;5;124m\"\u001b[39m\u001b[38;5;124mEnter the second number: \u001b[39m\u001b[38;5;124m\"\u001b[39m))\n\u001b[0;32m----> 3\u001b[0m result \u001b[38;5;241m=\u001b[39m \u001b[43mnum1\u001b[49m\u001b[43m \u001b[49m\u001b[38;5;241;43m/\u001b[39;49m\u001b[43m \u001b[49m\u001b[43mnum2\u001b[49m\n\u001b[1;32m      4\u001b[0m \u001b[38;5;28mprint\u001b[39m(\u001b[38;5;124m\"\u001b[39m\u001b[38;5;124mResult: \u001b[39m\u001b[38;5;124m\"\u001b[39m, result)\n",
      "\u001b[0;31mZeroDivisionError\u001b[0m: division by zero"
     ]
    }
   ],
   "source": [
    "num1 = int(input(\"Enter the first number: \"))\n",
    "num2 = int(input(\"Enter the second number: \"))\n",
    "result = num1 / num2\n",
    "print(\"Result: \", result)"
   ]
  },
  {
   "cell_type": "code",
   "execution_count": 5,
   "id": "6433d5b6-7918-4656-ac37-619ed36d114a",
   "metadata": {},
   "outputs": [
    {
     "name": "stdin",
     "output_type": "stream",
     "text": [
      "Enter the first number:  2\n",
      "Enter the second number:  0\n"
     ]
    },
    {
     "name": "stdout",
     "output_type": "stream",
     "text": [
      "Cannot divide by zero.\n"
     ]
    }
   ],
   "source": [
    "try:\n",
    "    num1 = int(input(\"Enter the first number: \"))\n",
    "    num2 = int(input(\"Enter the second number: \"))\n",
    "    result = num1 / num2\n",
    "    print(\"Result: \", result)\n",
    "except ValueError:\n",
    "    print(\"Please enter a valid integer.\")\n",
    "except ZeroDivisionError:\n",
    "    print(\"Cannot divide by zero.\")\n"
   ]
  },
  {
   "cell_type": "markdown",
   "id": "986c4621-58ae-4146-941d-e47e771ba4f9",
   "metadata": {},
   "source": [
    "3."
   ]
  },
  {
   "cell_type": "code",
   "execution_count": 8,
   "id": "cb34f1f6-6d3f-45a4-b429-58d788bc9b29",
   "metadata": {},
   "outputs": [
    {
     "data": {
      "text/plain": [
       "'In Python, we can use the try and except statements to catch and handle exceptions. The try block contains the code that may raise an exception, and the except block contains the code that handles the exception.'"
      ]
     },
     "execution_count": 8,
     "metadata": {},
     "output_type": "execute_result"
    }
   ],
   "source": [
    "\"\"\"In Python, we can use the try and except statements to catch and handle exceptions. The try block contains the code that may raise an exception, and the except block contains the code that handles the exception.\"\"\""
   ]
  },
  {
   "cell_type": "code",
   "execution_count": 9,
   "id": "bcef2954-570a-4103-be98-f20f553652e1",
   "metadata": {},
   "outputs": [
    {
     "name": "stdin",
     "output_type": "stream",
     "text": [
      "Enter the first number:  10\n",
      "Enter the second number:  0\n"
     ]
    },
    {
     "name": "stdout",
     "output_type": "stream",
     "text": [
      "Cannot divide by zero.\n"
     ]
    }
   ],
   "source": [
    "# Here's an example:\n",
    "\n",
    "try:\n",
    "    num1 = int(input(\"Enter the first number: \"))\n",
    "    num2 = int(input(\"Enter the second number: \"))\n",
    "    result = num1 / num2\n",
    "    print(\"Result: \", result)\n",
    "except ValueError:\n",
    "    print(\"Please enter a valid integer.\")\n",
    "except ZeroDivisionError:\n",
    "    print(\"Cannot divide by zero.\")\n"
   ]
  },
  {
   "cell_type": "code",
   "execution_count": 10,
   "id": "4d443cc2-c34b-4244-b43b-f3a351a63bf2",
   "metadata": {},
   "outputs": [
    {
     "data": {
      "text/plain": [
       "'If an exception is raised in the try block, the Python interpreter will jump to the appropriate except block, and the code in that block will be executed. After executing the except block, the program will continue with the next statement following the try-except block.'"
      ]
     },
     "execution_count": 10,
     "metadata": {},
     "output_type": "execute_result"
    }
   ],
   "source": [
    "\"\"\"If an exception is raised in the try block, the Python interpreter will jump to the appropriate except block, and the code in that block will be executed. After executing the except block, the program will continue with the next statement following the try-except block.\"\"\""
   ]
  },
  {
   "cell_type": "code",
   "execution_count": 11,
   "id": "1a3d7e9c-9718-4bca-8a64-b5bf90929a12",
   "metadata": {},
   "outputs": [
    {
     "data": {
      "text/plain": [
       "'The try and except statements are used to handle exceptions in Python. We can define multiple except blocks to handle different types of exceptions, and if an exception is raised in the try block, the Python interpreter will jump to the appropriate except block and execute its code.'"
      ]
     },
     "execution_count": 11,
     "metadata": {},
     "output_type": "execute_result"
    }
   ],
   "source": [
    "\"\"\"The try and except statements are used to handle exceptions in Python. We can define multiple except blocks to handle different types of exceptions, and if an exception is raised in the try block, the Python interpreter will jump to the appropriate except block and execute its code.\"\"\""
   ]
  },
  {
   "cell_type": "markdown",
   "id": "32dbf159-f49f-4879-b001-2d652b982c71",
   "metadata": {},
   "source": [
    "4."
   ]
  },
  {
   "cell_type": "code",
   "execution_count": null,
   "id": "16c3eef8-9b34-422f-9be8-b8d5ae01b47f",
   "metadata": {},
   "outputs": [],
   "source": [
    "a. try and else:\n",
    "The else block is executed if no exceptions are raised in the try block."
   ]
  },
  {
   "cell_type": "code",
   "execution_count": 12,
   "id": "eb24722c-0de8-4b5f-9d51-a30ad9aaa0ce",
   "metadata": {},
   "outputs": [
    {
     "name": "stdin",
     "output_type": "stream",
     "text": [
      "Enter the first number:  2.3\n"
     ]
    },
    {
     "name": "stdout",
     "output_type": "stream",
     "text": [
      "Please enter a valid integer.\n"
     ]
    }
   ],
   "source": [
    "# Here's an Example:\n",
    "\n",
    "try:\n",
    "    num1 = int(input(\"Enter the first number: \"))\n",
    "    num2 = int(input(\"Enter the second number: \"))\n",
    "except ValueError:\n",
    "    print(\"Please enter a valid integer.\")\n",
    "else:\n",
    "    result = num1 / num2\n",
    "    print(\"Result: \", result)"
   ]
  },
  {
   "cell_type": "code",
   "execution_count": null,
   "id": "02062c5d-896f-4e7a-9f34-b108227d2e84",
   "metadata": {},
   "outputs": [],
   "source": [
    "b. finally:\n",
    "The finally block is executed regardless of whether an exception is raised or not."
   ]
  },
  {
   "cell_type": "code",
   "execution_count": 13,
   "id": "a4ba3525-3e75-466b-ba6b-369e217c45c4",
   "metadata": {},
   "outputs": [
    {
     "name": "stdout",
     "output_type": "stream",
     "text": [
      "The file does not exist.\n"
     ]
    },
    {
     "ename": "NameError",
     "evalue": "name 'f' is not defined",
     "output_type": "error",
     "traceback": [
      "\u001b[0;31m---------------------------------------------------------------------------\u001b[0m",
      "\u001b[0;31mNameError\u001b[0m                                 Traceback (most recent call last)",
      "Cell \u001b[0;32mIn[13], line 10\u001b[0m\n\u001b[1;32m      8\u001b[0m     \u001b[38;5;28mprint\u001b[39m(\u001b[38;5;124m\"\u001b[39m\u001b[38;5;124mThe file does not exist.\u001b[39m\u001b[38;5;124m\"\u001b[39m)\n\u001b[1;32m      9\u001b[0m \u001b[38;5;28;01mfinally\u001b[39;00m:\n\u001b[0;32m---> 10\u001b[0m     \u001b[43mf\u001b[49m\u001b[38;5;241m.\u001b[39mclose()\n",
      "\u001b[0;31mNameError\u001b[0m: name 'f' is not defined"
     ]
    }
   ],
   "source": [
    "# Here's an example:\n",
    "\n",
    "try:\n",
    "    f = open(\"file.txt\", \"r\")\n",
    "    contents = f.read()\n",
    "    print(contents)\n",
    "except FileNotFoundError:\n",
    "    print(\"The file does not exist.\")\n",
    "finally:\n",
    "    f.close()"
   ]
  },
  {
   "cell_type": "code",
   "execution_count": null,
   "id": "63de9193-e116-4146-a91c-1970fb80d314",
   "metadata": {},
   "outputs": [],
   "source": [
    "c. raise:\n",
    "The raise statement is used to raise an exception."
   ]
  },
  {
   "cell_type": "code",
   "execution_count": 14,
   "id": "a0ebbc24-5ab8-4d50-96fc-9a8ad9d2d41f",
   "metadata": {},
   "outputs": [
    {
     "name": "stdout",
     "output_type": "stream",
     "text": [
      "Cannot divide by zero.\n"
     ]
    }
   ],
   "source": [
    "# Here's an example:\n",
    "\n",
    "def divide(num1, num2):\n",
    "    if num2 == 0:\n",
    "        raise ValueError(\"Cannot divide by zero.\")\n",
    "    else:\n",
    "        return num1 / num2\n",
    "\n",
    "try:\n",
    "    result = divide(10, 0)\n",
    "except ValueError as e:\n",
    "    print(e)"
   ]
  },
  {
   "cell_type": "markdown",
   "id": "ff4a3022-973c-40ed-b8fd-c73b1993050e",
   "metadata": {},
   "source": [
    "5."
   ]
  },
  {
   "cell_type": "code",
   "execution_count": 15,
   "id": "089be80f-321b-4c82-b113-21b7281c7b0a",
   "metadata": {},
   "outputs": [
    {
     "data": {
      "text/plain": [
       "'Custom exceptions, also known as user-defined exceptions, are exceptions that are defined by the user. They allow us to create our own types of exceptions that can be raised when a specific error condition occurs.'"
      ]
     },
     "execution_count": 15,
     "metadata": {},
     "output_type": "execute_result"
    }
   ],
   "source": [
    "\"\"\"Custom exceptions, also known as user-defined exceptions, are exceptions that are defined by the user. They allow us to create our own types of exceptions that can be raised when a specific error condition occurs.\"\"\""
   ]
  },
  {
   "cell_type": "code",
   "execution_count": 16,
   "id": "10a34daa-f44c-42c4-9a98-8f9f84e0d9e5",
   "metadata": {},
   "outputs": [
    {
     "data": {
      "text/plain": [
       "'We need custom exceptions because sometimes the built-in exceptions are not enough to accurately describe the type of error that occurred in our program. For example, suppose we are writing a program that deals with file operations. We might want to define a custom exception called FileError that can be raised when any error occurs while accessing a file. This would make our code more readable and easier to debug.'"
      ]
     },
     "execution_count": 16,
     "metadata": {},
     "output_type": "execute_result"
    }
   ],
   "source": [
    "\"\"\"We need custom exceptions because sometimes the built-in exceptions are not enough to accurately describe the type of error that occurred in our program. For example, suppose we are writing a program that deals with file operations. We might want to define a custom exception called FileError that can be raised when any error occurs while accessing a file. This would make our code more readable and easier to debug.\"\"\""
   ]
  },
  {
   "cell_type": "code",
   "execution_count": 3,
   "id": "1cd0c6da-af94-4944-a0a9-5a1164fe6764",
   "metadata": {},
   "outputs": [
    {
     "name": "stdin",
     "output_type": "stream",
     "text": [
      "Enter your amount :  1000\n"
     ]
    },
    {
     "name": "stdout",
     "output_type": "stream",
     "text": [
      "You are not eligible to withdraw this amount.\n"
     ]
    }
   ],
   "source": [
    "# Here's an example of how to define and use a custom exception:\n",
    "\n",
    "import logging\n",
    "logging.basicConfig(filename = 'test1.log', level = logging.DEBUG)\n",
    "\n",
    "class bankbalanceError(Exception):\n",
    "    \"\"\" my custom exception class \"\"\"\n",
    "try:\n",
    "    balance = 2300\n",
    "    withdraw = int(input(\"Enter your amount : \"))\n",
    "    if balance - withdraw <= 2000:\n",
    "        raise bankbalanceError('You are not eligible to withdraw this amount.')\n",
    "    else:\n",
    "        logging.info(balance - withdraw)\n",
    "except bankbalanceError as e:\n",
    "    print(e)"
   ]
  },
  {
   "cell_type": "markdown",
   "id": "3cebb635-b19a-4faf-b7f3-845b3d38bcde",
   "metadata": {},
   "source": [
    "6."
   ]
  },
  {
   "cell_type": "code",
   "execution_count": 2,
   "id": "e58177cd-c2e5-4bf9-bd42-8d7a85d94589",
   "metadata": {},
   "outputs": [
    {
     "name": "stdin",
     "output_type": "stream",
     "text": [
      "Enter your age :  15\n"
     ]
    }
   ],
   "source": [
    "import logging\n",
    "logging.basicConfig(filename = 'test2.log', level = logging.DEBUG)\n",
    "\n",
    "class InvalidAge(Exception):\n",
    "    \"Raised when the input value is less than 18\"\n",
    "    pass\n",
    "\n",
    "\n",
    "age = 18\n",
    "try:\n",
    "    input_age = int(input(\"Enter your age : \"))\n",
    "    if input_age < age:\n",
    "        raise InvalidAge\n",
    "    else:\n",
    "        logging.info(\"Eligible to Vote\")\n",
    "        \n",
    "except InvalidAge:\n",
    "    logging.warning(\"Exception occurred: Invalid Age\")"
   ]
  },
  {
   "attachments": {
    "97a1d0d4-4e20-4756-9ddf-bf88e2e1f0d1.png": {
     "image/png": "[encoded data removed]"
    }
   },
   "cell_type": "markdown",
   "id": "14acc1d6-a44f-4ab8-9b5c-700b9c0c2301",
   "metadata": {},
   "source": [
    "![test2log.png](attachment:97a1d0d4-4e20-4756-9ddf-bf88e2e1f0d1.png)"
   ]
  }
 ],
 "metadata": {
  "kernelspec": {
   "display_name": "Python 3 (ipykernel)",
   "language": "python",
   "name": "python3"
  },
  "language_info": {
   "codemirror_mode": {
    "name": "ipython",
    "version": 3
   },
   "file_extension": ".py",
   "mimetype": "text/x-python",
   "name": "python",
   "nbconvert_exporter": "python",
   "pygments_lexer": "ipython3",
   "version": "3.10.8"
  }
 },
 "nbformat": 4,
 "nbformat_minor": 5
}
